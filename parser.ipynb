{
 "cells": [
  {
   "cell_type": "code",
   "execution_count": 1,
   "id": "comparative-dancing",
   "metadata": {},
   "outputs": [],
   "source": [
    "import requests\n",
    "from bs4 import BeautifulSoup\n",
    "import regex as re\n",
    "import pandas as pd"
   ]
  },
  {
   "cell_type": "markdown",
   "id": "sensitive-geography",
   "metadata": {},
   "source": [
    "Достаём HTML с сайта https://www.moscowmap.ru/metro.html#lines"
   ]
  },
  {
   "cell_type": "code",
   "execution_count": 2,
   "id": "valued-executive",
   "metadata": {},
   "outputs": [],
   "source": [
    "res = requests.get('https://www.moscowmap.ru/metro.html#lines')\n",
    "\n",
    "soup = BeautifulSoup(res.text)\n",
    "\n",
    "html_of_lines = soup.find_all('div', {'class': 'js-metro-stations t-metrostation-list-table'})"
   ]
  },
  {
   "cell_type": "markdown",
   "id": "everyday-gothic",
   "metadata": {},
   "source": [
    "Возращает словарик с метками линий как они размечены в html"
   ]
  },
  {
   "cell_type": "code",
   "execution_count": 3,
   "id": "soviet-reynolds",
   "metadata": {},
   "outputs": [],
   "source": [
    "def get_dict_of_lines(soup):\n",
    "    all_lines = soup.find_all('div', {'class': ['js-toggle-depend', 's-depend-control-single', 's-depend-is-init',\n",
    "                                                's-depend-control-active']})\n",
    "    dict_of_lines = dict()\n",
    "\n",
    "    for i, line in enumerate(all_lines):\n",
    "        t = line.text.replace(\" линия\", \"\")\n",
    "        t = t.replace(\" \", \"-\")\n",
    "        dict_of_lines[line.find('span')['class'][-1]] = t\n",
    "\n",
    "    return dict_of_lines"
   ]
  },
  {
   "cell_type": "markdown",
   "id": "forbidden-action",
   "metadata": {},
   "source": [
    "Возращает названние ветки по её индексу"
   ]
  },
  {
   "cell_type": "code",
   "execution_count": 4,
   "id": "regulated-slide",
   "metadata": {},
   "outputs": [],
   "source": [
    "def get_line_by_index(index):\n",
    "    all_lines = soup.find_all('div', {'class': ['js-toggle-depend', 's-depend-control-single', \n",
    "                                                's-depend-is-init', 's-depend-control-active']})\n",
    "    return all_lines[index].find('span')['class'][-1]"
   ]
  },
  {
   "cell_type": "code",
   "execution_count": 5,
   "id": "nutritional-miracle",
   "metadata": {},
   "outputs": [
    {
     "name": "stdout",
     "output_type": "stream",
     "text": [
      "{'ln-1': 'Сокольническая', 'ln-2': 'Замоскворецкая', 'ln-3': 'Арбатско-Покровская', 'ln-4': 'Филевская', 'ln-5': 'Кольцевая', 'ln-6': 'Калужско-Рижская', 'ln-7': 'Таганско-Краснопресненская', 'ln-8': 'Калининско-Солнцевская', 'ln-9': 'Серпуховско-Тимирязевская', 'ln-10': 'Люблинско-Дмитровская', 'ln-11': 'Большая-Кольцевая-Линия', 'ln-11A': 'Каховская', 'ln-12': 'Бутовская', 'ln-14': 'Центральное-Кольцо', 'ln-15': 'Некрасовская', 'ln-D1': 'МЦД-1', 'ln-D2': 'МЦД-2'}\n"
     ]
    }
   ],
   "source": [
    "dict_of_lines = get_dict_of_lines(soup)\n",
    "print(dict_of_lines)"
   ]
  },
  {
   "cell_type": "markdown",
   "id": "frank-exhaust",
   "metadata": {},
   "source": [
    "Проверяем есть ли у станции пересадки"
   ]
  },
  {
   "cell_type": "code",
   "execution_count": 6,
   "id": "damaged-puppy",
   "metadata": {},
   "outputs": [],
   "source": [
    "def has_transition(arr_spans):\n",
    "    return len(arr_spans) > 2"
   ]
  },
  {
   "cell_type": "markdown",
   "id": "utility-witness",
   "metadata": {},
   "source": [
    "Достаём название станции из кавычек"
   ]
  },
  {
   "cell_type": "code",
   "execution_count": 7,
   "id": "rough-contract",
   "metadata": {},
   "outputs": [],
   "source": [
    "def get_station(s):\n",
    "    return re.findall('«(.*?)»', s)[0]"
   ]
  },
  {
   "cell_type": "markdown",
   "id": "atomic-depression",
   "metadata": {},
   "source": [
    "Преобразуем к виду Название-Ветки_Имя-Станции"
   ]
  },
  {
   "cell_type": "code",
   "execution_count": 8,
   "id": "opposite-content",
   "metadata": {},
   "outputs": [],
   "source": [
    "def get_full_name(index, station):\n",
    "    l = dict_of_lines[get_line_by_index(index)].replace(\" линия\", \"\")\n",
    "    b = station.replace(\" \", \"-\")\n",
    "    return f\"{l}_{b}\""
   ]
  },
  {
   "cell_type": "code",
   "execution_count": 9,
   "id": "martial-monaco",
   "metadata": {},
   "outputs": [],
   "source": [
    "def get_line_by_transition(transition_span):\n",
    "    return transition_span['class'][1]"
   ]
  },
  {
   "cell_type": "markdown",
   "id": "light-microwave",
   "metadata": {},
   "source": [
    "Функция, преобразующая HTML в датафрейм соединенных станций и переходов с ветки на ветку\n",
    "Каждая станция дополнена её веткой"
   ]
  },
  {
   "cell_type": "code",
   "execution_count": 20,
   "id": "european-speed",
   "metadata": {},
   "outputs": [
    {
     "data": {
      "text/html": [
       "<div>\n",
       "<style scoped>\n",
       "    .dataframe tbody tr th:only-of-type {\n",
       "        vertical-align: middle;\n",
       "    }\n",
       "\n",
       "    .dataframe tbody tr th {\n",
       "        vertical-align: top;\n",
       "    }\n",
       "\n",
       "    .dataframe thead th {\n",
       "        text-align: right;\n",
       "    }\n",
       "</style>\n",
       "<table border=\"1\" class=\"dataframe\">\n",
       "  <thead>\n",
       "    <tr style=\"text-align: right;\">\n",
       "      <th></th>\n",
       "      <th>Start</th>\n",
       "      <th>End</th>\n",
       "      <th>W</th>\n",
       "    </tr>\n",
       "  </thead>\n",
       "  <tbody>\n",
       "    <tr>\n",
       "      <th>0</th>\n",
       "      <td>Сокольническая_Бульвар-Рокоссовского</td>\n",
       "      <td>Центральное-Кольцо_Бульвар-Рокоссовского</td>\n",
       "      <td>1</td>\n",
       "    </tr>\n",
       "    <tr>\n",
       "      <th>1</th>\n",
       "      <td>Сокольническая_Бульвар-Рокоссовского</td>\n",
       "      <td>Сокольническая_Черкизовская</td>\n",
       "      <td>10</td>\n",
       "    </tr>\n",
       "    <tr>\n",
       "      <th>2</th>\n",
       "      <td>Сокольническая_Черкизовская</td>\n",
       "      <td>Центральное-Кольцо_Локомотив</td>\n",
       "      <td>1</td>\n",
       "    </tr>\n",
       "    <tr>\n",
       "      <th>3</th>\n",
       "      <td>Сокольническая_Черкизовская</td>\n",
       "      <td>Сокольническая_Преображенская-площадь</td>\n",
       "      <td>10</td>\n",
       "    </tr>\n",
       "    <tr>\n",
       "      <th>4</th>\n",
       "      <td>Сокольническая_Преображенская-площадь</td>\n",
       "      <td>Сокольническая_Сокольники</td>\n",
       "      <td>10</td>\n",
       "    </tr>\n",
       "  </tbody>\n",
       "</table>\n",
       "</div>"
      ],
      "text/plain": [
       "                                   Start  \\\n",
       "0   Сокольническая_Бульвар-Рокоссовского   \n",
       "1   Сокольническая_Бульвар-Рокоссовского   \n",
       "2            Сокольническая_Черкизовская   \n",
       "3            Сокольническая_Черкизовская   \n",
       "4  Сокольническая_Преображенская-площадь   \n",
       "\n",
       "                                        End   W  \n",
       "0  Центральное-Кольцо_Бульвар-Рокоссовского   1  \n",
       "1               Сокольническая_Черкизовская  10  \n",
       "2              Центральное-Кольцо_Локомотив   1  \n",
       "3     Сокольническая_Преображенская-площадь  10  \n",
       "4                 Сокольническая_Сокольники  10  "
      ]
     },
     "execution_count": 20,
     "metadata": {},
     "output_type": "execute_result"
    }
   ],
   "source": [
    "out = pd.DataFrame()\n",
    "from_stations = []\n",
    "to_stations = []\n",
    "w = []\n",
    "for index, lines in enumerate(html_of_lines):\n",
    "    all_p = lines.find_all('p')\n",
    "    prev_station = None\n",
    "    \n",
    "    cs = []\n",
    "    \n",
    "    l = dict_of_lines[get_line_by_index(index)].lower()\n",
    "    \n",
    "    for i, p in enumerate(all_p):\n",
    "        spans = p.find_all('span')\n",
    "        station_name = spans[1].text\n",
    "        \n",
    "        if \"кольц\" in l and \"большая\" not in l and (i == 0 or i == (len(all_p) - 1)):\n",
    "            cs.append(get_full_name(index, station_name))\n",
    "            if i == 0:\n",
    "                w.append(10)\n",
    "            \n",
    "        if prev_station is None:\n",
    "            prev_station = station_name\n",
    "        else:\n",
    "            from_stations.append(get_full_name(index, prev_station))\n",
    "            to_stations.append(get_full_name(index, station_name))\n",
    "            prev_station = station_name\n",
    "            w.append(10)\n",
    "                        \n",
    "        if has_transition(spans):\n",
    "            for transition in spans[2:]:\n",
    "                station_name_to = get_station(transition['title'])\n",
    "                station_name_to = station_name_to.replace(\" \", \"-\")\n",
    "                station_name = station_name.replace(\" \", \"-\")\n",
    "                from_stations.append(f\"{dict_of_lines[get_line_by_index(index)]}_{station_name}\")\n",
    "                to_stations.append(f\"{dict_of_lines[get_line_by_transition(transition)]}_{station_name_to}\")\n",
    "                w.append(1)\n",
    "                \n",
    "    if len(cs) > 0:\n",
    "        from_stations.append(cs[0])\n",
    "        to_stations.append(cs[1])\n",
    "        cs = []\n",
    "                \n",
    "out['Start'] = from_stations\n",
    "out['End'] = to_stations\n",
    "out['W'] = w\n",
    "\n",
    "out.to_csv(\"out.csv\", index=False)\n",
    "\n",
    "out.head()"
   ]
  },
  {
   "cell_type": "code",
   "execution_count": null,
   "id": "fifteen-weather",
   "metadata": {},
   "outputs": [],
   "source": []
  }
 ],
 "metadata": {
  "kernelspec": {
   "display_name": "Python 3",
   "language": "python",
   "name": "python3"
  },
  "language_info": {
   "codemirror_mode": {
    "name": "ipython",
    "version": 3
   },
   "file_extension": ".py",
   "mimetype": "text/x-python",
   "name": "python",
   "nbconvert_exporter": "python",
   "pygments_lexer": "ipython3",
   "version": "3.8.5"
  }
 },
 "nbformat": 4,
 "nbformat_minor": 5
}
