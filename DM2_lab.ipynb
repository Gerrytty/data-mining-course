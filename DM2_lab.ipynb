{
 "cells": [
  {
   "cell_type": "markdown",
   "metadata": {
    "id": "LL64rzBzNZvW"
   },
   "source": [
    "# Анализ графов в Python\n",
    "Работа с графами в питоне на примере библиотеки NetworkX.\n",
    "\n"
   ]
  },
  {
   "cell_type": "code",
   "execution_count": 1,
   "metadata": {
    "executionInfo": {
     "elapsed": 1511,
     "status": "ok",
     "timestamp": 1614607248631,
     "user": {
      "displayName": "Азат Якупов",
      "photoUrl": "https://lh3.googleusercontent.com/a-/AOh14GiXfr4h73QVujxDgYuo5YT5NTvKbRdUvJZgVNe1=s64",
      "userId": "07632046420896531784"
     },
     "user_tz": -180
    },
    "id": "8LnFBFKDNZvW"
   },
   "outputs": [],
   "source": [
    "import networkx as nx\n",
    "\n",
    "import numpy as np\n",
    "import pandas as pd\n",
    "\n",
    "import matplotlib.pyplot as plt\n",
    "%matplotlib inline"
   ]
  },
  {
   "cell_type": "markdown",
   "metadata": {
    "id": "JmzX8dVhNZvW"
   },
   "source": [
    "Пример создания простого графа:"
   ]
  },
  {
   "cell_type": "code",
   "execution_count": 2,
   "metadata": {
    "executionInfo": {
     "elapsed": 683,
     "status": "ok",
     "timestamp": 1614607249975,
     "user": {
      "displayName": "Азат Якупов",
      "photoUrl": "https://lh3.googleusercontent.com/a-/AOh14GiXfr4h73QVujxDgYuo5YT5NTvKbRdUvJZgVNe1=s64",
      "userId": "07632046420896531784"
     },
     "user_tz": -180
    },
    "id": "iayTRUW8NZvW"
   },
   "outputs": [],
   "source": [
    "# Создаём заготовку графа, в которую будут добавляться вершины и рёбра.\n",
    "g = nx.Graph()"
   ]
  },
  {
   "cell_type": "markdown",
   "metadata": {
    "id": "uW0E7jpSNZvW"
   },
   "source": [
    "Добавление вершин:"
   ]
  },
  {
   "cell_type": "code",
   "execution_count": 3,
   "metadata": {
    "executionInfo": {
     "elapsed": 994,
     "status": "ok",
     "timestamp": 1614607253859,
     "user": {
      "displayName": "Азат Якупов",
      "photoUrl": "https://lh3.googleusercontent.com/a-/AOh14GiXfr4h73QVujxDgYuo5YT5NTvKbRdUvJZgVNe1=s64",
      "userId": "07632046420896531784"
     },
     "user_tz": -180
    },
    "id": "IcLcdoRPNZvX"
   },
   "outputs": [],
   "source": [
    "# Вершину графа можно называть как строкой, так и числом.\n",
    "g.add_node(1)\n",
    "g.add_node('n')\n",
    "\n",
    "# Добавление нескольких вершин сразу.\n",
    "g.add_nodes_from([2, 3])"
   ]
  },
  {
   "cell_type": "markdown",
   "metadata": {
    "id": "0_DgR-6FNZvX"
   },
   "source": [
    "Добавление рёбер:"
   ]
  },
  {
   "cell_type": "code",
   "execution_count": 5,
   "metadata": {
    "executionInfo": {
     "elapsed": 870,
     "status": "ok",
     "timestamp": 1614607256953,
     "user": {
      "displayName": "Азат Якупов",
      "photoUrl": "https://lh3.googleusercontent.com/a-/AOh14GiXfr4h73QVujxDgYuo5YT5NTvKbRdUvJZgVNe1=s64",
      "userId": "07632046420896531784"
     },
     "user_tz": -180
    },
    "id": "v0AlwzoMNZvX"
   },
   "outputs": [],
   "source": [
    "# Указываем две вершины, которые надо соединить.\n",
    "g.add_edge(1, 'n')\n",
    "\n",
    "# Добавление нескольких рёбер между указанными вершинами.\n",
    "g.add_edges_from([(1, 2), (1, 3)])\n",
    "\n",
    "# Добавление сразу двух вершин.\n",
    "# Создаются и новые вершины, и ребро между ними!\n",
    "g.add_edge('a', 'b', weight=0.1)\n",
    "g.add_edge('b', 'c', weight=1.5)\n",
    "g.add_edge('a', 'c', weight=1)\n",
    "g.add_edge('c', 'd', weight=0.2)\n",
    "g.add_edge('c', 153, weight=1.2)"
   ]
  },
  {
   "cell_type": "markdown",
   "metadata": {
    "id": "jHtR_vY-NZvX"
   },
   "source": [
    "Визуализация (при повторном запуске ячейки картинка может меняться):"
   ]
  },
  {
   "cell_type": "code",
   "execution_count": 8,
   "metadata": {
    "colab": {
     "base_uri": "https://localhost:8080/",
     "height": 265
    },
    "executionInfo": {
     "elapsed": 941,
     "status": "ok",
     "timestamp": 1614607261941,
     "user": {
      "displayName": "Азат Якупов",
      "photoUrl": "https://lh3.googleusercontent.com/a-/AOh14GiXfr4h73QVujxDgYuo5YT5NTvKbRdUvJZgVNe1=s64",
      "userId": "07632046420896531784"
     },
     "user_tz": -180
    },
    "id": "NLuzUjfoNZvX",
    "outputId": "961a96fa-fd4f-4834-8091-9e39f5d426ab"
   },
   "outputs": [
    {
     "name": "stdout",
     "output_type": "stream",
     "text": [
      "Graph nodes: [1, 'n', 2, 3, 'a', 'b', 'c', 'd', 153]\n"
     ]
    },
    {
     "data": {
      "image/png": "[encoded data removed]",
      "text/plain": [
       "<Figure size 432x288 with 1 Axes>"
      ]
     },
     "metadata": {},
     "output_type": "display_data"
    }
   ],
   "source": [
    "nx.draw_networkx(g, node_color='lightblue')\n",
    "plt.axis('off')\n",
    "\n",
    "print('Graph nodes:', g.nodes())"
   ]
  },
  {
   "cell_type": "markdown",
   "metadata": {
    "id": "m21GLBShNZvX"
   },
   "source": [
    "Вывод кратчайшего (или минимизирующего затраты) пути от одной вершины до другой:"
   ]
  },
  {
   "cell_type": "code",
   "execution_count": 9,
   "metadata": {
    "colab": {
     "base_uri": "https://localhost:8080/"
    },
    "executionInfo": {
     "elapsed": 846,
     "status": "ok",
     "timestamp": 1614607267426,
     "user": {
      "displayName": "Азат Якупов",
      "photoUrl": "https://lh3.googleusercontent.com/a-/AOh14GiXfr4h73QVujxDgYuo5YT5NTvKbRdUvJZgVNe1=s64",
      "userId": "07632046420896531784"
     },
     "user_tz": -180
    },
    "id": "ANuFFUepNZvX",
    "outputId": "77801424-5339-4865-ee0e-36f319461b8b",
    "scrolled": true
   },
   "outputs": [
    {
     "name": "stdout",
     "output_type": "stream",
     "text": [
      "['b', 'c', 'd']\n",
      "['b', 'a', 'c', 'd']\n"
     ]
    }
   ],
   "source": [
    "# Без учёта весов.\n",
    "print(nx.shortest_path(g, 'b', 'd'))\n",
    "\n",
    "# С учётом весов: теперь за переход по каждому ребру вносится плата.\n",
    "print(nx.shortest_path(g, 'b', 'd', weight='weight'))"
   ]
  },
  {
   "cell_type": "markdown",
   "metadata": {
    "id": "cMkuI0egNZvX"
   },
   "source": [
    "Точно так же, как ребру приписывался численный параметр `weight`, вершине можно приписывать любые характеристики:"
   ]
  },
  {
   "cell_type": "code",
   "execution_count": 10,
   "metadata": {
    "colab": {
     "base_uri": "https://localhost:8080/"
    },
    "executionInfo": {
     "elapsed": 975,
     "status": "ok",
     "timestamp": 1614607273717,
     "user": {
      "displayName": "Азат Якупов",
      "photoUrl": "https://lh3.googleusercontent.com/a-/AOh14GiXfr4h73QVujxDgYuo5YT5NTvKbRdUvJZgVNe1=s64",
      "userId": "07632046420896531784"
     },
     "user_tz": -180
    },
    "id": "VPTR_OpzNZvX",
    "outputId": "217bb0df-32b3-405b-918a-3fc9d363a19c"
   },
   "outputs": [
    {
     "data": {
      "text/plain": [
       "{'date': '06.05.2018', 'any_name': 'some information'}"
      ]
     },
     "execution_count": 10,
     "metadata": {},
     "output_type": "execute_result"
    }
   ],
   "source": [
    "g.add_node(\n",
    "    'node',\n",
    "    date='06.05.2018',\n",
    "    any_name='some information'\n",
    ")\n",
    "g.nodes['node']"
   ]
  },
  {
   "cell_type": "markdown",
   "metadata": {
    "id": "lfxANuRQNZvX"
   },
   "source": [
    "Т.е. каждый узел графа можно воспринимать как словарь `dict` с произвольными ключами и значениями.\n",
    "\n",
    "Фактически весь граф это просто словарь, где ключ -- номер вершины, значение -- набор вершин, соседних к ней:"
   ]
  },
  {
   "cell_type": "code",
   "execution_count": 11,
   "metadata": {
    "colab": {
     "base_uri": "https://localhost:8080/"
    },
    "executionInfo": {
     "elapsed": 987,
     "status": "ok",
     "timestamp": 1614607287365,
     "user": {
      "displayName": "Азат Якупов",
      "photoUrl": "https://lh3.googleusercontent.com/a-/AOh14GiXfr4h73QVujxDgYuo5YT5NTvKbRdUvJZgVNe1=s64",
      "userId": "07632046420896531784"
     },
     "user_tz": -180
    },
    "id": "9RobqPCrNZvX",
    "outputId": "df533265-e910-41ae-c972-c536c25578be"
   },
   "outputs": [
    {
     "data": {
      "text/plain": [
       "AdjacencyView({1: {'n': {}, 2: {}, 3: {}}, 'n': {1: {}}, 2: {1: {}}, 3: {1: {}}, 'a': {'b': {'weight': 0.1}, 'c': {'weight': 1}}, 'b': {'a': {'weight': 0.1}, 'c': {'weight': 1.5}}, 'c': {'b': {'weight': 1.5}, 'a': {'weight': 1}, 'd': {'weight': 0.2}, 153: {'weight': 1.2}}, 'd': {'c': {'weight': 0.2}}, 153: {'c': {'weight': 1.2}}, 'node': {}})"
      ]
     },
     "execution_count": 11,
     "metadata": {},
     "output_type": "execute_result"
    }
   ],
   "source": [
    "g.adj"
   ]
  },
  {
   "cell_type": "code",
   "execution_count": 12,
   "metadata": {
    "colab": {
     "base_uri": "https://localhost:8080/"
    },
    "executionInfo": {
     "elapsed": 601,
     "status": "ok",
     "timestamp": 1606321735117,
     "user": {
      "displayName": "Азат Якупов",
      "photoUrl": "https://lh3.googleusercontent.com/a-/AOh14GiXfr4h73QVujxDgYuo5YT5NTvKbRdUvJZgVNe1=s64",
      "userId": "07632046420896531784"
     },
     "user_tz": -180
    },
    "id": "9nwWLEaPNZvX",
    "outputId": "6326e87c-a291-499b-bead-11ba82ef25ff"
   },
   "outputs": [
    {
     "data": {
      "text/plain": [
       "AtlasView({'b': {'weight': 1.5}, 'a': {'weight': 1}, 'd': {'weight': 0.2}, 153: {'weight': 1.2}})"
      ]
     },
     "execution_count": 12,
     "metadata": {},
     "output_type": "execute_result"
    }
   ],
   "source": [
    "g['c']"
   ]
  },
  {
   "cell_type": "markdown",
   "metadata": {
    "id": "bTdwgYS9NZvX"
   },
   "source": [
    "Можно вывести и другое традиционное представление графа в виде матрицы смежности:"
   ]
  },
  {
   "cell_type": "code",
   "execution_count": 13,
   "metadata": {
    "colab": {
     "base_uri": "https://localhost:8080/"
    },
    "executionInfo": {
     "elapsed": 746,
     "status": "ok",
     "timestamp": 1606321748074,
     "user": {
      "displayName": "Азат Якупов",
      "photoUrl": "https://lh3.googleusercontent.com/a-/AOh14GiXfr4h73QVujxDgYuo5YT5NTvKbRdUvJZgVNe1=s64",
      "userId": "07632046420896531784"
     },
     "user_tz": -180
    },
    "id": "MDapoO7PNZvX",
    "outputId": "d0731c06-edc0-407c-e663-7f2d1e744a7d"
   },
   "outputs": [
    {
     "data": {
      "text/plain": [
       "matrix([[0. , 1. , 1. , 1. , 0. , 0. , 0. , 0. , 0. , 0. ],\n",
       "        [1. , 0. , 0. , 0. , 0. , 0. , 0. , 0. , 0. , 0. ],\n",
       "        [1. , 0. , 0. , 0. , 0. , 0. , 0. , 0. , 0. , 0. ],\n",
       "        [1. , 0. , 0. , 0. , 0. , 0. , 0. , 0. , 0. , 0. ],\n",
       "        [0. , 0. , 0. , 0. , 0. , 0.1, 1. , 0. , 0. , 0. ],\n",
       "        [0. , 0. , 0. , 0. , 0.1, 0. , 1.5, 0. , 0. , 0. ],\n",
       "        [0. , 0. , 0. , 0. , 1. , 1.5, 0. , 0.2, 1.2, 0. ],\n",
       "        [0. , 0. , 0. , 0. , 0. , 0. , 0.2, 0. , 0. , 0. ],\n",
       "        [0. , 0. , 0. , 0. , 0. , 0. , 1.2, 0. , 0. , 0. ],\n",
       "        [0. , 0. , 0. , 0. , 0. , 0. , 0. , 0. , 0. , 0. ]])"
      ]
     },
     "execution_count": 13,
     "metadata": {},
     "output_type": "execute_result"
    }
   ],
   "source": [
    "nx.adjacency_matrix(g).todense()"
   ]
  },
  {
   "cell_type": "markdown",
   "metadata": {
    "id": "Y8kX7X7lNZvX"
   },
   "source": [
    "Получение числа вершин графа:"
   ]
  },
  {
   "cell_type": "code",
   "execution_count": 14,
   "metadata": {
    "colab": {
     "base_uri": "https://localhost:8080/"
    },
    "executionInfo": {
     "elapsed": 673,
     "status": "ok",
     "timestamp": 1606321932634,
     "user": {
      "displayName": "Азат Якупов",
      "photoUrl": "https://lh3.googleusercontent.com/a-/AOh14GiXfr4h73QVujxDgYuo5YT5NTvKbRdUvJZgVNe1=s64",
      "userId": "07632046420896531784"
     },
     "user_tz": -180
    },
    "id": "n7psRGN4NZvX",
    "outputId": "d9c265c6-abab-45f8-aae3-5e516dcbc3e2"
   },
   "outputs": [
    {
     "data": {
      "text/plain": [
       "10"
      ]
     },
     "execution_count": 14,
     "metadata": {},
     "output_type": "execute_result"
    }
   ],
   "source": [
    "g.number_of_nodes()"
   ]
  },
  {
   "cell_type": "code",
   "execution_count": 15,
   "metadata": {
    "colab": {
     "base_uri": "https://localhost:8080/"
    },
    "executionInfo": {
     "elapsed": 1088,
     "status": "ok",
     "timestamp": 1606321935013,
     "user": {
      "displayName": "Азат Якупов",
      "photoUrl": "https://lh3.googleusercontent.com/a-/AOh14GiXfr4h73QVujxDgYuo5YT5NTvKbRdUvJZgVNe1=s64",
      "userId": "07632046420896531784"
     },
     "user_tz": -180
    },
    "id": "7BMm77irNZvY",
    "outputId": "6ce6dcd3-c9a7-4d1b-bcbe-f9c3297940c3"
   },
   "outputs": [
    {
     "data": {
      "text/plain": [
       "10"
      ]
     },
     "execution_count": 15,
     "metadata": {},
     "output_type": "execute_result"
    }
   ],
   "source": [
    "len(g)"
   ]
  },
  {
   "cell_type": "markdown",
   "metadata": {
    "id": "W5GOqn2tNZvY"
   },
   "source": [
    "Числа рёбер:"
   ]
  },
  {
   "cell_type": "code",
   "execution_count": 16,
   "metadata": {
    "colab": {
     "base_uri": "https://localhost:8080/"
    },
    "executionInfo": {
     "elapsed": 673,
     "status": "ok",
     "timestamp": 1606321938877,
     "user": {
      "displayName": "Азат Якупов",
      "photoUrl": "https://lh3.googleusercontent.com/a-/AOh14GiXfr4h73QVujxDgYuo5YT5NTvKbRdUvJZgVNe1=s64",
      "userId": "07632046420896531784"
     },
     "user_tz": -180
    },
    "id": "5fscaRxtNZvY",
    "outputId": "209d5852-f666-485a-c853-b8902a406f9b"
   },
   "outputs": [
    {
     "data": {
      "text/plain": [
       "8"
      ]
     },
     "execution_count": 16,
     "metadata": {},
     "output_type": "execute_result"
    }
   ],
   "source": [
    "g.number_of_edges()"
   ]
  },
  {
   "cell_type": "markdown",
   "metadata": {
    "id": "tXvEakpdNZvY"
   },
   "source": [
    "Совокупная информация:"
   ]
  },
  {
   "cell_type": "code",
   "execution_count": 17,
   "metadata": {
    "colab": {
     "base_uri": "https://localhost:8080/"
    },
    "executionInfo": {
     "elapsed": 626,
     "status": "ok",
     "timestamp": 1606321942336,
     "user": {
      "displayName": "Азат Якупов",
      "photoUrl": "https://lh3.googleusercontent.com/a-/AOh14GiXfr4h73QVujxDgYuo5YT5NTvKbRdUvJZgVNe1=s64",
      "userId": "07632046420896531784"
     },
     "user_tz": -180
    },
    "id": "-RQowvwmNZvY",
    "outputId": "d01d6e91-da77-4a6f-ae44-47f30f8c2b76"
   },
   "outputs": [
    {
     "name": "stdout",
     "output_type": "stream",
     "text": [
      "Name: \n",
      "Type: Graph\n",
      "Number of nodes: 10\n",
      "Number of edges: 8\n",
      "Average degree:   1.6000\n"
     ]
    }
   ],
   "source": [
    "print(nx.info(g))"
   ]
  },
  {
   "cell_type": "markdown",
   "metadata": {
    "id": "BqCSIz4-NZvY"
   },
   "source": [
    "При работе с графами часто бывает полезным получить доступ ко всем вершинам / рёбрам, что позволяет сделать метод `.nodes()` / `.edges()`:"
   ]
  },
  {
   "cell_type": "code",
   "execution_count": 18,
   "metadata": {
    "colab": {
     "base_uri": "https://localhost:8080/"
    },
    "executionInfo": {
     "elapsed": 661,
     "status": "ok",
     "timestamp": 1606321950548,
     "user": {
      "displayName": "Азат Якупов",
      "photoUrl": "https://lh3.googleusercontent.com/a-/AOh14GiXfr4h73QVujxDgYuo5YT5NTvKbRdUvJZgVNe1=s64",
      "userId": "07632046420896531784"
     },
     "user_tz": -180
    },
    "id": "ozXvsfypNZvY",
    "outputId": "a5ae5dfd-ee5d-4b80-9719-b189067e007f"
   },
   "outputs": [
    {
     "data": {
      "text/plain": [
       "NodeDataView({1: {}, 'n': {}, 2: {}, 3: {}, 'a': {}, 'b': {}, 'c': {}, 'd': {}, 153: {}, 'node': {'date': '06.05.2018', 'any_name': 'some information'}})"
      ]
     },
     "execution_count": 18,
     "metadata": {},
     "output_type": "execute_result"
    }
   ],
   "source": [
    "g.nodes(data=True)"
   ]
  },
  {
   "cell_type": "code",
   "execution_count": 19,
   "metadata": {
    "colab": {
     "base_uri": "https://localhost:8080/"
    },
    "executionInfo": {
     "elapsed": 1032,
     "status": "ok",
     "timestamp": 1606321954260,
     "user": {
      "displayName": "Азат Якупов",
      "photoUrl": "https://lh3.googleusercontent.com/a-/AOh14GiXfr4h73QVujxDgYuo5YT5NTvKbRdUvJZgVNe1=s64",
      "userId": "07632046420896531784"
     },
     "user_tz": -180
    },
    "id": "ay55jzYzNZvY",
    "outputId": "fad1323a-3b67-4927-d63f-7b7fad8e429a"
   },
   "outputs": [
    {
     "data": {
      "text/plain": [
       "EdgeDataView([(1, 'n', {}), (1, 2, {}), (1, 3, {}), ('a', 'b', {'weight': 0.1}), ('a', 'c', {'weight': 1}), ('b', 'c', {'weight': 1.5}), ('c', 'd', {'weight': 0.2}), ('c', 153, {'weight': 1.2})])"
      ]
     },
     "execution_count": 19,
     "metadata": {},
     "output_type": "execute_result"
    }
   ],
   "source": [
    "g.edges(data=True)"
   ]
  },
  {
   "cell_type": "code",
   "execution_count": 20,
   "metadata": {
    "colab": {
     "base_uri": "https://localhost:8080/"
    },
    "executionInfo": {
     "elapsed": 729,
     "status": "ok",
     "timestamp": 1606321956263,
     "user": {
      "displayName": "Азат Якупов",
      "photoUrl": "https://lh3.googleusercontent.com/a-/AOh14GiXfr4h73QVujxDgYuo5YT5NTvKbRdUvJZgVNe1=s64",
      "userId": "07632046420896531784"
     },
     "user_tz": -180
    },
    "id": "jLsy4t8ANZvY",
    "outputId": "66a1db74-d84c-4f7e-c2b0-83ea49428903",
    "scrolled": true
   },
   "outputs": [
    {
     "name": "stdout",
     "output_type": "stream",
     "text": [
      "1 3\n",
      "n 1\n",
      "2 1\n",
      "3 1\n",
      "a 2\n",
      "b 2\n",
      "c 4\n",
      "d 1\n",
      "153 1\n",
      "node 0\n"
     ]
    }
   ],
   "source": [
    "for node in g.nodes():\n",
    "    print(node, g.degree(node))"
   ]
  },
  {
   "cell_type": "markdown",
   "metadata": {
    "id": "Nf2nsnYZNZvY"
   },
   "source": [
    "## Реальные данные\n",
    "\n",
    "Считаем данные о станциях московского метрополитена в 2014 году:"
   ]
  },
  {
   "cell_type": "code",
   "execution_count": null,
   "metadata": {
    "id": "HVLz_smHNZvY"
   },
   "outputs": [],
   "source": [
    "# Формат : две станции записаны в одной строке, если между ними есть перегон.\n",
    "# Создать/найти csv файл с описанием связи между станциями метрополитена Москвы\n",
    "metro_data = pd.read_csv('...')\n",
    "\n",
    "metro_data.head()"
   ]
  },
  {
   "cell_type": "markdown",
   "metadata": {
    "id": "wdtHWLRENZvY"
   },
   "source": [
    "Общее число станций:"
   ]
  },
  {
   "cell_type": "code",
   "execution_count": null,
   "metadata": {
    "id": "dx6-iXKkNZvY"
   },
   "outputs": [],
   "source": [
    "len(metro_data['Start station'].unique())"
   ]
  },
  {
   "cell_type": "markdown",
   "metadata": {
    "id": "aeo9xw7BNZvY"
   },
   "source": [
    "Загрузим данные в граф из подготовленной таблицы:\n",
    "\n",
    "- вершинами будут названия станций\n",
    "- ребро между двумя станциями проводится, если между станциями есть перегон"
   ]
  },
  {
   "cell_type": "code",
   "execution_count": null,
   "metadata": {
    "id": "PZiMbSvHNZvY"
   },
   "outputs": [],
   "source": [
    "metro_graph = nx.from_pandas_edgelist(metro_data, source='Start station', target='End station')\n",
    "\n",
    "# Указываем, что направление перегона между станциями нас не интересует.\n",
    "# (как правило, можем поехать в обе стороны)\n",
    "metro_graph = nx.to_undirected(metro_graph)\n",
    "\n",
    "print(nx.info(metro_graph))"
   ]
  },
  {
   "cell_type": "markdown",
   "metadata": {
    "id": "ghxkVIvtNZvY"
   },
   "source": [
    "Нарисуем граф и сохраним его во внешний файл (изменение размера картинки и сохранение делается средствами matplotlib'а):"
   ]
  },
  {
   "cell_type": "code",
   "execution_count": null,
   "metadata": {
    "id": "rrcNEZWeNZvY",
    "scrolled": true
   },
   "outputs": [],
   "source": [
    "plt.figure(figsize=(40, 40)) \n",
    "\n",
    "# Можно поэкспериментировать со способом отрисовки: помимо draw_networkx есть такие:\n",
    "# draw_circular, draw_spectral, draw_random, etc.\n",
    "nx.draw_networkx(metro_graph, with_labels=True, node_color='white', node_size=500)\n",
    "\n",
    "plt.savefig('metro_2014.png', bbox_inches='tight')"
   ]
  },
  {
   "cell_type": "markdown",
   "metadata": {
    "id": "i__Z-wfCNZvY"
   },
   "source": [
    "Все степени вершин доступны в поле `.degree`, которое похоже по структуре на словарь из пар Имя_вершины: Степень_вершины. Чтобы можно было работать, как со словарём, достаточно навесить преобразование `dict()`:"
   ]
  },
  {
   "cell_type": "code",
   "execution_count": null,
   "metadata": {
    "id": "aIvQC1TYNZvY",
    "scrolled": true
   },
   "outputs": [],
   "source": [
    "dict(metro_graph.degree)"
   ]
  },
  {
   "cell_type": "markdown",
   "metadata": {
    "id": "C3128sgXNZvY"
   },
   "source": [
    "Постройте гистограмму степеней вершин. Подпишите оси и название графика."
   ]
  },
  {
   "cell_type": "code",
   "execution_count": null,
   "metadata": {
    "id": "5Ip2KV9SNZvY"
   },
   "outputs": [],
   "source": [
    "plt.bar(dict(metro_graph.degree).keys(), dict(metro_graph.degree).values())\n",
    "plt.title('Гистограмма степеней вершин')\n",
    "plt.xlabel('Станция метро')\n",
    "plt.ylabel('Степень')"
   ]
  },
  {
   "cell_type": "markdown",
   "metadata": {
    "id": "AjLgICz0NZvY"
   },
   "source": [
    "Почему наибольшее число вершин имеет степень $2$?\n",
    "\n",
    "Выведите станцию, которая соединена с наибольшим числом станций (т.е. вершина станции имеет наибольшую степень). Для этого понадобится пройтись циклом по всем парам вершина-степень и запомнить пару с максимальной степенью."
   ]
  },
  {
   "cell_type": "code",
   "execution_count": null,
   "metadata": {
    "id": "zipvWU3LNZvY"
   },
   "outputs": [],
   "source": [
    "xres=('unknown',-1)\n",
    "for r in metro_graph.degree:\n",
    "    if (xres[1] < r[1]):\n",
    "        xres=r\n",
    "\n",
    "xres"
   ]
  },
  {
   "cell_type": "markdown",
   "metadata": {
    "id": "lH8Zw6p7NZvY"
   },
   "source": [
    "С помощью `pandas` выведите станции, на которые можно попасть напрямую от найденной (т.е. те, которые соединены с ней):"
   ]
  },
  {
   "cell_type": "code",
   "execution_count": null,
   "metadata": {
    "id": "mbHsQ7hINZvY"
   },
   "outputs": [],
   "source": [
    "metro_data[(metro_data['Start station'] == xres[0])]"
   ]
  },
  {
   "cell_type": "markdown",
   "metadata": {
    "id": "_2UDHejONZvY"
   },
   "source": [
    "Библиотека NetworkX позволяет найти кратчайший путь между вершинами, по которому можно судить об их взаимном расположении:"
   ]
  },
  {
   "cell_type": "code",
   "execution_count": null,
   "metadata": {
    "id": "Lij9N61NNZvY"
   },
   "outputs": [],
   "source": [
    "nx.shortest_path(metro_graph, 'Сокольническая_Библиотека_имени_Ленина', 'Серпуховско-Тимирязевская_Боровицкая')"
   ]
  },
  {
   "cell_type": "code",
   "execution_count": null,
   "metadata": {
    "id": "Ih9TpRx_NZvY"
   },
   "outputs": [],
   "source": [
    "nx.shortest_path(metro_graph, 'Сокольническая_Библиотека_имени_Ленина', 'Серпуховско-Тимирязевская_Полянка')"
   ]
  },
  {
   "cell_type": "markdown",
   "metadata": {
    "id": "UUCYtIR7NZvY"
   },
   "source": [
    "А ещё можно вывести кратчайшие пути до всех вершин от данной:"
   ]
  },
  {
   "cell_type": "code",
   "execution_count": null,
   "metadata": {
    "id": "SVwJYJdMNZvY",
    "scrolled": true
   },
   "outputs": [],
   "source": [
    "nx.single_source_shortest_path(metro_graph, 'Сокольническая_Библиотека_имени_Ленина')"
   ]
  },
  {
   "cell_type": "markdown",
   "metadata": {
    "id": "xW2jgFxzNZvY"
   },
   "source": [
    "Выделим некоторые кратчайшие пути цветом (при желании можно сохранить картинку, как и раньше)."
   ]
  },
  {
   "cell_type": "code",
   "execution_count": null,
   "metadata": {
    "id": "rNaQMFjLNZvY"
   },
   "outputs": [],
   "source": [
    "# Функция для выделения цветом путей, пример использования ниже.\n",
    "# https://github.com/jtorrents/pydata_bcn_NetworkX/blob/master/NetworkX_SNA_workshop_with_solutions.ipynb\n",
    "def plot_paths(G, paths):\n",
    "    plt.figure(figsize=(36, 36))\n",
    "    pos = nx.fruchterman_reingold_layout(G)\n",
    "    nx.draw_networkx_nodes(G, pos=pos, node_size=4000, node_color='white')\n",
    "    nx.draw_networkx_labels(G, pos=pos, labels={n: n for n in G})\n",
    "    # Draw edges\n",
    "    nx.draw_networkx_edges(G, pos=pos)\n",
    "    for path in paths:\n",
    "        edges = list(zip(path, path[1:]))\n",
    "        nx.draw_networkx_edges(G, pos=pos, edgelist=edges, edge_color='red', width=3)\n",
    "    ax = plt.gca()\n",
    "    ax.set_axis_off()\n",
    "    ax.grid(None)"
   ]
  },
  {
   "cell_type": "code",
   "execution_count": null,
   "metadata": {
    "id": "uVncSPBaNZvY"
   },
   "outputs": [],
   "source": [
    "# Вывод кратчайших путей из одной вершины до всех остальных.\n",
    "plot_paths(metro_graph, nx.single_source_shortest_path(metro_graph, 'Сокольническая_Библиотека_имени_Ленина').values())"
   ]
  },
  {
   "cell_type": "code",
   "execution_count": null,
   "metadata": {
    "id": "gPpgYIi0NZvY"
   },
   "outputs": [],
   "source": [
    "# Вывод нескольких кратчайших путей между конкретными парами вершин.\n",
    "plot_paths(\n",
    "    metro_graph,\n",
    "    [\n",
    "        nx.shortest_path(metro_graph, 'Сокольническая_Библиотека_имени_Ленина', 'Серпуховско-Тимирязевская_Алтуфьево'),\n",
    "        nx.shortest_path(metro_graph, 'Сокольническая_Сокольники', 'Калужско-Рижская_Третьяковская')\n",
    "    ]\n",
    ")"
   ]
  },
  {
   "cell_type": "markdown",
   "metadata": {
    "id": "SRHd7r0xNZvY"
   },
   "source": [
    "### Bonus task: раскрашиваем граф метро\n",
    "Конечно, можно нарисовать карту метро вот так:"
   ]
  },
  {
   "cell_type": "code",
   "execution_count": null,
   "metadata": {
    "id": "9NY2iwJ3NZvY"
   },
   "outputs": [],
   "source": [
    "plt.figure(figsize=(16, 16)) \n",
    "\n",
    "nx.draw_networkx(metro_graph, with_labels=False)"
   ]
  },
  {
   "cell_type": "markdown",
   "metadata": {
    "id": "j5bojt9oNZvY"
   },
   "source": [
    "А можно каждую вершину подкрасить цветом соответствующей ветки!\n",
    "\n",
    "Для этого сначала создадим словарь с названиями цветов для каждой ветки (при желании поменяйте цвета на своё усмотрение, таблица с matplotlib'овскими цветами [тут](https://matplotlib.org/examples/color/named_colors)):"
   ]
  },
  {
   "cell_type": "code",
   "execution_count": 10,
   "metadata": {
    "executionInfo": {
     "elapsed": 1132,
     "status": "ok",
     "timestamp": 1614607339811,
     "user": {
      "displayName": "Азат Якупов",
      "photoUrl": "https://lh3.googleusercontent.com/a-/AOh14GiXfr4h73QVujxDgYuo5YT5NTvKbRdUvJZgVNe1=s64",
      "userId": "07632046420896531784"
     },
     "user_tz": -180
    },
    "id": "XsxVY62wNZvY"
   },
   "outputs": [],
   "source": [
    "line_colors = {\n",
    "    'Сокольническая': 'red',\n",
    "    'Замоскворецкая': 'green',\n",
    "    'Арбатско-Покровская': 'darkblue',\n",
    "    'Филевская': 'blue',\n",
    "    'Кольцевая': 'saddlebrown',\n",
    "    'Калужско-Рижская': 'orangered',\n",
    "    'Таганско-Краснопресненская': 'blueviolet',\n",
    "    'Калининская': 'gold',\n",
    "    'Серпуховско-Тимирязевская': 'gray',\n",
    "    'Люблинская': 'lawngreen',\n",
    "    'Каховская': 'palegreen',\n",
    "    'Бутовская': 'lightsteelblue',\n",
    "}"
   ]
  },
  {
   "cell_type": "markdown",
   "metadata": {
    "id": "9aeysk1nNZvY"
   },
   "source": [
    "Ниже приведена функция, которая принимает название станции в формате `Имя-ветки_Имя-станции` (именно в таком формате хранятся названия в нашей таблице) и словарь вида `Имя-ветки: Цвет` (уже определённый `line_colors`). Функция возвращает цвет станции в соответствии с веткой, на которой она расположена."
   ]
  },
  {
   "cell_type": "code",
   "execution_count": 9,
   "metadata": {
    "executionInfo": {
     "elapsed": 908,
     "status": "ok",
     "timestamp": 1614607335186,
     "user": {
      "displayName": "Азат Якупов",
      "photoUrl": "https://lh3.googleusercontent.com/a-/AOh14GiXfr4h73QVujxDgYuo5YT5NTvKbRdUvJZgVNe1=s64",
      "userId": "07632046420896531784"
     },
     "user_tz": -180
    },
    "id": "OCEjS5XSNZvY"
   },
   "outputs": [],
   "source": [
    "def return_station_color(station, line_colors):\n",
    "    for line in line_colors:\n",
    "        if station.startswith(line):\n",
    "            return line_colors[line]\n",
    "    print('Something went wrong: couldn\\'t find the line for station {}.\\nReturn black color.'.format(station))\n",
    "    return 'black'"
   ]
  },
  {
   "cell_type": "markdown",
   "metadata": {
    "id": "XIoyNf-cNZvY"
   },
   "source": [
    "Пример использования:"
   ]
  },
  {
   "cell_type": "code",
   "execution_count": null,
   "metadata": {
    "id": "jBmRFlvLNZvY"
   },
   "outputs": [],
   "source": [
    "return_station_color('Калининская_Третьяковская', line_colors)"
   ]
  },
  {
   "cell_type": "code",
   "execution_count": null,
   "metadata": {
    "id": "s-PXGTNqNZvZ"
   },
   "outputs": [],
   "source": [
    "return_station_color('Третьяковская', line_colors)"
   ]
  },
  {
   "cell_type": "markdown",
   "metadata": {
    "id": "ah_S3rX4NZvZ"
   },
   "source": [
    "Создайте список цветов для наших вершин.\n",
    "\n",
    "Для этого надо в цикле пройтись по всем вершинам в `metro_graph.nodes()` и добавить в список их цвета:"
   ]
  },
  {
   "cell_type": "code",
   "execution_count": null,
   "metadata": {
    "id": "pmtLO2OCNZvZ"
   },
   "outputs": [],
   "source": [
    "station_colors = []\n",
    "\n",
    "for r in metro_graph.nodes():\n",
    "    station_colors.append(return_station_color(r, line_colors))\n"
   ]
  },
  {
   "cell_type": "code",
   "execution_count": null,
   "metadata": {
    "id": "3O9jSSHYNZvZ"
   },
   "outputs": [],
   "source": [
    "plt.figure(figsize=(16, 16)) \n",
    "\n",
    "# Опять же, можно поиграть со способами отрисовки.\n",
    "nx.draw_networkx(metro_graph, with_labels=False, node_color=station_colors)"
   ]
  }
 ],
 "metadata": {
  "colab": {
   "collapsed_sections": [],
   "name": "DM2_lab.ipynb",
   "provenance": []
  },
  "kernelspec": {
   "display_name": "Python 3",
   "language": "python",
   "name": "python3"
  },
  "language_info": {
   "codemirror_mode": {
    "name": "ipython",
    "version": 3
   },
   "file_extension": ".py",
   "mimetype": "text/x-python",
   "name": "python",
   "nbconvert_exporter": "python",
   "pygments_lexer": "ipython3",
   "version": "3.8.5"
  },
  "varInspector": {
   "cols": {
    "lenName": 16,
    "lenType": 16,
    "lenVar": 40
   },
   "kernels_config": {
    "python": {
     "delete_cmd_postfix": "",
     "delete_cmd_prefix": "del ",
     "library": "var_list.py",
     "varRefreshCmd": "print(var_dic_list())"
    },
    "r": {
     "delete_cmd_postfix": ") ",
     "delete_cmd_prefix": "rm(",
     "library": "var_list.r",
     "varRefreshCmd": "cat(var_dic_list()) "
    }
   },
   "types_to_exclude": [
    "module",
    "function",
    "builtin_function_or_method",
    "instance",
    "_Feature"
   ],
   "window_display": false
  }
 },
 "nbformat": 4,
 "nbformat_minor": 1
}
