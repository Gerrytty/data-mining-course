{
  "nbformat": 4,
  "nbformat_minor": 5,
  "metadata": {
    "kernelspec": {
      "display_name": "Python 3",
      "language": "python",
      "name": "python3"
    },
    "language_info": {
      "codemirror_mode": {
        "name": "ipython",
        "version": 3
      },
      "file_extension": ".py",
      "mimetype": "text/x-python",
      "name": "python",
      "nbconvert_exporter": "python",
      "pygments_lexer": "ipython3",
      "version": "3.8.5"
    },
    "colab": {
      "name": "coronovirus_analyse.ipynb",
      "provenance": [],
      "collapsed_sections": []
    }
  },
  "cells": [
    {
      "cell_type": "code",
      "metadata": {
        "id": "tutorial-boston"
      },
      "source": [
        "import pandas as pd\n",
        "import numpy as np\n",
        "import matplotlib.pyplot as plt\n",
        "import seaborn as sns\n",
        "from scipy.stats import ks_2samp\n",
        "\n",
        "%matplotlib inline"
      ],
      "id": "tutorial-boston",
      "execution_count": null,
      "outputs": []
    },
    {
      "cell_type": "code",
      "metadata": {
        "id": "abstract-spelling",
        "outputId": "e41087e8-202d-43e9-cf7d-53dcf2614184"
      },
      "source": [
        "coronovirus_data = pd.read_csv(\"data/owid-covid-data.csv\")\n",
        "\n",
        "coronovirus_data.head()"
      ],
      "id": "abstract-spelling",
      "execution_count": null,
      "outputs": [
        {
          "output_type": "execute_result",
          "data": {
            "text/html": [
              "<div>\n",
              "<style scoped>\n",
              "    .dataframe tbody tr th:only-of-type {\n",
              "        vertical-align: middle;\n",
              "    }\n",
              "\n",
              "    .dataframe tbody tr th {\n",
              "        vertical-align: top;\n",
              "    }\n",
              "\n",
              "    .dataframe thead th {\n",
              "        text-align: right;\n",
              "    }\n",
              "</style>\n",
              "<table border=\"1\" class=\"dataframe\">\n",
              "  <thead>\n",
              "    <tr style=\"text-align: right;\">\n",
              "      <th></th>\n",
              "      <th>iso_code</th>\n",
              "      <th>continent</th>\n",
              "      <th>location</th>\n",
              "      <th>date</th>\n",
              "      <th>total_cases</th>\n",
              "      <th>new_cases</th>\n",
              "      <th>new_cases_smoothed</th>\n",
              "      <th>total_deaths</th>\n",
              "      <th>new_deaths</th>\n",
              "      <th>new_deaths_smoothed</th>\n",
              "      <th>...</th>\n",
              "      <th>gdp_per_capita</th>\n",
              "      <th>extreme_poverty</th>\n",
              "      <th>cardiovasc_death_rate</th>\n",
              "      <th>diabetes_prevalence</th>\n",
              "      <th>female_smokers</th>\n",
              "      <th>male_smokers</th>\n",
              "      <th>handwashing_facilities</th>\n",
              "      <th>hospital_beds_per_thousand</th>\n",
              "      <th>life_expectancy</th>\n",
              "      <th>human_development_index</th>\n",
              "    </tr>\n",
              "  </thead>\n",
              "  <tbody>\n",
              "    <tr>\n",
              "      <th>0</th>\n",
              "      <td>AFG</td>\n",
              "      <td>Asia</td>\n",
              "      <td>Afghanistan</td>\n",
              "      <td>2020-02-24</td>\n",
              "      <td>1.0</td>\n",
              "      <td>1.0</td>\n",
              "      <td>NaN</td>\n",
              "      <td>NaN</td>\n",
              "      <td>NaN</td>\n",
              "      <td>NaN</td>\n",
              "      <td>...</td>\n",
              "      <td>1803.987</td>\n",
              "      <td>NaN</td>\n",
              "      <td>597.029</td>\n",
              "      <td>9.59</td>\n",
              "      <td>NaN</td>\n",
              "      <td>NaN</td>\n",
              "      <td>37.746</td>\n",
              "      <td>0.5</td>\n",
              "      <td>64.83</td>\n",
              "      <td>0.511</td>\n",
              "    </tr>\n",
              "    <tr>\n",
              "      <th>1</th>\n",
              "      <td>AFG</td>\n",
              "      <td>Asia</td>\n",
              "      <td>Afghanistan</td>\n",
              "      <td>2020-02-25</td>\n",
              "      <td>1.0</td>\n",
              "      <td>0.0</td>\n",
              "      <td>NaN</td>\n",
              "      <td>NaN</td>\n",
              "      <td>NaN</td>\n",
              "      <td>NaN</td>\n",
              "      <td>...</td>\n",
              "      <td>1803.987</td>\n",
              "      <td>NaN</td>\n",
              "      <td>597.029</td>\n",
              "      <td>9.59</td>\n",
              "      <td>NaN</td>\n",
              "      <td>NaN</td>\n",
              "      <td>37.746</td>\n",
              "      <td>0.5</td>\n",
              "      <td>64.83</td>\n",
              "      <td>0.511</td>\n",
              "    </tr>\n",
              "    <tr>\n",
              "      <th>2</th>\n",
              "      <td>AFG</td>\n",
              "      <td>Asia</td>\n",
              "      <td>Afghanistan</td>\n",
              "      <td>2020-02-26</td>\n",
              "      <td>1.0</td>\n",
              "      <td>0.0</td>\n",
              "      <td>NaN</td>\n",
              "      <td>NaN</td>\n",
              "      <td>NaN</td>\n",
              "      <td>NaN</td>\n",
              "      <td>...</td>\n",
              "      <td>1803.987</td>\n",
              "      <td>NaN</td>\n",
              "      <td>597.029</td>\n",
              "      <td>9.59</td>\n",
              "      <td>NaN</td>\n",
              "      <td>NaN</td>\n",
              "      <td>37.746</td>\n",
              "      <td>0.5</td>\n",
              "      <td>64.83</td>\n",
              "      <td>0.511</td>\n",
              "    </tr>\n",
              "    <tr>\n",
              "      <th>3</th>\n",
              "      <td>AFG</td>\n",
              "      <td>Asia</td>\n",
              "      <td>Afghanistan</td>\n",
              "      <td>2020-02-27</td>\n",
              "      <td>1.0</td>\n",
              "      <td>0.0</td>\n",
              "      <td>NaN</td>\n",
              "      <td>NaN</td>\n",
              "      <td>NaN</td>\n",
              "      <td>NaN</td>\n",
              "      <td>...</td>\n",
              "      <td>1803.987</td>\n",
              "      <td>NaN</td>\n",
              "      <td>597.029</td>\n",
              "      <td>9.59</td>\n",
              "      <td>NaN</td>\n",
              "      <td>NaN</td>\n",
              "      <td>37.746</td>\n",
              "      <td>0.5</td>\n",
              "      <td>64.83</td>\n",
              "      <td>0.511</td>\n",
              "    </tr>\n",
              "    <tr>\n",
              "      <th>4</th>\n",
              "      <td>AFG</td>\n",
              "      <td>Asia</td>\n",
              "      <td>Afghanistan</td>\n",
              "      <td>2020-02-28</td>\n",
              "      <td>1.0</td>\n",
              "      <td>0.0</td>\n",
              "      <td>NaN</td>\n",
              "      <td>NaN</td>\n",
              "      <td>NaN</td>\n",
              "      <td>NaN</td>\n",
              "      <td>...</td>\n",
              "      <td>1803.987</td>\n",
              "      <td>NaN</td>\n",
              "      <td>597.029</td>\n",
              "      <td>9.59</td>\n",
              "      <td>NaN</td>\n",
              "      <td>NaN</td>\n",
              "      <td>37.746</td>\n",
              "      <td>0.5</td>\n",
              "      <td>64.83</td>\n",
              "      <td>0.511</td>\n",
              "    </tr>\n",
              "  </tbody>\n",
              "</table>\n",
              "<p>5 rows × 59 columns</p>\n",
              "</div>"
            ],
            "text/plain": [
              "  iso_code continent     location        date  total_cases  new_cases  \\\n",
              "0      AFG      Asia  Afghanistan  2020-02-24          1.0        1.0   \n",
              "1      AFG      Asia  Afghanistan  2020-02-25          1.0        0.0   \n",
              "2      AFG      Asia  Afghanistan  2020-02-26          1.0        0.0   \n",
              "3      AFG      Asia  Afghanistan  2020-02-27          1.0        0.0   \n",
              "4      AFG      Asia  Afghanistan  2020-02-28          1.0        0.0   \n",
              "\n",
              "   new_cases_smoothed  total_deaths  new_deaths  new_deaths_smoothed  ...  \\\n",
              "0                 NaN           NaN         NaN                  NaN  ...   \n",
              "1                 NaN           NaN         NaN                  NaN  ...   \n",
              "2                 NaN           NaN         NaN                  NaN  ...   \n",
              "3                 NaN           NaN         NaN                  NaN  ...   \n",
              "4                 NaN           NaN         NaN                  NaN  ...   \n",
              "\n",
              "   gdp_per_capita  extreme_poverty  cardiovasc_death_rate  \\\n",
              "0        1803.987              NaN                597.029   \n",
              "1        1803.987              NaN                597.029   \n",
              "2        1803.987              NaN                597.029   \n",
              "3        1803.987              NaN                597.029   \n",
              "4        1803.987              NaN                597.029   \n",
              "\n",
              "   diabetes_prevalence  female_smokers  male_smokers  handwashing_facilities  \\\n",
              "0                 9.59             NaN           NaN                  37.746   \n",
              "1                 9.59             NaN           NaN                  37.746   \n",
              "2                 9.59             NaN           NaN                  37.746   \n",
              "3                 9.59             NaN           NaN                  37.746   \n",
              "4                 9.59             NaN           NaN                  37.746   \n",
              "\n",
              "   hospital_beds_per_thousand  life_expectancy  human_development_index  \n",
              "0                         0.5            64.83                    0.511  \n",
              "1                         0.5            64.83                    0.511  \n",
              "2                         0.5            64.83                    0.511  \n",
              "3                         0.5            64.83                    0.511  \n",
              "4                         0.5            64.83                    0.511  \n",
              "\n",
              "[5 rows x 59 columns]"
            ]
          },
          "metadata": {
            "tags": []
          },
          "execution_count": 35
        }
      ]
    },
    {
      "cell_type": "markdown",
      "metadata": {
        "id": "southwest-immigration"
      },
      "source": [
        "Посмотрим сколько данных в нашем датасете"
      ],
      "id": "southwest-immigration"
    },
    {
      "cell_type": "code",
      "metadata": {
        "id": "north-freeze",
        "outputId": "d64f8103-3a0f-4db5-e019-714742a09d15"
      },
      "source": [
        "coronovirus_data_shape = coronovirus_data.shape\n",
        "coronovirus_data_shape"
      ],
      "id": "north-freeze",
      "execution_count": null,
      "outputs": [
        {
          "output_type": "execute_result",
          "data": {
            "text/plain": [
              "(79277, 59)"
            ]
          },
          "metadata": {
            "tags": []
          },
          "execution_count": 36
        }
      ]
    },
    {
      "cell_type": "markdown",
      "metadata": {
        "id": "theoretical-midnight"
      },
      "source": [
        "Посмотрим какие столбцы в данных вообще есть  \n",
        "Описание каждого столбца тут https://github.com/owid/covid-19-data/blob/master/public/data/owid-covid-codebook.csv"
      ],
      "id": "theoretical-midnight"
    },
    {
      "cell_type": "code",
      "metadata": {
        "id": "fancy-consultancy",
        "outputId": "adb54a57-21d5-4e5c-eaa9-fc5ee85c9207"
      },
      "source": [
        "coronovirus_data.columns"
      ],
      "id": "fancy-consultancy",
      "execution_count": null,
      "outputs": [
        {
          "output_type": "execute_result",
          "data": {
            "text/plain": [
              "Index(['iso_code', 'continent', 'location', 'date', 'total_cases', 'new_cases',\n",
              "       'new_cases_smoothed', 'total_deaths', 'new_deaths',\n",
              "       'new_deaths_smoothed', 'total_cases_per_million',\n",
              "       'new_cases_per_million', 'new_cases_smoothed_per_million',\n",
              "       'total_deaths_per_million', 'new_deaths_per_million',\n",
              "       'new_deaths_smoothed_per_million', 'reproduction_rate', 'icu_patients',\n",
              "       'icu_patients_per_million', 'hosp_patients',\n",
              "       'hosp_patients_per_million', 'weekly_icu_admissions',\n",
              "       'weekly_icu_admissions_per_million', 'weekly_hosp_admissions',\n",
              "       'weekly_hosp_admissions_per_million', 'new_tests', 'total_tests',\n",
              "       'total_tests_per_thousand', 'new_tests_per_thousand',\n",
              "       'new_tests_smoothed', 'new_tests_smoothed_per_thousand',\n",
              "       'positive_rate', 'tests_per_case', 'tests_units', 'total_vaccinations',\n",
              "       'people_vaccinated', 'people_fully_vaccinated', 'new_vaccinations',\n",
              "       'new_vaccinations_smoothed', 'total_vaccinations_per_hundred',\n",
              "       'people_vaccinated_per_hundred', 'people_fully_vaccinated_per_hundred',\n",
              "       'new_vaccinations_smoothed_per_million', 'stringency_index',\n",
              "       'population', 'population_density', 'median_age', 'aged_65_older',\n",
              "       'aged_70_older', 'gdp_per_capita', 'extreme_poverty',\n",
              "       'cardiovasc_death_rate', 'diabetes_prevalence', 'female_smokers',\n",
              "       'male_smokers', 'handwashing_facilities', 'hospital_beds_per_thousand',\n",
              "       'life_expectancy', 'human_development_index'],\n",
              "      dtype='object')"
            ]
          },
          "metadata": {
            "tags": []
          },
          "execution_count": 16
        }
      ]
    },
    {
      "cell_type": "markdown",
      "metadata": {
        "id": "smart-shirt"
      },
      "source": [
        "Количество null значений в каждом столбце в процентном соотношении от общего числа строк"
      ],
      "id": "smart-shirt"
    },
    {
      "cell_type": "code",
      "metadata": {
        "id": "wicked-magic",
        "outputId": "f32816d7-0a59-4c14-bc7e-cd466482cecf"
      },
      "source": [
        "coronovirus_data.isnull().sum() / coronovirus_data_shape[0] * 100"
      ],
      "id": "wicked-magic",
      "execution_count": null,
      "outputs": [
        {
          "output_type": "execute_result",
          "data": {
            "text/plain": [
              "iso_code                                  0.000000\n",
              "continent                                 4.879095\n",
              "location                                  0.000000\n",
              "date                                      0.000000\n",
              "total_cases                               1.990489\n",
              "new_cases                                 1.993012\n",
              "new_cases_smoothed                        3.255673\n",
              "total_deaths                             13.884229\n",
              "new_deaths                               13.684928\n",
              "new_deaths_smoothed                       3.255673\n",
              "total_cases_per_million                   2.522800\n",
              "new_cases_per_million                     2.525323\n",
              "new_cases_smoothed_per_million            3.781677\n",
              "total_deaths_per_million                 14.400141\n",
              "new_deaths_per_million                   14.200840\n",
              "new_deaths_smoothed_per_million           3.781677\n",
              "reproduction_rate                        19.464662\n",
              "icu_patients                             89.526597\n",
              "icu_patients_per_million                 89.526597\n",
              "hosp_patients                            87.456639\n",
              "hosp_patients_per_million                87.456639\n",
              "weekly_icu_admissions                    99.084224\n",
              "weekly_icu_admissions_per_million        99.084224\n",
              "weekly_hosp_admissions                   98.316031\n",
              "weekly_hosp_admissions_per_million       98.316031\n",
              "new_tests                                54.539148\n",
              "total_tests                              54.857020\n",
              "total_tests_per_thousand                 54.857020\n",
              "new_tests_per_thousand                   54.539148\n",
              "new_tests_smoothed                       47.977345\n",
              "new_tests_smoothed_per_thousand          47.977345\n",
              "positive_rate                            49.649962\n",
              "tests_per_case                           50.348777\n",
              "tests_units                              46.256796\n",
              "total_vaccinations                       92.202026\n",
              "people_vaccinated                        92.965173\n",
              "people_fully_vaccinated                  95.094416\n",
              "new_vaccinations                         93.404140\n",
              "new_vaccinations_smoothed                87.736670\n",
              "total_vaccinations_per_hundred           92.202026\n",
              "people_vaccinated_per_hundred            92.965173\n",
              "people_fully_vaccinated_per_hundred      95.094416\n",
              "new_vaccinations_smoothed_per_million    87.736670\n",
              "stringency_index                         15.058592\n",
              "population                                0.621870\n",
              "population_density                        6.787593\n",
              "median_age                                9.566457\n",
              "aged_65_older                            10.603328\n",
              "aged_70_older                            10.074801\n",
              "gdp_per_capita                            9.214526\n",
              "extreme_poverty                          38.087970\n",
              "cardiovasc_death_rate                     8.461471\n",
              "diabetes_prevalence                       7.248004\n",
              "female_smokers                           28.127956\n",
              "male_smokers                             29.182487\n",
              "handwashing_facilities                   54.032065\n",
              "hospital_beds_per_thousand               16.307378\n",
              "life_expectancy                           5.065782\n",
              "human_development_index                   8.529586\n",
              "dtype: float64"
            ]
          },
          "metadata": {
            "tags": []
          },
          "execution_count": 5
        }
      ]
    },
    {
      "cell_type": "code",
      "metadata": {
        "id": "thick-arnold",
        "outputId": "acfcae97-12b1-422b-cd74-8fb1fdc4661b"
      },
      "source": [
        "null_table = coronovirus_data[coronovirus_data.continent.isnull()]\n",
        "null_table"
      ],
      "id": "thick-arnold",
      "execution_count": null,
      "outputs": [
        {
          "output_type": "execute_result",
          "data": {
            "text/html": [
              "<div>\n",
              "<style scoped>\n",
              "    .dataframe tbody tr th:only-of-type {\n",
              "        vertical-align: middle;\n",
              "    }\n",
              "\n",
              "    .dataframe tbody tr th {\n",
              "        vertical-align: top;\n",
              "    }\n",
              "\n",
              "    .dataframe thead th {\n",
              "        text-align: right;\n",
              "    }\n",
              "</style>\n",
              "<table border=\"1\" class=\"dataframe\">\n",
              "  <thead>\n",
              "    <tr style=\"text-align: right;\">\n",
              "      <th></th>\n",
              "      <th>iso_code</th>\n",
              "      <th>continent</th>\n",
              "      <th>location</th>\n",
              "      <th>date</th>\n",
              "      <th>total_cases</th>\n",
              "      <th>new_cases</th>\n",
              "      <th>new_cases_smoothed</th>\n",
              "      <th>total_deaths</th>\n",
              "      <th>new_deaths</th>\n",
              "      <th>new_deaths_smoothed</th>\n",
              "      <th>...</th>\n",
              "      <th>gdp_per_capita</th>\n",
              "      <th>extreme_poverty</th>\n",
              "      <th>cardiovasc_death_rate</th>\n",
              "      <th>diabetes_prevalence</th>\n",
              "      <th>female_smokers</th>\n",
              "      <th>male_smokers</th>\n",
              "      <th>handwashing_facilities</th>\n",
              "      <th>hospital_beds_per_thousand</th>\n",
              "      <th>life_expectancy</th>\n",
              "      <th>human_development_index</th>\n",
              "    </tr>\n",
              "  </thead>\n",
              "  <tbody>\n",
              "    <tr>\n",
              "      <th>405</th>\n",
              "      <td>OWID_AFR</td>\n",
              "      <td>NaN</td>\n",
              "      <td>Africa</td>\n",
              "      <td>2020-02-13</td>\n",
              "      <td>NaN</td>\n",
              "      <td>0.0</td>\n",
              "      <td>NaN</td>\n",
              "      <td>NaN</td>\n",
              "      <td>0.0</td>\n",
              "      <td>NaN</td>\n",
              "      <td>...</td>\n",
              "      <td>NaN</td>\n",
              "      <td>NaN</td>\n",
              "      <td>NaN</td>\n",
              "      <td>NaN</td>\n",
              "      <td>NaN</td>\n",
              "      <td>NaN</td>\n",
              "      <td>NaN</td>\n",
              "      <td>NaN</td>\n",
              "      <td>NaN</td>\n",
              "      <td>NaN</td>\n",
              "    </tr>\n",
              "    <tr>\n",
              "      <th>406</th>\n",
              "      <td>OWID_AFR</td>\n",
              "      <td>NaN</td>\n",
              "      <td>Africa</td>\n",
              "      <td>2020-02-14</td>\n",
              "      <td>1.0</td>\n",
              "      <td>1.0</td>\n",
              "      <td>NaN</td>\n",
              "      <td>NaN</td>\n",
              "      <td>0.0</td>\n",
              "      <td>NaN</td>\n",
              "      <td>...</td>\n",
              "      <td>NaN</td>\n",
              "      <td>NaN</td>\n",
              "      <td>NaN</td>\n",
              "      <td>NaN</td>\n",
              "      <td>NaN</td>\n",
              "      <td>NaN</td>\n",
              "      <td>NaN</td>\n",
              "      <td>NaN</td>\n",
              "      <td>NaN</td>\n",
              "      <td>NaN</td>\n",
              "    </tr>\n",
              "    <tr>\n",
              "      <th>407</th>\n",
              "      <td>OWID_AFR</td>\n",
              "      <td>NaN</td>\n",
              "      <td>Africa</td>\n",
              "      <td>2020-02-15</td>\n",
              "      <td>1.0</td>\n",
              "      <td>0.0</td>\n",
              "      <td>NaN</td>\n",
              "      <td>NaN</td>\n",
              "      <td>0.0</td>\n",
              "      <td>NaN</td>\n",
              "      <td>...</td>\n",
              "      <td>NaN</td>\n",
              "      <td>NaN</td>\n",
              "      <td>NaN</td>\n",
              "      <td>NaN</td>\n",
              "      <td>NaN</td>\n",
              "      <td>NaN</td>\n",
              "      <td>NaN</td>\n",
              "      <td>NaN</td>\n",
              "      <td>NaN</td>\n",
              "      <td>NaN</td>\n",
              "    </tr>\n",
              "    <tr>\n",
              "      <th>408</th>\n",
              "      <td>OWID_AFR</td>\n",
              "      <td>NaN</td>\n",
              "      <td>Africa</td>\n",
              "      <td>2020-02-16</td>\n",
              "      <td>1.0</td>\n",
              "      <td>0.0</td>\n",
              "      <td>NaN</td>\n",
              "      <td>NaN</td>\n",
              "      <td>0.0</td>\n",
              "      <td>NaN</td>\n",
              "      <td>...</td>\n",
              "      <td>NaN</td>\n",
              "      <td>NaN</td>\n",
              "      <td>NaN</td>\n",
              "      <td>NaN</td>\n",
              "      <td>NaN</td>\n",
              "      <td>NaN</td>\n",
              "      <td>NaN</td>\n",
              "      <td>NaN</td>\n",
              "      <td>NaN</td>\n",
              "      <td>NaN</td>\n",
              "    </tr>\n",
              "    <tr>\n",
              "      <th>409</th>\n",
              "      <td>OWID_AFR</td>\n",
              "      <td>NaN</td>\n",
              "      <td>Africa</td>\n",
              "      <td>2020-02-17</td>\n",
              "      <td>1.0</td>\n",
              "      <td>0.0</td>\n",
              "      <td>NaN</td>\n",
              "      <td>NaN</td>\n",
              "      <td>0.0</td>\n",
              "      <td>NaN</td>\n",
              "      <td>...</td>\n",
              "      <td>NaN</td>\n",
              "      <td>NaN</td>\n",
              "      <td>NaN</td>\n",
              "      <td>NaN</td>\n",
              "      <td>NaN</td>\n",
              "      <td>NaN</td>\n",
              "      <td>NaN</td>\n",
              "      <td>NaN</td>\n",
              "      <td>NaN</td>\n",
              "      <td>NaN</td>\n",
              "    </tr>\n",
              "    <tr>\n",
              "      <th>...</th>\n",
              "      <td>...</td>\n",
              "      <td>...</td>\n",
              "      <td>...</td>\n",
              "      <td>...</td>\n",
              "      <td>...</td>\n",
              "      <td>...</td>\n",
              "      <td>...</td>\n",
              "      <td>...</td>\n",
              "      <td>...</td>\n",
              "      <td>...</td>\n",
              "      <td>...</td>\n",
              "      <td>...</td>\n",
              "      <td>...</td>\n",
              "      <td>...</td>\n",
              "      <td>...</td>\n",
              "      <td>...</td>\n",
              "      <td>...</td>\n",
              "      <td>...</td>\n",
              "      <td>...</td>\n",
              "      <td>...</td>\n",
              "      <td>...</td>\n",
              "    </tr>\n",
              "    <tr>\n",
              "      <th>78151</th>\n",
              "      <td>OWID_WRL</td>\n",
              "      <td>NaN</td>\n",
              "      <td>World</td>\n",
              "      <td>2021-03-30</td>\n",
              "      <td>128212983.0</td>\n",
              "      <td>568122.0</td>\n",
              "      <td>572512.000</td>\n",
              "      <td>2803397.0</td>\n",
              "      <td>11561.0</td>\n",
              "      <td>9872.286</td>\n",
              "      <td>...</td>\n",
              "      <td>15469.207</td>\n",
              "      <td>10.0</td>\n",
              "      <td>233.07</td>\n",
              "      <td>8.51</td>\n",
              "      <td>6.434</td>\n",
              "      <td>34.635</td>\n",
              "      <td>60.13</td>\n",
              "      <td>2.705</td>\n",
              "      <td>72.58</td>\n",
              "      <td>0.737</td>\n",
              "    </tr>\n",
              "    <tr>\n",
              "      <th>78152</th>\n",
              "      <td>OWID_WRL</td>\n",
              "      <td>NaN</td>\n",
              "      <td>World</td>\n",
              "      <td>2021-03-31</td>\n",
              "      <td>128896025.0</td>\n",
              "      <td>683042.0</td>\n",
              "      <td>579538.143</td>\n",
              "      <td>2815659.0</td>\n",
              "      <td>12262.0</td>\n",
              "      <td>10243.286</td>\n",
              "      <td>...</td>\n",
              "      <td>15469.207</td>\n",
              "      <td>10.0</td>\n",
              "      <td>233.07</td>\n",
              "      <td>8.51</td>\n",
              "      <td>6.434</td>\n",
              "      <td>34.635</td>\n",
              "      <td>60.13</td>\n",
              "      <td>2.705</td>\n",
              "      <td>72.58</td>\n",
              "      <td>0.737</td>\n",
              "    </tr>\n",
              "    <tr>\n",
              "      <th>78153</th>\n",
              "      <td>OWID_WRL</td>\n",
              "      <td>NaN</td>\n",
              "      <td>World</td>\n",
              "      <td>2021-04-01</td>\n",
              "      <td>129607651.0</td>\n",
              "      <td>711626.0</td>\n",
              "      <td>588170.000</td>\n",
              "      <td>2827520.0</td>\n",
              "      <td>11861.0</td>\n",
              "      <td>10296.714</td>\n",
              "      <td>...</td>\n",
              "      <td>15469.207</td>\n",
              "      <td>10.0</td>\n",
              "      <td>233.07</td>\n",
              "      <td>8.51</td>\n",
              "      <td>6.434</td>\n",
              "      <td>34.635</td>\n",
              "      <td>60.13</td>\n",
              "      <td>2.705</td>\n",
              "      <td>72.58</td>\n",
              "      <td>0.737</td>\n",
              "    </tr>\n",
              "    <tr>\n",
              "      <th>78154</th>\n",
              "      <td>OWID_WRL</td>\n",
              "      <td>NaN</td>\n",
              "      <td>World</td>\n",
              "      <td>2021-04-02</td>\n",
              "      <td>130236504.0</td>\n",
              "      <td>628853.0</td>\n",
              "      <td>586405.429</td>\n",
              "      <td>2837709.0</td>\n",
              "      <td>10189.0</td>\n",
              "      <td>10011.143</td>\n",
              "      <td>...</td>\n",
              "      <td>15469.207</td>\n",
              "      <td>10.0</td>\n",
              "      <td>233.07</td>\n",
              "      <td>8.51</td>\n",
              "      <td>6.434</td>\n",
              "      <td>34.635</td>\n",
              "      <td>60.13</td>\n",
              "      <td>2.705</td>\n",
              "      <td>72.58</td>\n",
              "      <td>0.737</td>\n",
              "    </tr>\n",
              "    <tr>\n",
              "      <th>78155</th>\n",
              "      <td>OWID_WRL</td>\n",
              "      <td>NaN</td>\n",
              "      <td>World</td>\n",
              "      <td>2021-04-03</td>\n",
              "      <td>130769607.0</td>\n",
              "      <td>533103.0</td>\n",
              "      <td>579157.143</td>\n",
              "      <td>2846129.0</td>\n",
              "      <td>8420.0</td>\n",
              "      <td>9815.429</td>\n",
              "      <td>...</td>\n",
              "      <td>15469.207</td>\n",
              "      <td>10.0</td>\n",
              "      <td>233.07</td>\n",
              "      <td>8.51</td>\n",
              "      <td>6.434</td>\n",
              "      <td>34.635</td>\n",
              "      <td>60.13</td>\n",
              "      <td>2.705</td>\n",
              "      <td>72.58</td>\n",
              "      <td>0.737</td>\n",
              "    </tr>\n",
              "  </tbody>\n",
              "</table>\n",
              "<p>3868 rows × 59 columns</p>\n",
              "</div>"
            ],
            "text/plain": [
              "       iso_code continent location        date  total_cases  new_cases  \\\n",
              "405    OWID_AFR       NaN   Africa  2020-02-13          NaN        0.0   \n",
              "406    OWID_AFR       NaN   Africa  2020-02-14          1.0        1.0   \n",
              "407    OWID_AFR       NaN   Africa  2020-02-15          1.0        0.0   \n",
              "408    OWID_AFR       NaN   Africa  2020-02-16          1.0        0.0   \n",
              "409    OWID_AFR       NaN   Africa  2020-02-17          1.0        0.0   \n",
              "...         ...       ...      ...         ...          ...        ...   \n",
              "78151  OWID_WRL       NaN    World  2021-03-30  128212983.0   568122.0   \n",
              "78152  OWID_WRL       NaN    World  2021-03-31  128896025.0   683042.0   \n",
              "78153  OWID_WRL       NaN    World  2021-04-01  129607651.0   711626.0   \n",
              "78154  OWID_WRL       NaN    World  2021-04-02  130236504.0   628853.0   \n",
              "78155  OWID_WRL       NaN    World  2021-04-03  130769607.0   533103.0   \n",
              "\n",
              "       new_cases_smoothed  total_deaths  new_deaths  new_deaths_smoothed  ...  \\\n",
              "405                   NaN           NaN         0.0                  NaN  ...   \n",
              "406                   NaN           NaN         0.0                  NaN  ...   \n",
              "407                   NaN           NaN         0.0                  NaN  ...   \n",
              "408                   NaN           NaN         0.0                  NaN  ...   \n",
              "409                   NaN           NaN         0.0                  NaN  ...   \n",
              "...                   ...           ...         ...                  ...  ...   \n",
              "78151          572512.000     2803397.0     11561.0             9872.286  ...   \n",
              "78152          579538.143     2815659.0     12262.0            10243.286  ...   \n",
              "78153          588170.000     2827520.0     11861.0            10296.714  ...   \n",
              "78154          586405.429     2837709.0     10189.0            10011.143  ...   \n",
              "78155          579157.143     2846129.0      8420.0             9815.429  ...   \n",
              "\n",
              "       gdp_per_capita  extreme_poverty  cardiovasc_death_rate  \\\n",
              "405               NaN              NaN                    NaN   \n",
              "406               NaN              NaN                    NaN   \n",
              "407               NaN              NaN                    NaN   \n",
              "408               NaN              NaN                    NaN   \n",
              "409               NaN              NaN                    NaN   \n",
              "...               ...              ...                    ...   \n",
              "78151       15469.207             10.0                 233.07   \n",
              "78152       15469.207             10.0                 233.07   \n",
              "78153       15469.207             10.0                 233.07   \n",
              "78154       15469.207             10.0                 233.07   \n",
              "78155       15469.207             10.0                 233.07   \n",
              "\n",
              "       diabetes_prevalence  female_smokers  male_smokers  \\\n",
              "405                    NaN             NaN           NaN   \n",
              "406                    NaN             NaN           NaN   \n",
              "407                    NaN             NaN           NaN   \n",
              "408                    NaN             NaN           NaN   \n",
              "409                    NaN             NaN           NaN   \n",
              "...                    ...             ...           ...   \n",
              "78151                 8.51           6.434        34.635   \n",
              "78152                 8.51           6.434        34.635   \n",
              "78153                 8.51           6.434        34.635   \n",
              "78154                 8.51           6.434        34.635   \n",
              "78155                 8.51           6.434        34.635   \n",
              "\n",
              "       handwashing_facilities  hospital_beds_per_thousand  life_expectancy  \\\n",
              "405                       NaN                         NaN              NaN   \n",
              "406                       NaN                         NaN              NaN   \n",
              "407                       NaN                         NaN              NaN   \n",
              "408                       NaN                         NaN              NaN   \n",
              "409                       NaN                         NaN              NaN   \n",
              "...                       ...                         ...              ...   \n",
              "78151                   60.13                       2.705            72.58   \n",
              "78152                   60.13                       2.705            72.58   \n",
              "78153                   60.13                       2.705            72.58   \n",
              "78154                   60.13                       2.705            72.58   \n",
              "78155                   60.13                       2.705            72.58   \n",
              "\n",
              "       human_development_index  \n",
              "405                        NaN  \n",
              "406                        NaN  \n",
              "407                        NaN  \n",
              "408                        NaN  \n",
              "409                        NaN  \n",
              "...                        ...  \n",
              "78151                    0.737  \n",
              "78152                    0.737  \n",
              "78153                    0.737  \n",
              "78154                    0.737  \n",
              "78155                    0.737  \n",
              "\n",
              "[3868 rows x 59 columns]"
            ]
          },
          "metadata": {
            "tags": []
          },
          "execution_count": 37
        }
      ]
    },
    {
      "cell_type": "code",
      "metadata": {
        "id": "standard-mexican",
        "outputId": "05535be0-976e-49a5-d098-fe49a5fa092a"
      },
      "source": [
        "null_table.location.unique()"
      ],
      "id": "standard-mexican",
      "execution_count": null,
      "outputs": [
        {
          "output_type": "execute_result",
          "data": {
            "text/plain": [
              "array(['Africa', 'Asia', 'Europe', 'European Union', 'International',\n",
              "       'North America', 'Oceania', 'South America', 'World'], dtype=object)"
            ]
          },
          "metadata": {
            "tags": []
          },
          "execution_count": 38
        }
      ]
    },
    {
      "cell_type": "markdown",
      "metadata": {
        "id": "knowing-racing"
      },
      "source": [
        "Сначала посчитаем общемировую зависимость количества твиттов от количество заболевших (всего в мире)  \n",
        "Для этого выберем из наших данных такие строки, где location = World"
      ],
      "id": "knowing-racing"
    },
    {
      "cell_type": "code",
      "metadata": {
        "id": "skilled-victoria",
        "outputId": "5eeb9d5b-6e3e-4484-9246-e1ad08ea0785"
      },
      "source": [
        "world_stats = coronovirus_data[coronovirus_data.location == 'World']\n",
        "world_stats.head(5)"
      ],
      "id": "skilled-victoria",
      "execution_count": null,
      "outputs": [
        {
          "output_type": "execute_result",
          "data": {
            "text/html": [
              "<div>\n",
              "<style scoped>\n",
              "    .dataframe tbody tr th:only-of-type {\n",
              "        vertical-align: middle;\n",
              "    }\n",
              "\n",
              "    .dataframe tbody tr th {\n",
              "        vertical-align: top;\n",
              "    }\n",
              "\n",
              "    .dataframe thead th {\n",
              "        text-align: right;\n",
              "    }\n",
              "</style>\n",
              "<table border=\"1\" class=\"dataframe\">\n",
              "  <thead>\n",
              "    <tr style=\"text-align: right;\">\n",
              "      <th></th>\n",
              "      <th>iso_code</th>\n",
              "      <th>continent</th>\n",
              "      <th>location</th>\n",
              "      <th>date</th>\n",
              "      <th>total_cases</th>\n",
              "      <th>new_cases</th>\n",
              "      <th>new_cases_smoothed</th>\n",
              "      <th>total_deaths</th>\n",
              "      <th>new_deaths</th>\n",
              "      <th>new_deaths_smoothed</th>\n",
              "      <th>...</th>\n",
              "      <th>gdp_per_capita</th>\n",
              "      <th>extreme_poverty</th>\n",
              "      <th>cardiovasc_death_rate</th>\n",
              "      <th>diabetes_prevalence</th>\n",
              "      <th>female_smokers</th>\n",
              "      <th>male_smokers</th>\n",
              "      <th>handwashing_facilities</th>\n",
              "      <th>hospital_beds_per_thousand</th>\n",
              "      <th>life_expectancy</th>\n",
              "      <th>human_development_index</th>\n",
              "    </tr>\n",
              "  </thead>\n",
              "  <tbody>\n",
              "    <tr>\n",
              "      <th>77718</th>\n",
              "      <td>OWID_WRL</td>\n",
              "      <td>NaN</td>\n",
              "      <td>World</td>\n",
              "      <td>2020-01-22</td>\n",
              "      <td>557.0</td>\n",
              "      <td>0.0</td>\n",
              "      <td>NaN</td>\n",
              "      <td>17.0</td>\n",
              "      <td>0.0</td>\n",
              "      <td>NaN</td>\n",
              "      <td>...</td>\n",
              "      <td>15469.207</td>\n",
              "      <td>10.0</td>\n",
              "      <td>233.07</td>\n",
              "      <td>8.51</td>\n",
              "      <td>6.434</td>\n",
              "      <td>34.635</td>\n",
              "      <td>60.13</td>\n",
              "      <td>2.705</td>\n",
              "      <td>72.58</td>\n",
              "      <td>0.737</td>\n",
              "    </tr>\n",
              "    <tr>\n",
              "      <th>77719</th>\n",
              "      <td>OWID_WRL</td>\n",
              "      <td>NaN</td>\n",
              "      <td>World</td>\n",
              "      <td>2020-01-23</td>\n",
              "      <td>655.0</td>\n",
              "      <td>98.0</td>\n",
              "      <td>NaN</td>\n",
              "      <td>18.0</td>\n",
              "      <td>1.0</td>\n",
              "      <td>NaN</td>\n",
              "      <td>...</td>\n",
              "      <td>15469.207</td>\n",
              "      <td>10.0</td>\n",
              "      <td>233.07</td>\n",
              "      <td>8.51</td>\n",
              "      <td>6.434</td>\n",
              "      <td>34.635</td>\n",
              "      <td>60.13</td>\n",
              "      <td>2.705</td>\n",
              "      <td>72.58</td>\n",
              "      <td>0.737</td>\n",
              "    </tr>\n",
              "    <tr>\n",
              "      <th>77720</th>\n",
              "      <td>OWID_WRL</td>\n",
              "      <td>NaN</td>\n",
              "      <td>World</td>\n",
              "      <td>2020-01-24</td>\n",
              "      <td>941.0</td>\n",
              "      <td>286.0</td>\n",
              "      <td>NaN</td>\n",
              "      <td>26.0</td>\n",
              "      <td>8.0</td>\n",
              "      <td>NaN</td>\n",
              "      <td>...</td>\n",
              "      <td>15469.207</td>\n",
              "      <td>10.0</td>\n",
              "      <td>233.07</td>\n",
              "      <td>8.51</td>\n",
              "      <td>6.434</td>\n",
              "      <td>34.635</td>\n",
              "      <td>60.13</td>\n",
              "      <td>2.705</td>\n",
              "      <td>72.58</td>\n",
              "      <td>0.737</td>\n",
              "    </tr>\n",
              "    <tr>\n",
              "      <th>77721</th>\n",
              "      <td>OWID_WRL</td>\n",
              "      <td>NaN</td>\n",
              "      <td>World</td>\n",
              "      <td>2020-01-25</td>\n",
              "      <td>1433.0</td>\n",
              "      <td>492.0</td>\n",
              "      <td>NaN</td>\n",
              "      <td>42.0</td>\n",
              "      <td>16.0</td>\n",
              "      <td>NaN</td>\n",
              "      <td>...</td>\n",
              "      <td>15469.207</td>\n",
              "      <td>10.0</td>\n",
              "      <td>233.07</td>\n",
              "      <td>8.51</td>\n",
              "      <td>6.434</td>\n",
              "      <td>34.635</td>\n",
              "      <td>60.13</td>\n",
              "      <td>2.705</td>\n",
              "      <td>72.58</td>\n",
              "      <td>0.737</td>\n",
              "    </tr>\n",
              "    <tr>\n",
              "      <th>77722</th>\n",
              "      <td>OWID_WRL</td>\n",
              "      <td>NaN</td>\n",
              "      <td>World</td>\n",
              "      <td>2020-01-26</td>\n",
              "      <td>2118.0</td>\n",
              "      <td>685.0</td>\n",
              "      <td>NaN</td>\n",
              "      <td>56.0</td>\n",
              "      <td>14.0</td>\n",
              "      <td>NaN</td>\n",
              "      <td>...</td>\n",
              "      <td>15469.207</td>\n",
              "      <td>10.0</td>\n",
              "      <td>233.07</td>\n",
              "      <td>8.51</td>\n",
              "      <td>6.434</td>\n",
              "      <td>34.635</td>\n",
              "      <td>60.13</td>\n",
              "      <td>2.705</td>\n",
              "      <td>72.58</td>\n",
              "      <td>0.737</td>\n",
              "    </tr>\n",
              "  </tbody>\n",
              "</table>\n",
              "<p>5 rows × 59 columns</p>\n",
              "</div>"
            ],
            "text/plain": [
              "       iso_code continent location        date  total_cases  new_cases  \\\n",
              "77718  OWID_WRL       NaN    World  2020-01-22        557.0        0.0   \n",
              "77719  OWID_WRL       NaN    World  2020-01-23        655.0       98.0   \n",
              "77720  OWID_WRL       NaN    World  2020-01-24        941.0      286.0   \n",
              "77721  OWID_WRL       NaN    World  2020-01-25       1433.0      492.0   \n",
              "77722  OWID_WRL       NaN    World  2020-01-26       2118.0      685.0   \n",
              "\n",
              "       new_cases_smoothed  total_deaths  new_deaths  new_deaths_smoothed  ...  \\\n",
              "77718                 NaN          17.0         0.0                  NaN  ...   \n",
              "77719                 NaN          18.0         1.0                  NaN  ...   \n",
              "77720                 NaN          26.0         8.0                  NaN  ...   \n",
              "77721                 NaN          42.0        16.0                  NaN  ...   \n",
              "77722                 NaN          56.0        14.0                  NaN  ...   \n",
              "\n",
              "       gdp_per_capita  extreme_poverty  cardiovasc_death_rate  \\\n",
              "77718       15469.207             10.0                 233.07   \n",
              "77719       15469.207             10.0                 233.07   \n",
              "77720       15469.207             10.0                 233.07   \n",
              "77721       15469.207             10.0                 233.07   \n",
              "77722       15469.207             10.0                 233.07   \n",
              "\n",
              "       diabetes_prevalence  female_smokers  male_smokers  \\\n",
              "77718                 8.51           6.434        34.635   \n",
              "77719                 8.51           6.434        34.635   \n",
              "77720                 8.51           6.434        34.635   \n",
              "77721                 8.51           6.434        34.635   \n",
              "77722                 8.51           6.434        34.635   \n",
              "\n",
              "       handwashing_facilities  hospital_beds_per_thousand  life_expectancy  \\\n",
              "77718                   60.13                       2.705            72.58   \n",
              "77719                   60.13                       2.705            72.58   \n",
              "77720                   60.13                       2.705            72.58   \n",
              "77721                   60.13                       2.705            72.58   \n",
              "77722                   60.13                       2.705            72.58   \n",
              "\n",
              "       human_development_index  \n",
              "77718                    0.737  \n",
              "77719                    0.737  \n",
              "77720                    0.737  \n",
              "77721                    0.737  \n",
              "77722                    0.737  \n",
              "\n",
              "[5 rows x 59 columns]"
            ]
          },
          "metadata": {
            "tags": []
          },
          "execution_count": 39
        }
      ]
    },
    {
      "cell_type": "markdown",
      "metadata": {
        "id": "explicit-graham"
      },
      "source": [
        "Теперь возьмём данные от твиттах"
      ],
      "id": "explicit-graham"
    },
    {
      "cell_type": "code",
      "metadata": {
        "id": "radical-opinion",
        "outputId": "4689ac51-d94f-4884-d0d1-cc6dba457bb4"
      },
      "source": [
        "twitter_data = pd.read_csv(\"data/Corona_NLP_train.csv\", encoding = \"ISO-8859-1\")\n",
        "twitter_data.rename(columns={twitter_data.columns[3]: \"date\"}, inplace = True)\n",
        "twitter_data.head(5)"
      ],
      "id": "radical-opinion",
      "execution_count": null,
      "outputs": [
        {
          "output_type": "execute_result",
          "data": {
            "text/html": [
              "<div>\n",
              "<style scoped>\n",
              "    .dataframe tbody tr th:only-of-type {\n",
              "        vertical-align: middle;\n",
              "    }\n",
              "\n",
              "    .dataframe tbody tr th {\n",
              "        vertical-align: top;\n",
              "    }\n",
              "\n",
              "    .dataframe thead th {\n",
              "        text-align: right;\n",
              "    }\n",
              "</style>\n",
              "<table border=\"1\" class=\"dataframe\">\n",
              "  <thead>\n",
              "    <tr style=\"text-align: right;\">\n",
              "      <th></th>\n",
              "      <th>UserName</th>\n",
              "      <th>ScreenName</th>\n",
              "      <th>Location</th>\n",
              "      <th>date</th>\n",
              "      <th>OriginalTweet</th>\n",
              "      <th>Sentiment</th>\n",
              "    </tr>\n",
              "  </thead>\n",
              "  <tbody>\n",
              "    <tr>\n",
              "      <th>0</th>\n",
              "      <td>3799</td>\n",
              "      <td>48751</td>\n",
              "      <td>London</td>\n",
              "      <td>16-03-2020</td>\n",
              "      <td>@MeNyrbie @Phil_Gahan @Chrisitv https://t.co/i...</td>\n",
              "      <td>Neutral</td>\n",
              "    </tr>\n",
              "    <tr>\n",
              "      <th>1</th>\n",
              "      <td>3800</td>\n",
              "      <td>48752</td>\n",
              "      <td>UK</td>\n",
              "      <td>16-03-2020</td>\n",
              "      <td>advice Talk to your neighbours family to excha...</td>\n",
              "      <td>Positive</td>\n",
              "    </tr>\n",
              "    <tr>\n",
              "      <th>2</th>\n",
              "      <td>3801</td>\n",
              "      <td>48753</td>\n",
              "      <td>Vagabonds</td>\n",
              "      <td>16-03-2020</td>\n",
              "      <td>Coronavirus Australia: Woolworths to give elde...</td>\n",
              "      <td>Positive</td>\n",
              "    </tr>\n",
              "    <tr>\n",
              "      <th>3</th>\n",
              "      <td>3802</td>\n",
              "      <td>48754</td>\n",
              "      <td>NaN</td>\n",
              "      <td>16-03-2020</td>\n",
              "      <td>My food stock is not the only one which is emp...</td>\n",
              "      <td>Positive</td>\n",
              "    </tr>\n",
              "    <tr>\n",
              "      <th>4</th>\n",
              "      <td>3803</td>\n",
              "      <td>48755</td>\n",
              "      <td>NaN</td>\n",
              "      <td>16-03-2020</td>\n",
              "      <td>Me, ready to go at supermarket during the #COV...</td>\n",
              "      <td>Extremely Negative</td>\n",
              "    </tr>\n",
              "  </tbody>\n",
              "</table>\n",
              "</div>"
            ],
            "text/plain": [
              "   UserName  ScreenName   Location        date  \\\n",
              "0      3799       48751     London  16-03-2020   \n",
              "1      3800       48752         UK  16-03-2020   \n",
              "2      3801       48753  Vagabonds  16-03-2020   \n",
              "3      3802       48754        NaN  16-03-2020   \n",
              "4      3803       48755        NaN  16-03-2020   \n",
              "\n",
              "                                       OriginalTweet           Sentiment  \n",
              "0  @MeNyrbie @Phil_Gahan @Chrisitv https://t.co/i...             Neutral  \n",
              "1  advice Talk to your neighbours family to excha...            Positive  \n",
              "2  Coronavirus Australia: Woolworths to give elde...            Positive  \n",
              "3  My food stock is not the only one which is emp...            Positive  \n",
              "4  Me, ready to go at supermarket during the #COV...  Extremely Negative  "
            ]
          },
          "metadata": {
            "tags": []
          },
          "execution_count": 40
        }
      ]
    },
    {
      "cell_type": "markdown",
      "metadata": {
        "id": "everyday-incidence"
      },
      "source": [
        "Теперь подсчитаем количество твиттов каждый день"
      ],
      "id": "everyday-incidence"
    },
    {
      "cell_type": "code",
      "metadata": {
        "id": "renewable-hunger"
      },
      "source": [
        "twitts = dict()\n",
        "dates = list(twitter_data.date)\n",
        "\n",
        "for date in dates:\n",
        "    if twitts.get(date) is None:\n",
        "        twitts[date] = 1\n",
        "    else:\n",
        "        twitts[date] += 1"
      ],
      "id": "renewable-hunger",
      "execution_count": null,
      "outputs": []
    },
    {
      "cell_type": "markdown",
      "metadata": {
        "id": "amber-lighter"
      },
      "source": [
        "Теперь по подсчитанным данным созданим новый датафрейм"
      ],
      "id": "amber-lighter"
    },
    {
      "cell_type": "code",
      "metadata": {
        "id": "literary-nursing",
        "outputId": "a765aba4-2bc9-484a-ec8e-c139e2206f40"
      },
      "source": [
        "count_of_twitts_per_day = pd.DataFrame()\n",
        "count_of_twitts_per_day['date'] = twitts.keys()\n",
        "count_of_twitts_per_day['count'] = twitts.values()\n",
        "count_of_twitts_per_day.head()"
      ],
      "id": "literary-nursing",
      "execution_count": null,
      "outputs": [
        {
          "output_type": "execute_result",
          "data": {
            "text/html": [
              "<div>\n",
              "<style scoped>\n",
              "    .dataframe tbody tr th:only-of-type {\n",
              "        vertical-align: middle;\n",
              "    }\n",
              "\n",
              "    .dataframe tbody tr th {\n",
              "        vertical-align: top;\n",
              "    }\n",
              "\n",
              "    .dataframe thead th {\n",
              "        text-align: right;\n",
              "    }\n",
              "</style>\n",
              "<table border=\"1\" class=\"dataframe\">\n",
              "  <thead>\n",
              "    <tr style=\"text-align: right;\">\n",
              "      <th></th>\n",
              "      <th>date</th>\n",
              "      <th>count</th>\n",
              "    </tr>\n",
              "  </thead>\n",
              "  <tbody>\n",
              "    <tr>\n",
              "      <th>0</th>\n",
              "      <td>16-03-2020</td>\n",
              "      <td>656</td>\n",
              "    </tr>\n",
              "    <tr>\n",
              "      <th>1</th>\n",
              "      <td>17-03-2020</td>\n",
              "      <td>1977</td>\n",
              "    </tr>\n",
              "    <tr>\n",
              "      <th>2</th>\n",
              "      <td>18-03-2020</td>\n",
              "      <td>2742</td>\n",
              "    </tr>\n",
              "    <tr>\n",
              "      <th>3</th>\n",
              "      <td>19-03-2020</td>\n",
              "      <td>3215</td>\n",
              "    </tr>\n",
              "    <tr>\n",
              "      <th>4</th>\n",
              "      <td>20-03-2020</td>\n",
              "      <td>3448</td>\n",
              "    </tr>\n",
              "  </tbody>\n",
              "</table>\n",
              "</div>"
            ],
            "text/plain": [
              "         date  count\n",
              "0  16-03-2020    656\n",
              "1  17-03-2020   1977\n",
              "2  18-03-2020   2742\n",
              "3  19-03-2020   3215\n",
              "4  20-03-2020   3448"
            ]
          },
          "metadata": {
            "tags": []
          },
          "execution_count": 42
        }
      ]
    },
    {
      "cell_type": "markdown",
      "metadata": {
        "id": "lonely-soccer"
      },
      "source": [
        "Как мы видим даты в наших датасетах названы по разному, поэтому приведем их к общему виду"
      ],
      "id": "lonely-soccer"
    },
    {
      "cell_type": "code",
      "metadata": {
        "id": "hundred-monkey"
      },
      "source": [
        "dates = list(coronovirus_data.date)\n",
        "new_dates = []\n",
        "for date in dates:\n",
        "    l = date.split(\"-\")\n",
        "    l.reverse()\n",
        "    new_dates.append(\"-\".join(l))\n",
        "\n",
        "coronovirus_data.drop(['date'], axis=1)\n",
        "coronovirus_data['date'] = new_dates\n",
        "\n",
        "world_stats = coronovirus_data[coronovirus_data.location == 'World']"
      ],
      "id": "hundred-monkey",
      "execution_count": null,
      "outputs": []
    },
    {
      "cell_type": "markdown",
      "metadata": {
        "id": "twelve-magnitude"
      },
      "source": [
        "Теперь как мы видим даты у нас схожие"
      ],
      "id": "twelve-magnitude"
    },
    {
      "cell_type": "code",
      "metadata": {
        "id": "liable-despite",
        "outputId": "2bfc0b6b-d91a-40e9-e7d8-0cd5b0ea79a5"
      },
      "source": [
        "world_stats.head()"
      ],
      "id": "liable-despite",
      "execution_count": null,
      "outputs": [
        {
          "output_type": "execute_result",
          "data": {
            "text/html": [
              "<div>\n",
              "<style scoped>\n",
              "    .dataframe tbody tr th:only-of-type {\n",
              "        vertical-align: middle;\n",
              "    }\n",
              "\n",
              "    .dataframe tbody tr th {\n",
              "        vertical-align: top;\n",
              "    }\n",
              "\n",
              "    .dataframe thead th {\n",
              "        text-align: right;\n",
              "    }\n",
              "</style>\n",
              "<table border=\"1\" class=\"dataframe\">\n",
              "  <thead>\n",
              "    <tr style=\"text-align: right;\">\n",
              "      <th></th>\n",
              "      <th>iso_code</th>\n",
              "      <th>continent</th>\n",
              "      <th>location</th>\n",
              "      <th>date</th>\n",
              "      <th>total_cases</th>\n",
              "      <th>new_cases</th>\n",
              "      <th>new_cases_smoothed</th>\n",
              "      <th>total_deaths</th>\n",
              "      <th>new_deaths</th>\n",
              "      <th>new_deaths_smoothed</th>\n",
              "      <th>...</th>\n",
              "      <th>gdp_per_capita</th>\n",
              "      <th>extreme_poverty</th>\n",
              "      <th>cardiovasc_death_rate</th>\n",
              "      <th>diabetes_prevalence</th>\n",
              "      <th>female_smokers</th>\n",
              "      <th>male_smokers</th>\n",
              "      <th>handwashing_facilities</th>\n",
              "      <th>hospital_beds_per_thousand</th>\n",
              "      <th>life_expectancy</th>\n",
              "      <th>human_development_index</th>\n",
              "    </tr>\n",
              "  </thead>\n",
              "  <tbody>\n",
              "    <tr>\n",
              "      <th>77718</th>\n",
              "      <td>OWID_WRL</td>\n",
              "      <td>NaN</td>\n",
              "      <td>World</td>\n",
              "      <td>22-01-2020</td>\n",
              "      <td>557.0</td>\n",
              "      <td>0.0</td>\n",
              "      <td>NaN</td>\n",
              "      <td>17.0</td>\n",
              "      <td>0.0</td>\n",
              "      <td>NaN</td>\n",
              "      <td>...</td>\n",
              "      <td>15469.207</td>\n",
              "      <td>10.0</td>\n",
              "      <td>233.07</td>\n",
              "      <td>8.51</td>\n",
              "      <td>6.434</td>\n",
              "      <td>34.635</td>\n",
              "      <td>60.13</td>\n",
              "      <td>2.705</td>\n",
              "      <td>72.58</td>\n",
              "      <td>0.737</td>\n",
              "    </tr>\n",
              "    <tr>\n",
              "      <th>77719</th>\n",
              "      <td>OWID_WRL</td>\n",
              "      <td>NaN</td>\n",
              "      <td>World</td>\n",
              "      <td>23-01-2020</td>\n",
              "      <td>655.0</td>\n",
              "      <td>98.0</td>\n",
              "      <td>NaN</td>\n",
              "      <td>18.0</td>\n",
              "      <td>1.0</td>\n",
              "      <td>NaN</td>\n",
              "      <td>...</td>\n",
              "      <td>15469.207</td>\n",
              "      <td>10.0</td>\n",
              "      <td>233.07</td>\n",
              "      <td>8.51</td>\n",
              "      <td>6.434</td>\n",
              "      <td>34.635</td>\n",
              "      <td>60.13</td>\n",
              "      <td>2.705</td>\n",
              "      <td>72.58</td>\n",
              "      <td>0.737</td>\n",
              "    </tr>\n",
              "    <tr>\n",
              "      <th>77720</th>\n",
              "      <td>OWID_WRL</td>\n",
              "      <td>NaN</td>\n",
              "      <td>World</td>\n",
              "      <td>24-01-2020</td>\n",
              "      <td>941.0</td>\n",
              "      <td>286.0</td>\n",
              "      <td>NaN</td>\n",
              "      <td>26.0</td>\n",
              "      <td>8.0</td>\n",
              "      <td>NaN</td>\n",
              "      <td>...</td>\n",
              "      <td>15469.207</td>\n",
              "      <td>10.0</td>\n",
              "      <td>233.07</td>\n",
              "      <td>8.51</td>\n",
              "      <td>6.434</td>\n",
              "      <td>34.635</td>\n",
              "      <td>60.13</td>\n",
              "      <td>2.705</td>\n",
              "      <td>72.58</td>\n",
              "      <td>0.737</td>\n",
              "    </tr>\n",
              "    <tr>\n",
              "      <th>77721</th>\n",
              "      <td>OWID_WRL</td>\n",
              "      <td>NaN</td>\n",
              "      <td>World</td>\n",
              "      <td>25-01-2020</td>\n",
              "      <td>1433.0</td>\n",
              "      <td>492.0</td>\n",
              "      <td>NaN</td>\n",
              "      <td>42.0</td>\n",
              "      <td>16.0</td>\n",
              "      <td>NaN</td>\n",
              "      <td>...</td>\n",
              "      <td>15469.207</td>\n",
              "      <td>10.0</td>\n",
              "      <td>233.07</td>\n",
              "      <td>8.51</td>\n",
              "      <td>6.434</td>\n",
              "      <td>34.635</td>\n",
              "      <td>60.13</td>\n",
              "      <td>2.705</td>\n",
              "      <td>72.58</td>\n",
              "      <td>0.737</td>\n",
              "    </tr>\n",
              "    <tr>\n",
              "      <th>77722</th>\n",
              "      <td>OWID_WRL</td>\n",
              "      <td>NaN</td>\n",
              "      <td>World</td>\n",
              "      <td>26-01-2020</td>\n",
              "      <td>2118.0</td>\n",
              "      <td>685.0</td>\n",
              "      <td>NaN</td>\n",
              "      <td>56.0</td>\n",
              "      <td>14.0</td>\n",
              "      <td>NaN</td>\n",
              "      <td>...</td>\n",
              "      <td>15469.207</td>\n",
              "      <td>10.0</td>\n",
              "      <td>233.07</td>\n",
              "      <td>8.51</td>\n",
              "      <td>6.434</td>\n",
              "      <td>34.635</td>\n",
              "      <td>60.13</td>\n",
              "      <td>2.705</td>\n",
              "      <td>72.58</td>\n",
              "      <td>0.737</td>\n",
              "    </tr>\n",
              "  </tbody>\n",
              "</table>\n",
              "<p>5 rows × 59 columns</p>\n",
              "</div>"
            ],
            "text/plain": [
              "       iso_code continent location        date  total_cases  new_cases  \\\n",
              "77718  OWID_WRL       NaN    World  22-01-2020        557.0        0.0   \n",
              "77719  OWID_WRL       NaN    World  23-01-2020        655.0       98.0   \n",
              "77720  OWID_WRL       NaN    World  24-01-2020        941.0      286.0   \n",
              "77721  OWID_WRL       NaN    World  25-01-2020       1433.0      492.0   \n",
              "77722  OWID_WRL       NaN    World  26-01-2020       2118.0      685.0   \n",
              "\n",
              "       new_cases_smoothed  total_deaths  new_deaths  new_deaths_smoothed  ...  \\\n",
              "77718                 NaN          17.0         0.0                  NaN  ...   \n",
              "77719                 NaN          18.0         1.0                  NaN  ...   \n",
              "77720                 NaN          26.0         8.0                  NaN  ...   \n",
              "77721                 NaN          42.0        16.0                  NaN  ...   \n",
              "77722                 NaN          56.0        14.0                  NaN  ...   \n",
              "\n",
              "       gdp_per_capita  extreme_poverty  cardiovasc_death_rate  \\\n",
              "77718       15469.207             10.0                 233.07   \n",
              "77719       15469.207             10.0                 233.07   \n",
              "77720       15469.207             10.0                 233.07   \n",
              "77721       15469.207             10.0                 233.07   \n",
              "77722       15469.207             10.0                 233.07   \n",
              "\n",
              "       diabetes_prevalence  female_smokers  male_smokers  \\\n",
              "77718                 8.51           6.434        34.635   \n",
              "77719                 8.51           6.434        34.635   \n",
              "77720                 8.51           6.434        34.635   \n",
              "77721                 8.51           6.434        34.635   \n",
              "77722                 8.51           6.434        34.635   \n",
              "\n",
              "       handwashing_facilities  hospital_beds_per_thousand  life_expectancy  \\\n",
              "77718                   60.13                       2.705            72.58   \n",
              "77719                   60.13                       2.705            72.58   \n",
              "77720                   60.13                       2.705            72.58   \n",
              "77721                   60.13                       2.705            72.58   \n",
              "77722                   60.13                       2.705            72.58   \n",
              "\n",
              "       human_development_index  \n",
              "77718                    0.737  \n",
              "77719                    0.737  \n",
              "77720                    0.737  \n",
              "77721                    0.737  \n",
              "77722                    0.737  \n",
              "\n",
              "[5 rows x 59 columns]"
            ]
          },
          "metadata": {
            "tags": []
          },
          "execution_count": 54
        }
      ]
    },
    {
      "cell_type": "markdown",
      "metadata": {
        "id": "future-poland"
      },
      "source": [
        "Далее сделаем join наших таблиц"
      ],
      "id": "future-poland"
    },
    {
      "cell_type": "code",
      "metadata": {
        "id": "ordered-scenario",
        "outputId": "a51f8c60-8fdd-45cf-b94b-73cb817ae772"
      },
      "source": [
        "df = world_stats.merge(count_of_twitts_per_day, on='date', how='inner')\n",
        "df.head(5)\n",
        "df.shape[0]"
      ],
      "id": "ordered-scenario",
      "execution_count": null,
      "outputs": [
        {
          "output_type": "execute_result",
          "data": {
            "text/plain": [
              "30"
            ]
          },
          "metadata": {
            "tags": []
          },
          "execution_count": 55
        }
      ]
    },
    {
      "cell_type": "code",
      "metadata": {
        "id": "amazing-animation",
        "outputId": "bfbb36a8-cabd-4c51-b6bc-7211da22b7b3"
      },
      "source": [
        "df.head()"
      ],
      "id": "amazing-animation",
      "execution_count": null,
      "outputs": [
        {
          "output_type": "execute_result",
          "data": {
            "text/html": [
              "<div>\n",
              "<style scoped>\n",
              "    .dataframe tbody tr th:only-of-type {\n",
              "        vertical-align: middle;\n",
              "    }\n",
              "\n",
              "    .dataframe tbody tr th {\n",
              "        vertical-align: top;\n",
              "    }\n",
              "\n",
              "    .dataframe thead th {\n",
              "        text-align: right;\n",
              "    }\n",
              "</style>\n",
              "<table border=\"1\" class=\"dataframe\">\n",
              "  <thead>\n",
              "    <tr style=\"text-align: right;\">\n",
              "      <th></th>\n",
              "      <th>iso_code</th>\n",
              "      <th>continent</th>\n",
              "      <th>location</th>\n",
              "      <th>date</th>\n",
              "      <th>total_cases</th>\n",
              "      <th>new_cases</th>\n",
              "      <th>new_cases_smoothed</th>\n",
              "      <th>total_deaths</th>\n",
              "      <th>new_deaths</th>\n",
              "      <th>new_deaths_smoothed</th>\n",
              "      <th>...</th>\n",
              "      <th>extreme_poverty</th>\n",
              "      <th>cardiovasc_death_rate</th>\n",
              "      <th>diabetes_prevalence</th>\n",
              "      <th>female_smokers</th>\n",
              "      <th>male_smokers</th>\n",
              "      <th>handwashing_facilities</th>\n",
              "      <th>hospital_beds_per_thousand</th>\n",
              "      <th>life_expectancy</th>\n",
              "      <th>human_development_index</th>\n",
              "      <th>count</th>\n",
              "    </tr>\n",
              "  </thead>\n",
              "  <tbody>\n",
              "    <tr>\n",
              "      <th>0</th>\n",
              "      <td>OWID_WRL</td>\n",
              "      <td>NaN</td>\n",
              "      <td>World</td>\n",
              "      <td>16-03-2020</td>\n",
              "      <td>184027.0</td>\n",
              "      <td>14808.0</td>\n",
              "      <td>9972.571</td>\n",
              "      <td>7153.0</td>\n",
              "      <td>683.0</td>\n",
              "      <td>451.429</td>\n",
              "      <td>...</td>\n",
              "      <td>10.0</td>\n",
              "      <td>233.07</td>\n",
              "      <td>8.51</td>\n",
              "      <td>6.434</td>\n",
              "      <td>34.635</td>\n",
              "      <td>60.13</td>\n",
              "      <td>2.705</td>\n",
              "      <td>72.58</td>\n",
              "      <td>0.737</td>\n",
              "      <td>656</td>\n",
              "    </tr>\n",
              "    <tr>\n",
              "      <th>1</th>\n",
              "      <td>OWID_WRL</td>\n",
              "      <td>NaN</td>\n",
              "      <td>World</td>\n",
              "      <td>17-03-2020</td>\n",
              "      <td>199970.0</td>\n",
              "      <td>15943.0</td>\n",
              "      <td>11561.286</td>\n",
              "      <td>7966.0</td>\n",
              "      <td>813.0</td>\n",
              "      <td>528.429</td>\n",
              "      <td>...</td>\n",
              "      <td>10.0</td>\n",
              "      <td>233.07</td>\n",
              "      <td>8.51</td>\n",
              "      <td>6.434</td>\n",
              "      <td>34.635</td>\n",
              "      <td>60.13</td>\n",
              "      <td>2.705</td>\n",
              "      <td>72.58</td>\n",
              "      <td>0.737</td>\n",
              "      <td>1977</td>\n",
              "    </tr>\n",
              "    <tr>\n",
              "      <th>2</th>\n",
              "      <td>OWID_WRL</td>\n",
              "      <td>NaN</td>\n",
              "      <td>World</td>\n",
              "      <td>18-03-2020</td>\n",
              "      <td>219535.0</td>\n",
              "      <td>19565.0</td>\n",
              "      <td>13261.857</td>\n",
              "      <td>8872.0</td>\n",
              "      <td>906.0</td>\n",
              "      <td>608.714</td>\n",
              "      <td>...</td>\n",
              "      <td>10.0</td>\n",
              "      <td>233.07</td>\n",
              "      <td>8.51</td>\n",
              "      <td>6.434</td>\n",
              "      <td>34.635</td>\n",
              "      <td>60.13</td>\n",
              "      <td>2.705</td>\n",
              "      <td>72.58</td>\n",
              "      <td>0.737</td>\n",
              "      <td>2742</td>\n",
              "    </tr>\n",
              "    <tr>\n",
              "      <th>3</th>\n",
              "      <td>OWID_WRL</td>\n",
              "      <td>NaN</td>\n",
              "      <td>World</td>\n",
              "      <td>19-03-2020</td>\n",
              "      <td>246584.0</td>\n",
              "      <td>27049.0</td>\n",
              "      <td>16298.857</td>\n",
              "      <td>9983.0</td>\n",
              "      <td>1111.0</td>\n",
              "      <td>723.714</td>\n",
              "      <td>...</td>\n",
              "      <td>10.0</td>\n",
              "      <td>233.07</td>\n",
              "      <td>8.51</td>\n",
              "      <td>6.434</td>\n",
              "      <td>34.635</td>\n",
              "      <td>60.13</td>\n",
              "      <td>2.705</td>\n",
              "      <td>72.58</td>\n",
              "      <td>0.737</td>\n",
              "      <td>3215</td>\n",
              "    </tr>\n",
              "    <tr>\n",
              "      <th>4</th>\n",
              "      <td>OWID_WRL</td>\n",
              "      <td>NaN</td>\n",
              "      <td>World</td>\n",
              "      <td>20-03-2020</td>\n",
              "      <td>277359.0</td>\n",
              "      <td>30775.0</td>\n",
              "      <td>18640.429</td>\n",
              "      <td>11469.0</td>\n",
              "      <td>1486.0</td>\n",
              "      <td>865.000</td>\n",
              "      <td>...</td>\n",
              "      <td>10.0</td>\n",
              "      <td>233.07</td>\n",
              "      <td>8.51</td>\n",
              "      <td>6.434</td>\n",
              "      <td>34.635</td>\n",
              "      <td>60.13</td>\n",
              "      <td>2.705</td>\n",
              "      <td>72.58</td>\n",
              "      <td>0.737</td>\n",
              "      <td>3448</td>\n",
              "    </tr>\n",
              "  </tbody>\n",
              "</table>\n",
              "<p>5 rows × 60 columns</p>\n",
              "</div>"
            ],
            "text/plain": [
              "   iso_code continent location        date  total_cases  new_cases  \\\n",
              "0  OWID_WRL       NaN    World  16-03-2020     184027.0    14808.0   \n",
              "1  OWID_WRL       NaN    World  17-03-2020     199970.0    15943.0   \n",
              "2  OWID_WRL       NaN    World  18-03-2020     219535.0    19565.0   \n",
              "3  OWID_WRL       NaN    World  19-03-2020     246584.0    27049.0   \n",
              "4  OWID_WRL       NaN    World  20-03-2020     277359.0    30775.0   \n",
              "\n",
              "   new_cases_smoothed  total_deaths  new_deaths  new_deaths_smoothed  ...  \\\n",
              "0            9972.571        7153.0       683.0              451.429  ...   \n",
              "1           11561.286        7966.0       813.0              528.429  ...   \n",
              "2           13261.857        8872.0       906.0              608.714  ...   \n",
              "3           16298.857        9983.0      1111.0              723.714  ...   \n",
              "4           18640.429       11469.0      1486.0              865.000  ...   \n",
              "\n",
              "   extreme_poverty  cardiovasc_death_rate  diabetes_prevalence  \\\n",
              "0             10.0                 233.07                 8.51   \n",
              "1             10.0                 233.07                 8.51   \n",
              "2             10.0                 233.07                 8.51   \n",
              "3             10.0                 233.07                 8.51   \n",
              "4             10.0                 233.07                 8.51   \n",
              "\n",
              "   female_smokers  male_smokers  handwashing_facilities  \\\n",
              "0           6.434        34.635                   60.13   \n",
              "1           6.434        34.635                   60.13   \n",
              "2           6.434        34.635                   60.13   \n",
              "3           6.434        34.635                   60.13   \n",
              "4           6.434        34.635                   60.13   \n",
              "\n",
              "   hospital_beds_per_thousand  life_expectancy  human_development_index  count  \n",
              "0                       2.705            72.58                    0.737    656  \n",
              "1                       2.705            72.58                    0.737   1977  \n",
              "2                       2.705            72.58                    0.737   2742  \n",
              "3                       2.705            72.58                    0.737   3215  \n",
              "4                       2.705            72.58                    0.737   3448  \n",
              "\n",
              "[5 rows x 60 columns]"
            ]
          },
          "metadata": {
            "tags": []
          },
          "execution_count": 56
        }
      ]
    },
    {
      "cell_type": "code",
      "metadata": {
        "id": "bound-devil",
        "outputId": "032b6809-3a79-426d-b469-a5156f2d1079"
      },
      "source": [
        "corr_data = df[['count', 'new_cases', 'total_cases']]\n",
        "corr = corr_data.corr()\n",
        "sns.heatmap(corr)"
      ],
      "id": "bound-devil",
      "execution_count": null,
      "outputs": [
        {
          "output_type": "execute_result",
          "data": {
            "text/plain": [
              "<AxesSubplot:>"
            ]
          },
          "metadata": {
            "tags": []
          },
          "execution_count": 57
        },
        {
          "output_type": "display_data",
          "data": {
            "image/png": "[encoded data removed]",
            "text/plain": [
              "<Figure size 432x288 with 2 Axes>"
            ]
          },
          "metadata": {
            "tags": [],
            "needs_background": "light"
          }
        }
      ]
    },
    {
      "cell_type": "code",
      "metadata": {
        "id": "absolute-induction",
        "outputId": "522b43c5-0848-48ec-a389-0dba9a6d6b1a"
      },
      "source": [
        "corr"
      ],
      "id": "absolute-induction",
      "execution_count": null,
      "outputs": [
        {
          "output_type": "execute_result",
          "data": {
            "text/html": [
              "<div>\n",
              "<style scoped>\n",
              "    .dataframe tbody tr th:only-of-type {\n",
              "        vertical-align: middle;\n",
              "    }\n",
              "\n",
              "    .dataframe tbody tr th {\n",
              "        vertical-align: top;\n",
              "    }\n",
              "\n",
              "    .dataframe thead th {\n",
              "        text-align: right;\n",
              "    }\n",
              "</style>\n",
              "<table border=\"1\" class=\"dataframe\">\n",
              "  <thead>\n",
              "    <tr style=\"text-align: right;\">\n",
              "      <th></th>\n",
              "      <th>count</th>\n",
              "      <th>new_cases</th>\n",
              "      <th>total_cases</th>\n",
              "    </tr>\n",
              "  </thead>\n",
              "  <tbody>\n",
              "    <tr>\n",
              "      <th>count</th>\n",
              "      <td>1.000000</td>\n",
              "      <td>-0.547724</td>\n",
              "      <td>-0.410476</td>\n",
              "    </tr>\n",
              "    <tr>\n",
              "      <th>new_cases</th>\n",
              "      <td>-0.547724</td>\n",
              "      <td>1.000000</td>\n",
              "      <td>0.840820</td>\n",
              "    </tr>\n",
              "    <tr>\n",
              "      <th>total_cases</th>\n",
              "      <td>-0.410476</td>\n",
              "      <td>0.840820</td>\n",
              "      <td>1.000000</td>\n",
              "    </tr>\n",
              "  </tbody>\n",
              "</table>\n",
              "</div>"
            ],
            "text/plain": [
              "                count  new_cases  total_cases\n",
              "count        1.000000  -0.547724    -0.410476\n",
              "new_cases   -0.547724   1.000000     0.840820\n",
              "total_cases -0.410476   0.840820     1.000000"
            ]
          },
          "metadata": {
            "tags": []
          },
          "execution_count": 58
        }
      ]
    },
    {
      "cell_type": "markdown",
      "metadata": {
        "id": "surprised-discretion"
      },
      "source": [
        "Как мы видим коррелляции между количеством твиттев в день и количеством новых случаев не наблюдается  \n",
        "Но корреляция между количеством новых случаев и общим числом случаев велика (что не удивительно)"
      ],
      "id": "surprised-discretion"
    },
    {
      "cell_type": "markdown",
      "metadata": {
        "id": "formed-candy"
      },
      "source": [
        "Так же интересно посмотреть динамику новых случаев\n",
        "Здесь мы можем наблюдать так называемые \"волны\" распространения короновируса"
      ],
      "id": "formed-candy"
    },
    {
      "cell_type": "code",
      "metadata": {
        "id": "automotive-zoning",
        "outputId": "f61c8966-cb37-4ea1-f34c-d6c79f7b855a"
      },
      "source": [
        "world_stats.new_cases.plot()"
      ],
      "id": "automotive-zoning",
      "execution_count": null,
      "outputs": [
        {
          "output_type": "execute_result",
          "data": {
            "text/plain": [
              "<AxesSubplot:>"
            ]
          },
          "metadata": {
            "tags": []
          },
          "execution_count": 94
        },
        {
          "output_type": "display_data",
          "data": {
            "image/png": "[encoded data removed]",
            "text/plain": [
              "<Figure size 432x288 with 1 Axes>"
            ]
          },
          "metadata": {
            "tags": [],
            "needs_background": "light"
          }
        }
      ]
    },
    {
      "cell_type": "markdown",
      "metadata": {
        "id": "retired-address"
      },
      "source": [
        "И всех случаев"
      ],
      "id": "retired-address"
    },
    {
      "cell_type": "code",
      "metadata": {
        "id": "purple-portable",
        "outputId": "7a77f055-a009-4399-c7d5-2964f3fba374"
      },
      "source": [
        "world_stats.total_cases.plot()"
      ],
      "id": "purple-portable",
      "execution_count": null,
      "outputs": [
        {
          "output_type": "execute_result",
          "data": {
            "text/plain": [
              "<AxesSubplot:>"
            ]
          },
          "metadata": {
            "tags": []
          },
          "execution_count": 99
        },
        {
          "output_type": "display_data",
          "data": {
            "image/png": "[encoded data removed]",
            "text/plain": [
              "<Figure size 432x288 with 1 Axes>"
            ]
          },
          "metadata": {
            "tags": [],
            "needs_background": "light"
          }
        }
      ]
    },
    {
      "cell_type": "markdown",
      "metadata": {
        "id": "collect-equation"
      },
      "source": [
        "И динамику твиттов в день  \n",
        "Как мы видим интерес к короновирусу сначала нарастает, потом достигает пика и падет, иногда снова повышаясь  \n",
        "Из этого можно сделать вывод, что интерес к коронавирусу тоже волнообразен  \n",
        "Но не коррелирует с количеством новых случаев\n",
        "Потому что пик интереса пришёлся на момент, когда случаев было не так много, но вирус был в новинку"
      ],
      "id": "collect-equation"
    },
    {
      "cell_type": "code",
      "metadata": {
        "id": "narrow-watershed",
        "outputId": "52ef6feb-a484-43ba-ebb4-1bb27f37cb57"
      },
      "source": [
        "count_of_twitts_per_day['count'].plot()"
      ],
      "id": "narrow-watershed",
      "execution_count": null,
      "outputs": [
        {
          "output_type": "execute_result",
          "data": {
            "text/plain": [
              "<AxesSubplot:>"
            ]
          },
          "metadata": {
            "tags": []
          },
          "execution_count": 101
        },
        {
          "output_type": "display_data",
          "data": {
            "image/png": "[encoded data removed]",
            "text/plain": [
              "<Figure size 432x288 with 1 Axes>"
            ]
          },
          "metadata": {
            "tags": [],
            "needs_background": "light"
          }
        }
      ]
    },
    {
      "cell_type": "markdown",
      "metadata": {
        "id": "buried-republican"
      },
      "source": [
        "Исходя из теста Колмогорова-Смирнова можно наблюдать схожую картину - распределения не идентичные"
      ],
      "id": "buried-republican"
    },
    {
      "cell_type": "code",
      "metadata": {
        "id": "measured-cotton",
        "outputId": "0bee9d38-36a4-403a-9dd8-90972b11b016"
      },
      "source": [
        "ks_2samp(list(world_stats.new_cases), count_of_twitts_per_day['count'])"
      ],
      "id": "measured-cotton",
      "execution_count": null,
      "outputs": [
        {
          "output_type": "execute_result",
          "data": {
            "text/plain": [
              "KstestResult(statistic=0.91324200913242, pvalue=7.771561172376096e-16)"
            ]
          },
          "metadata": {
            "tags": []
          },
          "execution_count": 60
        }
      ]
    },
    {
      "cell_type": "markdown",
      "metadata": {
        "id": "perfect-background"
      },
      "source": [
        "Так же интересно посмотреть распределение позитивных/негативных твиттов  \n",
        "Меня несколько удивил тот факт, что позитивных твиттов о короновирусе больше, чем негативных"
      ],
      "id": "perfect-background"
    },
    {
      "cell_type": "code",
      "metadata": {
        "id": "greenhouse-arbor",
        "outputId": "bd644e3d-81f1-4aa5-de13-f357342ac501"
      },
      "source": [
        "twitter_data.Sentiment.value_counts().plot.bar()"
      ],
      "id": "greenhouse-arbor",
      "execution_count": null,
      "outputs": [
        {
          "output_type": "execute_result",
          "data": {
            "text/plain": [
              "<AxesSubplot:>"
            ]
          },
          "metadata": {
            "tags": []
          },
          "execution_count": 8
        },
        {
          "output_type": "display_data",
          "data": {
            "image/png": "[encoded data removed]",
            "text/plain": [
              "<Figure size 432x288 with 1 Axes>"
            ]
          },
          "metadata": {
            "tags": [],
            "needs_background": "light"
          }
        }
      ]
    },
    {
      "cell_type": "markdown",
      "metadata": {
        "id": "historic-outdoors"
      },
      "source": [
        "Так же интересно было бы посмотреть на график динамики количества позитивных/негативных твиттов о короновирусе в зависимости от дней  \n",
        "\n",
        "Для этого нам нужно сначала посчитать статистику по дням, а так же по эмоциональному окрасу твиттов в этот день"
      ],
      "id": "historic-outdoors"
    },
    {
      "cell_type": "code",
      "metadata": {
        "id": "neither-filing"
      },
      "source": [
        "d = dict()\n",
        "\n",
        "for index, row in twitter_data.iterrows():\n",
        "    if d.get(row.date) is None:\n",
        "        d[row.date] = {\"Positive\":0, \"Negative\": 0, \"Neutral\":0, \"Extremely Positive\":0, \"Extremely Negative\":0}\n",
        "    else:\n",
        "        new_count = d[row.date].get(row.Sentiment) + 1\n",
        "        d[row.date][row.Sentiment] = new_count"
      ],
      "id": "neither-filing",
      "execution_count": null,
      "outputs": []
    },
    {
      "cell_type": "code",
      "metadata": {
        "id": "driven-station",
        "outputId": "91434df8-6d12-493d-81f7-32a12fcefd9d"
      },
      "source": [
        "d"
      ],
      "id": "driven-station",
      "execution_count": null,
      "outputs": [
        {
          "output_type": "execute_result",
          "data": {
            "text/plain": [
              "{'16-03-2020': {'Positive': 186,\n",
              "  'Negative': 165,\n",
              "  'Neutral': 107,\n",
              "  'Extremely Positive': 99,\n",
              "  'Extremely Negative': 98},\n",
              " '17-03-2020': {'Positive': 507,\n",
              "  'Negative': 518,\n",
              "  'Neutral': 361,\n",
              "  'Extremely Positive': 286,\n",
              "  'Extremely Negative': 304},\n",
              " '18-03-2020': {'Positive': 740,\n",
              "  'Negative': 674,\n",
              "  'Neutral': 486,\n",
              "  'Extremely Positive': 408,\n",
              "  'Extremely Negative': 433},\n",
              " '19-03-2020': {'Positive': 863,\n",
              "  'Negative': 809,\n",
              "  'Neutral': 571,\n",
              "  'Extremely Positive': 482,\n",
              "  'Extremely Negative': 489},\n",
              " '20-03-2020': {'Positive': 910,\n",
              "  'Negative': 869,\n",
              "  'Neutral': 597,\n",
              "  'Extremely Positive': 477,\n",
              "  'Extremely Negative': 594},\n",
              " '21-03-2020': {'Positive': 710,\n",
              "  'Negative': 688,\n",
              "  'Neutral': 456,\n",
              "  'Extremely Positive': 426,\n",
              "  'Extremely Negative': 372},\n",
              " '22-03-2020': {'Positive': 588,\n",
              "  'Negative': 488,\n",
              "  'Neutral': 381,\n",
              "  'Extremely Positive': 374,\n",
              "  'Extremely Negative': 282},\n",
              " '23-03-2020': {'Positive': 614,\n",
              "  'Negative': 479,\n",
              "  'Neutral': 394,\n",
              "  'Extremely Positive': 328,\n",
              "  'Extremely Negative': 246},\n",
              " '24-03-2020': {'Positive': 402,\n",
              "  'Negative': 372,\n",
              "  'Neutral': 284,\n",
              "  'Extremely Positive': 213,\n",
              "  'Extremely Negative': 208},\n",
              " '25-03-2020': {'Positive': 886,\n",
              "  'Negative': 687,\n",
              "  'Neutral': 524,\n",
              "  'Extremely Positive': 545,\n",
              "  'Extremely Negative': 336},\n",
              " '26-03-2020': {'Positive': 343,\n",
              "  'Negative': 315,\n",
              "  'Neutral': 263,\n",
              "  'Extremely Positive': 219,\n",
              "  'Extremely Negative': 136},\n",
              " '27-03-2020': {'Positive': 91,\n",
              "  'Negative': 96,\n",
              "  'Neutral': 80,\n",
              "  'Extremely Positive': 39,\n",
              "  'Extremely Negative': 38},\n",
              " '28-03-2020': {'Positive': 5,\n",
              "  'Negative': 4,\n",
              "  'Neutral': 1,\n",
              "  'Extremely Positive': 11,\n",
              "  'Extremely Negative': 1},\n",
              " '29-03-2020': {'Positive': 42,\n",
              "  'Negative': 22,\n",
              "  'Neutral': 28,\n",
              "  'Extremely Positive': 23,\n",
              "  'Extremely Negative': 9},\n",
              " '30-03-2020': {'Positive': 23,\n",
              "  'Negative': 20,\n",
              "  'Neutral': 10,\n",
              "  'Extremely Positive': 14,\n",
              "  'Extremely Negative': 19},\n",
              " '31-03-2020': {'Positive': 99,\n",
              "  'Negative': 88,\n",
              "  'Neutral': 42,\n",
              "  'Extremely Positive': 48,\n",
              "  'Extremely Negative': 38},\n",
              " '01-04-2020': {'Positive': 170,\n",
              "  'Negative': 156,\n",
              "  'Neutral': 125,\n",
              "  'Extremely Positive': 89,\n",
              "  'Extremely Negative': 89},\n",
              " '02-04-2020': {'Positive': 251,\n",
              "  'Negative': 242,\n",
              "  'Neutral': 200,\n",
              "  'Extremely Positive': 141,\n",
              "  'Extremely Negative': 119},\n",
              " '03-04-2020': {'Positive': 227,\n",
              "  'Negative': 208,\n",
              "  'Neutral': 154,\n",
              "  'Extremely Positive': 117,\n",
              "  'Extremely Negative': 103},\n",
              " '04-04-2020': {'Positive': 232,\n",
              "  'Negative': 163,\n",
              "  'Neutral': 130,\n",
              "  'Extremely Positive': 129,\n",
              "  'Extremely Negative': 112},\n",
              " '05-04-2020': {'Positive': 306,\n",
              "  'Negative': 262,\n",
              "  'Neutral': 235,\n",
              "  'Extremely Positive': 207,\n",
              "  'Extremely Negative': 120},\n",
              " '06-04-2020': {'Positive': 471,\n",
              "  'Negative': 423,\n",
              "  'Neutral': 359,\n",
              "  'Extremely Positive': 281,\n",
              "  'Extremely Negative': 207},\n",
              " '07-04-2020': {'Positive': 521,\n",
              "  'Negative': 433,\n",
              "  'Neutral': 374,\n",
              "  'Extremely Positive': 287,\n",
              "  'Extremely Negative': 227},\n",
              " '08-04-2020': {'Positive': 558,\n",
              "  'Negative': 409,\n",
              "  'Neutral': 365,\n",
              "  'Extremely Positive': 334,\n",
              "  'Extremely Negative': 214},\n",
              " '09-04-2020': {'Positive': 430,\n",
              "  'Negative': 309,\n",
              "  'Neutral': 285,\n",
              "  'Extremely Positive': 288,\n",
              "  'Extremely Negative': 158},\n",
              " '10-04-2020': {'Positive': 287,\n",
              "  'Negative': 196,\n",
              "  'Neutral': 239,\n",
              "  'Extremely Positive': 167,\n",
              "  'Extremely Negative': 115},\n",
              " '11-04-2020': {'Positive': 262,\n",
              "  'Negative': 208,\n",
              "  'Neutral': 182,\n",
              "  'Extremely Positive': 163,\n",
              "  'Extremely Negative': 93},\n",
              " '12-04-2020': {'Positive': 210,\n",
              "  'Negative': 206,\n",
              "  'Neutral': 146,\n",
              "  'Extremely Positive': 138,\n",
              "  'Extremely Negative': 102},\n",
              " '13-04-2020': {'Positive': 408,\n",
              "  'Negative': 330,\n",
              "  'Neutral': 271,\n",
              "  'Extremely Positive': 241,\n",
              "  'Extremely Negative': 177},\n",
              " '14-04-2020': {'Positive': 73,\n",
              "  'Negative': 69,\n",
              "  'Neutral': 60,\n",
              "  'Extremely Positive': 44,\n",
              "  'Extremely Negative': 37}}"
            ]
          },
          "metadata": {
            "tags": []
          },
          "execution_count": 27
        }
      ]
    },
    {
      "cell_type": "code",
      "metadata": {
        "id": "coordinated-merchant"
      },
      "source": [
        "list_of_positive = []\n",
        "list_of_negative = []\n",
        "list_of_ex_positive = []\n",
        "list_of_ex_negative = []\n",
        "list_of_neutral = []\n",
        "\n",
        "for key in d.keys():\n",
        "    dict_of_sentiment = d.get(key)\n",
        "    list_of_positive.append(dict_of_sentiment.get(\"Positive\"))\n",
        "    list_of_negative.append(dict_of_sentiment.get(\"Negative\"))\n",
        "    list_of_ex_positive.append(dict_of_sentiment.get(\"Extremely Positive\"))\n",
        "    list_of_ex_negative.append(dict_of_sentiment.get(\"Extremely Negative\"))\n",
        "    list_of_neutral.append(dict_of_sentiment.get(\"Neutral\"))"
      ],
      "id": "coordinated-merchant",
      "execution_count": null,
      "outputs": []
    },
    {
      "cell_type": "markdown",
      "metadata": {
        "id": "satisfactory-handy"
      },
      "source": [
        "У нас получилось такое распределение твиттов  \n",
        "Как видно из графика распределения очень похожи  \n",
        "Из этого можно сделать вывод, что эмоциональная окраска так же не зависит от количества новых случаев в день "
      ],
      "id": "satisfactory-handy"
    },
    {
      "cell_type": "code",
      "metadata": {
        "id": "initial-branch",
        "outputId": "66650469-e7cf-45fe-a2cc-afd589b352a5"
      },
      "source": [
        "plt.plot(list_of_positive)\n",
        "plt.plot(list_of_negative)\n",
        "plt.plot(list_of_ex_positive)\n",
        "plt.plot(list_of_ex_negative)\n",
        "plt.plot(list_of_neutral)\n",
        "plt.legend([\"Positive\", \"Negative\", \"Extremely Positive\", \"Extremely Negative\", \"Neutral\"])"
      ],
      "id": "initial-branch",
      "execution_count": null,
      "outputs": [
        {
          "output_type": "execute_result",
          "data": {
            "text/plain": [
              "<matplotlib.legend.Legend at 0x7f280ae104f0>"
            ]
          },
          "metadata": {
            "tags": []
          },
          "execution_count": 30
        },
        {
          "output_type": "display_data",
          "data": {
            "image/png": "[encoded data removed]",
            "text/plain": [
              "<Figure size 432x288 with 1 Axes>"
            ]
          },
          "metadata": {
            "tags": [],
            "needs_background": "light"
          }
        }
      ]
    },
    {
      "cell_type": "markdown",
      "metadata": {
        "id": "desperate-calibration"
      },
      "source": [
        "Проверим теорию схожости двух распределений тестом Колмогорова-Смирнова.  \n",
        "Как мы видим, распределения схожи"
      ],
      "id": "desperate-calibration"
    },
    {
      "cell_type": "code",
      "metadata": {
        "id": "operating-message",
        "outputId": "94ac7a3c-34cf-463e-db90-770b78fdc4ee"
      },
      "source": [
        "ks_2samp(list_of_positive, list_of_negative)"
      ],
      "id": "operating-message",
      "execution_count": null,
      "outputs": [
        {
          "output_type": "execute_result",
          "data": {
            "text/plain": [
              "KstestResult(statistic=0.16666666666666666, pvalue=0.8079631540901643)"
            ]
          },
          "metadata": {
            "tags": []
          },
          "execution_count": 59
        }
      ]
    },
    {
      "cell_type": "code",
      "metadata": {
        "id": "norwegian-turkey",
        "outputId": "214e5bb4-9a62-487e-c56a-c353a5221086"
      },
      "source": [
        "coronovirus_data.continent.value_counts().plot.bar()"
      ],
      "id": "norwegian-turkey",
      "execution_count": null,
      "outputs": [
        {
          "output_type": "execute_result",
          "data": {
            "text/plain": [
              "<AxesSubplot:>"
            ]
          },
          "metadata": {
            "tags": []
          },
          "execution_count": 68
        },
        {
          "output_type": "display_data",
          "data": {
            "image/png": "[encoded data removed]",
            "text/plain": [
              "<Figure size 432x288 with 1 Axes>"
            ]
          },
          "metadata": {
            "tags": [],
            "needs_background": "light"
          }
        }
      ]
    },
    {
      "cell_type": "markdown",
      "metadata": {
        "id": "solved-spirituality"
      },
      "source": [
        "Теперь построим корреляционную матрицу. Возьмем только те столбцы, где мало пропущенных значений.  \n",
        "Как мы видим, корреляцию можно наблюдать только между очевидными метриками, такими как количество смертей, количество заболевших, новое число заболевших.  \n",
        "Вообще я расчитывала увидить корреляцию (отрицательную) между уровнем жизни и количеством смертей или между количеством смертей и количеством человек старше 70ти лет.  \n",
        "Но в тоже время мы можем наблюдать корреляцию между уровнем жизни и количеством человек старше 70ти лет."
      ],
      "id": "solved-spirituality"
    },
    {
      "cell_type": "code",
      "metadata": {
        "id": "cardiac-microwave",
        "outputId": "38f38746-f6a2-42f2-85f4-15634e4ec360"
      },
      "source": [
        "corr_data = coronovirus_data[['total_cases', 'total_deaths', 'aged_65_older', 'aged_70_older', \n",
        "                              'diabetes_prevalence', 'female_smokers', 'male_smokers', 'handwashing_facilities',\n",
        "                             'hospital_beds_per_thousand', 'life_expectancy', 'human_development_index']]\n",
        "corr = corr_data.corr()\n",
        "sns.heatmap(corr)"
      ],
      "id": "cardiac-microwave",
      "execution_count": null,
      "outputs": [
        {
          "output_type": "execute_result",
          "data": {
            "text/plain": [
              "<AxesSubplot:>"
            ]
          },
          "metadata": {
            "tags": []
          },
          "execution_count": 96
        },
        {
          "output_type": "display_data",
          "data": {
            "image/png": "[encoded data removed]",
            "text/plain": [
              "<Figure size 432x288 with 2 Axes>"
            ]
          },
          "metadata": {
            "tags": [],
            "needs_background": "light"
          }
        }
      ]
    },
    {
      "cell_type": "code",
      "metadata": {
        "id": "bronze-edgar",
        "outputId": "4fb777c9-9263-4ccc-9009-ca1cf81ad8e3"
      },
      "source": [
        "corr"
      ],
      "id": "bronze-edgar",
      "execution_count": null,
      "outputs": [
        {
          "output_type": "execute_result",
          "data": {
            "text/html": [
              "<div>\n",
              "<style scoped>\n",
              "    .dataframe tbody tr th:only-of-type {\n",
              "        vertical-align: middle;\n",
              "    }\n",
              "\n",
              "    .dataframe tbody tr th {\n",
              "        vertical-align: top;\n",
              "    }\n",
              "\n",
              "    .dataframe thead th {\n",
              "        text-align: right;\n",
              "    }\n",
              "</style>\n",
              "<table border=\"1\" class=\"dataframe\">\n",
              "  <thead>\n",
              "    <tr style=\"text-align: right;\">\n",
              "      <th></th>\n",
              "      <th>total_cases</th>\n",
              "      <th>total_deaths</th>\n",
              "      <th>aged_65_older</th>\n",
              "      <th>aged_70_older</th>\n",
              "      <th>diabetes_prevalence</th>\n",
              "      <th>female_smokers</th>\n",
              "      <th>male_smokers</th>\n",
              "      <th>handwashing_facilities</th>\n",
              "      <th>hospital_beds_per_thousand</th>\n",
              "      <th>life_expectancy</th>\n",
              "      <th>human_development_index</th>\n",
              "    </tr>\n",
              "  </thead>\n",
              "  <tbody>\n",
              "    <tr>\n",
              "      <th>total_cases</th>\n",
              "      <td>1.000000</td>\n",
              "      <td>0.984827</td>\n",
              "      <td>0.028851</td>\n",
              "      <td>0.025676</td>\n",
              "      <td>0.020765</td>\n",
              "      <td>-0.001082</td>\n",
              "      <td>-0.009486</td>\n",
              "      <td>0.030270</td>\n",
              "      <td>-0.007580</td>\n",
              "      <td>0.021034</td>\n",
              "      <td>0.036663</td>\n",
              "    </tr>\n",
              "    <tr>\n",
              "      <th>total_deaths</th>\n",
              "      <td>0.984827</td>\n",
              "      <td>1.000000</td>\n",
              "      <td>0.032303</td>\n",
              "      <td>0.029716</td>\n",
              "      <td>0.026848</td>\n",
              "      <td>-0.002932</td>\n",
              "      <td>-0.009586</td>\n",
              "      <td>0.039996</td>\n",
              "      <td>-0.011423</td>\n",
              "      <td>0.026235</td>\n",
              "      <td>0.041804</td>\n",
              "    </tr>\n",
              "    <tr>\n",
              "      <th>aged_65_older</th>\n",
              "      <td>0.028851</td>\n",
              "      <td>0.032303</td>\n",
              "      <td>1.000000</td>\n",
              "      <td>0.994797</td>\n",
              "      <td>-0.069309</td>\n",
              "      <td>0.769555</td>\n",
              "      <td>0.097088</td>\n",
              "      <td>0.640661</td>\n",
              "      <td>0.651448</td>\n",
              "      <td>0.731899</td>\n",
              "      <td>0.778848</td>\n",
              "    </tr>\n",
              "    <tr>\n",
              "      <th>aged_70_older</th>\n",
              "      <td>0.025676</td>\n",
              "      <td>0.029716</td>\n",
              "      <td>0.994797</td>\n",
              "      <td>1.000000</td>\n",
              "      <td>-0.099294</td>\n",
              "      <td>0.772185</td>\n",
              "      <td>0.095913</td>\n",
              "      <td>0.636651</td>\n",
              "      <td>0.652259</td>\n",
              "      <td>0.719881</td>\n",
              "      <td>0.766610</td>\n",
              "    </tr>\n",
              "    <tr>\n",
              "      <th>diabetes_prevalence</th>\n",
              "      <td>0.020765</td>\n",
              "      <td>0.026848</td>\n",
              "      <td>-0.069309</td>\n",
              "      <td>-0.099294</td>\n",
              "      <td>1.000000</td>\n",
              "      <td>-0.066998</td>\n",
              "      <td>0.169218</td>\n",
              "      <td>0.518711</td>\n",
              "      <td>-0.081657</td>\n",
              "      <td>0.254689</td>\n",
              "      <td>0.235504</td>\n",
              "    </tr>\n",
              "    <tr>\n",
              "      <th>female_smokers</th>\n",
              "      <td>-0.001082</td>\n",
              "      <td>-0.002932</td>\n",
              "      <td>0.769555</td>\n",
              "      <td>0.772185</td>\n",
              "      <td>-0.066998</td>\n",
              "      <td>1.000000</td>\n",
              "      <td>0.193669</td>\n",
              "      <td>0.291342</td>\n",
              "      <td>0.491532</td>\n",
              "      <td>0.522691</td>\n",
              "      <td>0.582294</td>\n",
              "    </tr>\n",
              "    <tr>\n",
              "      <th>male_smokers</th>\n",
              "      <td>-0.009486</td>\n",
              "      <td>-0.009586</td>\n",
              "      <td>0.097088</td>\n",
              "      <td>0.095913</td>\n",
              "      <td>0.169218</td>\n",
              "      <td>0.193669</td>\n",
              "      <td>1.000000</td>\n",
              "      <td>0.336485</td>\n",
              "      <td>0.359852</td>\n",
              "      <td>0.067968</td>\n",
              "      <td>0.099474</td>\n",
              "    </tr>\n",
              "    <tr>\n",
              "      <th>handwashing_facilities</th>\n",
              "      <td>0.030270</td>\n",
              "      <td>0.039996</td>\n",
              "      <td>0.640661</td>\n",
              "      <td>0.636651</td>\n",
              "      <td>0.518711</td>\n",
              "      <td>0.291342</td>\n",
              "      <td>0.336485</td>\n",
              "      <td>1.000000</td>\n",
              "      <td>0.447627</td>\n",
              "      <td>0.823135</td>\n",
              "      <td>0.836768</td>\n",
              "    </tr>\n",
              "    <tr>\n",
              "      <th>hospital_beds_per_thousand</th>\n",
              "      <td>-0.007580</td>\n",
              "      <td>-0.011423</td>\n",
              "      <td>0.651448</td>\n",
              "      <td>0.652259</td>\n",
              "      <td>-0.081657</td>\n",
              "      <td>0.491532</td>\n",
              "      <td>0.359852</td>\n",
              "      <td>0.447627</td>\n",
              "      <td>1.000000</td>\n",
              "      <td>0.469543</td>\n",
              "      <td>0.558353</td>\n",
              "    </tr>\n",
              "    <tr>\n",
              "      <th>life_expectancy</th>\n",
              "      <td>0.021034</td>\n",
              "      <td>0.026235</td>\n",
              "      <td>0.731899</td>\n",
              "      <td>0.719881</td>\n",
              "      <td>0.254689</td>\n",
              "      <td>0.522691</td>\n",
              "      <td>0.067968</td>\n",
              "      <td>0.823135</td>\n",
              "      <td>0.469543</td>\n",
              "      <td>1.000000</td>\n",
              "      <td>0.914282</td>\n",
              "    </tr>\n",
              "    <tr>\n",
              "      <th>human_development_index</th>\n",
              "      <td>0.036663</td>\n",
              "      <td>0.041804</td>\n",
              "      <td>0.778848</td>\n",
              "      <td>0.766610</td>\n",
              "      <td>0.235504</td>\n",
              "      <td>0.582294</td>\n",
              "      <td>0.099474</td>\n",
              "      <td>0.836768</td>\n",
              "      <td>0.558353</td>\n",
              "      <td>0.914282</td>\n",
              "      <td>1.000000</td>\n",
              "    </tr>\n",
              "  </tbody>\n",
              "</table>\n",
              "</div>"
            ],
            "text/plain": [
              "                            total_cases  total_deaths  aged_65_older  \\\n",
              "total_cases                    1.000000      0.984827       0.028851   \n",
              "total_deaths                   0.984827      1.000000       0.032303   \n",
              "aged_65_older                  0.028851      0.032303       1.000000   \n",
              "aged_70_older                  0.025676      0.029716       0.994797   \n",
              "diabetes_prevalence            0.020765      0.026848      -0.069309   \n",
              "female_smokers                -0.001082     -0.002932       0.769555   \n",
              "male_smokers                  -0.009486     -0.009586       0.097088   \n",
              "handwashing_facilities         0.030270      0.039996       0.640661   \n",
              "hospital_beds_per_thousand    -0.007580     -0.011423       0.651448   \n",
              "life_expectancy                0.021034      0.026235       0.731899   \n",
              "human_development_index        0.036663      0.041804       0.778848   \n",
              "\n",
              "                            aged_70_older  diabetes_prevalence  \\\n",
              "total_cases                      0.025676             0.020765   \n",
              "total_deaths                     0.029716             0.026848   \n",
              "aged_65_older                    0.994797            -0.069309   \n",
              "aged_70_older                    1.000000            -0.099294   \n",
              "diabetes_prevalence             -0.099294             1.000000   \n",
              "female_smokers                   0.772185            -0.066998   \n",
              "male_smokers                     0.095913             0.169218   \n",
              "handwashing_facilities           0.636651             0.518711   \n",
              "hospital_beds_per_thousand       0.652259            -0.081657   \n",
              "life_expectancy                  0.719881             0.254689   \n",
              "human_development_index          0.766610             0.235504   \n",
              "\n",
              "                            female_smokers  male_smokers  \\\n",
              "total_cases                      -0.001082     -0.009486   \n",
              "total_deaths                     -0.002932     -0.009586   \n",
              "aged_65_older                     0.769555      0.097088   \n",
              "aged_70_older                     0.772185      0.095913   \n",
              "diabetes_prevalence              -0.066998      0.169218   \n",
              "female_smokers                    1.000000      0.193669   \n",
              "male_smokers                      0.193669      1.000000   \n",
              "handwashing_facilities            0.291342      0.336485   \n",
              "hospital_beds_per_thousand        0.491532      0.359852   \n",
              "life_expectancy                   0.522691      0.067968   \n",
              "human_development_index           0.582294      0.099474   \n",
              "\n",
              "                            handwashing_facilities  \\\n",
              "total_cases                               0.030270   \n",
              "total_deaths                              0.039996   \n",
              "aged_65_older                             0.640661   \n",
              "aged_70_older                             0.636651   \n",
              "diabetes_prevalence                       0.518711   \n",
              "female_smokers                            0.291342   \n",
              "male_smokers                              0.336485   \n",
              "handwashing_facilities                    1.000000   \n",
              "hospital_beds_per_thousand                0.447627   \n",
              "life_expectancy                           0.823135   \n",
              "human_development_index                   0.836768   \n",
              "\n",
              "                            hospital_beds_per_thousand  life_expectancy  \\\n",
              "total_cases                                  -0.007580         0.021034   \n",
              "total_deaths                                 -0.011423         0.026235   \n",
              "aged_65_older                                 0.651448         0.731899   \n",
              "aged_70_older                                 0.652259         0.719881   \n",
              "diabetes_prevalence                          -0.081657         0.254689   \n",
              "female_smokers                                0.491532         0.522691   \n",
              "male_smokers                                  0.359852         0.067968   \n",
              "handwashing_facilities                        0.447627         0.823135   \n",
              "hospital_beds_per_thousand                    1.000000         0.469543   \n",
              "life_expectancy                               0.469543         1.000000   \n",
              "human_development_index                       0.558353         0.914282   \n",
              "\n",
              "                            human_development_index  \n",
              "total_cases                                0.036663  \n",
              "total_deaths                               0.041804  \n",
              "aged_65_older                              0.778848  \n",
              "aged_70_older                              0.766610  \n",
              "diabetes_prevalence                        0.235504  \n",
              "female_smokers                             0.582294  \n",
              "male_smokers                               0.099474  \n",
              "handwashing_facilities                     0.836768  \n",
              "hospital_beds_per_thousand                 0.558353  \n",
              "life_expectancy                            0.914282  \n",
              "human_development_index                    1.000000  "
            ]
          },
          "metadata": {
            "tags": []
          },
          "execution_count": 97
        }
      ]
    },
    {
      "cell_type": "code",
      "metadata": {
        "id": "combined-arabic"
      },
      "source": [
        ""
      ],
      "id": "combined-arabic",
      "execution_count": null,
      "outputs": []
    }
  ]
}