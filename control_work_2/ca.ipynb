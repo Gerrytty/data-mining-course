{
 "cells": [
  {
   "cell_type": "code",
   "execution_count": 1,
   "id": "unique-prediction",
   "metadata": {},
   "outputs": [],
   "source": [
    "import pandas as pd\n",
    "import re\n",
    "import string\n",
    "from nltk.corpus import stopwords\n",
    "import nltk\n",
    "import boto3\n",
    "from botocore.exceptions import ClientError\n",
    "import os\n",
    "import json\n",
    "import pymorphy2\n",
    "from sklearn.model_selection import train_test_split\n",
    "from sklearn.feature_extraction.text import CountVectorizer\n",
    "from sklearn.ensemble import RandomForestClassifier\n",
    "from xgboost import XGBClassifier\n",
    "import numpy as np\n",
    "from sklearn.linear_model import LogisticRegression\n",
    "from sklearn.model_selection import cross_val_score\n",
    "import warnings\n",
    "from sklearn.exceptions import ConvergenceWarning\n",
    "warnings.filterwarnings(action='ignore', category=ConvergenceWarning)\n",
    "import word2vec"
   ]
  },
  {
   "cell_type": "code",
   "execution_count": 2,
   "id": "included-bandwidth",
   "metadata": {},
   "outputs": [
    {
     "data": {
      "text/html": [
       "<div>\n",
       "<style scoped>\n",
       "    .dataframe tbody tr th:only-of-type {\n",
       "        vertical-align: middle;\n",
       "    }\n",
       "\n",
       "    .dataframe tbody tr th {\n",
       "        vertical-align: top;\n",
       "    }\n",
       "\n",
       "    .dataframe thead th {\n",
       "        text-align: right;\n",
       "    }\n",
       "</style>\n",
       "<table border=\"1\" class=\"dataframe\">\n",
       "  <thead>\n",
       "    <tr style=\"text-align: right;\">\n",
       "      <th></th>\n",
       "      <th>UserName</th>\n",
       "      <th>ScreenName</th>\n",
       "      <th>Location</th>\n",
       "      <th>TweetAt</th>\n",
       "      <th>OriginalTweet</th>\n",
       "      <th>Sentiment</th>\n",
       "    </tr>\n",
       "  </thead>\n",
       "  <tbody>\n",
       "    <tr>\n",
       "      <th>0</th>\n",
       "      <td>3799</td>\n",
       "      <td>48751</td>\n",
       "      <td>London</td>\n",
       "      <td>16-03-2020</td>\n",
       "      <td>@MeNyrbie @Phil_Gahan @Chrisitv https://t.co/i...</td>\n",
       "      <td>Neutral</td>\n",
       "    </tr>\n",
       "    <tr>\n",
       "      <th>1</th>\n",
       "      <td>3800</td>\n",
       "      <td>48752</td>\n",
       "      <td>UK</td>\n",
       "      <td>16-03-2020</td>\n",
       "      <td>advice Talk to your neighbours family to excha...</td>\n",
       "      <td>Positive</td>\n",
       "    </tr>\n",
       "    <tr>\n",
       "      <th>2</th>\n",
       "      <td>3801</td>\n",
       "      <td>48753</td>\n",
       "      <td>Vagabonds</td>\n",
       "      <td>16-03-2020</td>\n",
       "      <td>Coronavirus Australia: Woolworths to give elde...</td>\n",
       "      <td>Positive</td>\n",
       "    </tr>\n",
       "    <tr>\n",
       "      <th>3</th>\n",
       "      <td>3802</td>\n",
       "      <td>48754</td>\n",
       "      <td>NaN</td>\n",
       "      <td>16-03-2020</td>\n",
       "      <td>My food stock is not the only one which is emp...</td>\n",
       "      <td>Positive</td>\n",
       "    </tr>\n",
       "    <tr>\n",
       "      <th>4</th>\n",
       "      <td>3803</td>\n",
       "      <td>48755</td>\n",
       "      <td>NaN</td>\n",
       "      <td>16-03-2020</td>\n",
       "      <td>Me, ready to go at supermarket during the #COV...</td>\n",
       "      <td>Extremely Negative</td>\n",
       "    </tr>\n",
       "  </tbody>\n",
       "</table>\n",
       "</div>"
      ],
      "text/plain": [
       "   UserName  ScreenName   Location     TweetAt  \\\n",
       "0      3799       48751     London  16-03-2020   \n",
       "1      3800       48752         UK  16-03-2020   \n",
       "2      3801       48753  Vagabonds  16-03-2020   \n",
       "3      3802       48754        NaN  16-03-2020   \n",
       "4      3803       48755        NaN  16-03-2020   \n",
       "\n",
       "                                       OriginalTweet           Sentiment  \n",
       "0  @MeNyrbie @Phil_Gahan @Chrisitv https://t.co/i...             Neutral  \n",
       "1  advice Talk to your neighbours family to excha...            Positive  \n",
       "2  Coronavirus Australia: Woolworths to give elde...            Positive  \n",
       "3  My food stock is not the only one which is emp...            Positive  \n",
       "4  Me, ready to go at supermarket during the #COV...  Extremely Negative  "
      ]
     },
     "execution_count": 2,
     "metadata": {},
     "output_type": "execute_result"
    }
   ],
   "source": [
    "twitter_data = pd.read_csv(\"input_data/Corona_NLP_train.csv\", encoding = \"ISO-8859-1\")\n",
    "twitter_data.head()"
   ]
  },
  {
   "cell_type": "code",
   "execution_count": 3,
   "id": "nasty-tutorial",
   "metadata": {},
   "outputs": [],
   "source": [
    "list_of_all_tweets = list(twitter_data['OriginalTweet'])"
   ]
  },
  {
   "cell_type": "markdown",
   "id": "great-discrimination",
   "metadata": {},
   "source": [
    "Для начала немного преподготовим наши данные, и объеденим Extremely Negative с Negative  \n",
    "и Extremely Positive с Positive"
   ]
  },
  {
   "cell_type": "code",
   "execution_count": 4,
   "id": "interesting-plaza",
   "metadata": {},
   "outputs": [
    {
     "data": {
      "text/html": [
       "<div>\n",
       "<style scoped>\n",
       "    .dataframe tbody tr th:only-of-type {\n",
       "        vertical-align: middle;\n",
       "    }\n",
       "\n",
       "    .dataframe tbody tr th {\n",
       "        vertical-align: top;\n",
       "    }\n",
       "\n",
       "    .dataframe thead th {\n",
       "        text-align: right;\n",
       "    }\n",
       "</style>\n",
       "<table border=\"1\" class=\"dataframe\">\n",
       "  <thead>\n",
       "    <tr style=\"text-align: right;\">\n",
       "      <th></th>\n",
       "      <th>UserName</th>\n",
       "      <th>ScreenName</th>\n",
       "      <th>Location</th>\n",
       "      <th>TweetAt</th>\n",
       "      <th>OriginalTweet</th>\n",
       "      <th>Sentiment</th>\n",
       "    </tr>\n",
       "  </thead>\n",
       "  <tbody>\n",
       "    <tr>\n",
       "      <th>0</th>\n",
       "      <td>3799</td>\n",
       "      <td>48751</td>\n",
       "      <td>London</td>\n",
       "      <td>16-03-2020</td>\n",
       "      <td>@MeNyrbie @Phil_Gahan @Chrisitv https://t.co/i...</td>\n",
       "      <td>Neutral</td>\n",
       "    </tr>\n",
       "    <tr>\n",
       "      <th>1</th>\n",
       "      <td>3800</td>\n",
       "      <td>48752</td>\n",
       "      <td>UK</td>\n",
       "      <td>16-03-2020</td>\n",
       "      <td>advice Talk to your neighbours family to excha...</td>\n",
       "      <td>Positive</td>\n",
       "    </tr>\n",
       "    <tr>\n",
       "      <th>2</th>\n",
       "      <td>3801</td>\n",
       "      <td>48753</td>\n",
       "      <td>Vagabonds</td>\n",
       "      <td>16-03-2020</td>\n",
       "      <td>Coronavirus Australia: Woolworths to give elde...</td>\n",
       "      <td>Positive</td>\n",
       "    </tr>\n",
       "    <tr>\n",
       "      <th>3</th>\n",
       "      <td>3802</td>\n",
       "      <td>48754</td>\n",
       "      <td>NaN</td>\n",
       "      <td>16-03-2020</td>\n",
       "      <td>My food stock is not the only one which is emp...</td>\n",
       "      <td>Positive</td>\n",
       "    </tr>\n",
       "    <tr>\n",
       "      <th>4</th>\n",
       "      <td>3803</td>\n",
       "      <td>48755</td>\n",
       "      <td>NaN</td>\n",
       "      <td>16-03-2020</td>\n",
       "      <td>Me, ready to go at supermarket during the #COV...</td>\n",
       "      <td>Negative</td>\n",
       "    </tr>\n",
       "  </tbody>\n",
       "</table>\n",
       "</div>"
      ],
      "text/plain": [
       "   UserName  ScreenName   Location     TweetAt  \\\n",
       "0      3799       48751     London  16-03-2020   \n",
       "1      3800       48752         UK  16-03-2020   \n",
       "2      3801       48753  Vagabonds  16-03-2020   \n",
       "3      3802       48754        NaN  16-03-2020   \n",
       "4      3803       48755        NaN  16-03-2020   \n",
       "\n",
       "                                       OriginalTweet Sentiment  \n",
       "0  @MeNyrbie @Phil_Gahan @Chrisitv https://t.co/i...   Neutral  \n",
       "1  advice Talk to your neighbours family to excha...  Positive  \n",
       "2  Coronavirus Australia: Woolworths to give elde...  Positive  \n",
       "3  My food stock is not the only one which is emp...  Positive  \n",
       "4  Me, ready to go at supermarket during the #COV...  Negative  "
      ]
     },
     "execution_count": 4,
     "metadata": {},
     "output_type": "execute_result"
    }
   ],
   "source": [
    "twitter_data.loc[twitter_data.Sentiment == 'Extremely Negative', 'Sentiment'] = 'Negative'\n",
    "twitter_data.loc[twitter_data.Sentiment == 'Extremely Positive', 'Sentiment'] = 'Positive'\n",
    "\n",
    "twitter_data.head()"
   ]
  },
  {
   "cell_type": "markdown",
   "id": "fluid-locking",
   "metadata": {},
   "source": [
    "1) Очистить данные от \"мусора\" - хэштегов, ссылок, запятых, точек и прочего.  "
   ]
  },
  {
   "cell_type": "code",
   "execution_count": 5,
   "id": "compact-manner",
   "metadata": {},
   "outputs": [],
   "source": [
    "def clean(data):\n",
    "    res = []\n",
    "    for i in range(0, len(data)):\n",
    "        temp = data[i]\n",
    "        temp = re.sub(\"@\\S+\", \" \", temp)\n",
    "        temp = re.sub(\"https*\\S+\", \" \", temp)\n",
    "        temp = re.sub(\"#\\S+\", \" \", temp)\n",
    "        temp = re.sub(\"\\'\\w+\", '', temp)\n",
    "        temp = re.sub('[%s]' % re.escape(string.punctuation), ' ', temp)\n",
    "        temp = re.sub(r'\\w*\\d+\\w*', '', temp)\n",
    "        temp = re.sub('\\s{2,}', \" \", temp)\n",
    "        list_of_temp = temp.split(\" \")\n",
    "        out = []\n",
    "        for temp in list_of_temp:\n",
    "            if not temp.isalpha():\n",
    "                continue\n",
    "            if temp == '':\n",
    "                continue\n",
    "            else:\n",
    "                out.append(temp.lower())\n",
    "        temp = ' '.join(out)\n",
    "        res.append(temp)\n",
    "    return res"
   ]
  },
  {
   "cell_type": "code",
   "execution_count": 6,
   "id": "optimum-panama",
   "metadata": {},
   "outputs": [],
   "source": [
    "out = clean(list(twitter_data['OriginalTweet']))"
   ]
  },
  {
   "cell_type": "markdown",
   "id": "welcome-things",
   "metadata": {},
   "source": [
    "Создадим новый датасет, с которым и будем работать в будущем.  \n",
    "Для определения тональности текста нам не понадобятся username, ScreenName, Location, TweetAt"
   ]
  },
  {
   "cell_type": "code",
   "execution_count": 7,
   "id": "postal-sally",
   "metadata": {},
   "outputs": [
    {
     "data": {
      "text/html": [
       "<div>\n",
       "<style scoped>\n",
       "    .dataframe tbody tr th:only-of-type {\n",
       "        vertical-align: middle;\n",
       "    }\n",
       "\n",
       "    .dataframe tbody tr th {\n",
       "        vertical-align: top;\n",
       "    }\n",
       "\n",
       "    .dataframe thead th {\n",
       "        text-align: right;\n",
       "    }\n",
       "</style>\n",
       "<table border=\"1\" class=\"dataframe\">\n",
       "  <thead>\n",
       "    <tr style=\"text-align: right;\">\n",
       "      <th></th>\n",
       "      <th>OriginalTweet</th>\n",
       "      <th>Sentiment</th>\n",
       "    </tr>\n",
       "  </thead>\n",
       "  <tbody>\n",
       "    <tr>\n",
       "      <th>0</th>\n",
       "      <td>and and</td>\n",
       "      <td>Neutral</td>\n",
       "    </tr>\n",
       "    <tr>\n",
       "      <th>1</th>\n",
       "      <td>advice talk to your neighbours family to excha...</td>\n",
       "      <td>Positive</td>\n",
       "    </tr>\n",
       "    <tr>\n",
       "      <th>2</th>\n",
       "      <td>coronavirus australia woolworths to give elder...</td>\n",
       "      <td>Positive</td>\n",
       "    </tr>\n",
       "    <tr>\n",
       "      <th>3</th>\n",
       "      <td>my food stock is not the only one which is emp...</td>\n",
       "      <td>Positive</td>\n",
       "    </tr>\n",
       "    <tr>\n",
       "      <th>4</th>\n",
       "      <td>me ready to go at supermarket during the outbr...</td>\n",
       "      <td>Negative</td>\n",
       "    </tr>\n",
       "  </tbody>\n",
       "</table>\n",
       "</div>"
      ],
      "text/plain": [
       "                                       OriginalTweet Sentiment\n",
       "0                                            and and   Neutral\n",
       "1  advice talk to your neighbours family to excha...  Positive\n",
       "2  coronavirus australia woolworths to give elder...  Positive\n",
       "3  my food stock is not the only one which is emp...  Positive\n",
       "4  me ready to go at supermarket during the outbr...  Negative"
      ]
     },
     "execution_count": 7,
     "metadata": {},
     "output_type": "execute_result"
    }
   ],
   "source": [
    "clean_twitts = pd.DataFrame()\n",
    "\n",
    "clean_twitts['OriginalTweet'] = out\n",
    "clean_twitts['Sentiment'] = twitter_data['Sentiment']\n",
    "\n",
    "clean_twitts.head()"
   ]
  },
  {
   "cell_type": "markdown",
   "id": "molecular-value",
   "metadata": {},
   "source": [
    "2) Найти эмоциональный окрас с помощью сервиса Amazon Comprehend"
   ]
  },
  {
   "cell_type": "code",
   "execution_count": 8,
   "id": "optical-highway",
   "metadata": {},
   "outputs": [
    {
     "data": {
      "text/plain": [
       "['Neutral', 'Positive', 'Negative']"
      ]
     },
     "execution_count": 8,
     "metadata": {},
     "output_type": "execute_result"
    }
   ],
   "source": [
    "# Посмотрим какие классы у нас вообще есть\n",
    "list_of_labels = list(clean_twitts['Sentiment'].unique())\n",
    "list_of_labels"
   ]
  },
  {
   "cell_type": "code",
   "execution_count": 9,
   "id": "still-farmer",
   "metadata": {},
   "outputs": [],
   "source": [
    "# функция разделяет твитты по классам и записывает их в файл, нужно мне для анализа в amazon comprehend\n",
    "def get_twitts(twitter_data, label, filename):\n",
    "    l = twitter_data[twitter_data.Sentiment == label]\n",
    "    l = list(l['OriginalTweet'])\n",
    "    \n",
    "    f = open(f\"{filename}.txt\", \"w\")\n",
    "    for twitt in l[0:int(len(l)/10)]:\n",
    "        f.write(twitt + \"\\n\")\n",
    "    f.close()"
   ]
  },
  {
   "cell_type": "code",
   "execution_count": 10,
   "id": "saved-preparation",
   "metadata": {},
   "outputs": [],
   "source": [
    "# создадим файл для каждого класса\n",
    "# в результате у нас есть три файла\n",
    "# в каждом файле-классе только твитты относящиеся к этому классу\n",
    "for label in list_of_labels:\n",
    "    get_twitts(clean_twitts, label, label)"
   ]
  },
  {
   "cell_type": "markdown",
   "id": "loving-bouquet",
   "metadata": {},
   "source": [
    "Далее а Amazon Comprehend я для каждого файла сделала анализ на Sentiment, по строчно.  \n",
    "Так как у меня в каждом файле хранятся твитты (разделенные новой строкой), относящиеся только к классу с названием файла, метрику accuracy можно посчитать следующим образом"
   ]
  },
  {
   "cell_type": "code",
   "execution_count": 11,
   "id": "applied-blanket",
   "metadata": {},
   "outputs": [],
   "source": [
    "def get_accuracy(filename, clean=False):\n",
    "    jsons = []\n",
    "    with open(filename) as f:\n",
    "        for line in f:\n",
    "            jsons.append(json.loads(line))\n",
    "    \n",
    "    score = 0\n",
    "    for j in jsons:\n",
    "        # сравниваю название файла с предсказаной тональностью (должны совпадать)\n",
    "        original_sentiment = j['File'].split(\".\")[0].lower()\n",
    "        if clean:\n",
    "            original_sentiment = original_sentiment.split(\"_\")[0]\n",
    "        pred_sentiment = j['Sentiment'].lower()\n",
    "        if original_sentiment == pred_sentiment:\n",
    "            score += 1\n",
    "                        \n",
    "    return score / len(jsons) * 100"
   ]
  },
  {
   "cell_type": "markdown",
   "id": "labeled-color",
   "metadata": {},
   "source": [
    "Как мы видим с помощью амазон сервиса мы получили крайне низкий результат accuracy  \n",
    "Лишь немного выше чем рандомный выбор с вероятностью угадать 1/3"
   ]
  },
  {
   "cell_type": "code",
   "execution_count": 12,
   "id": "negative-angola",
   "metadata": {},
   "outputs": [
    {
     "name": "stdout",
     "output_type": "stream",
     "text": [
      "Accuracy = 39.499270782693245%\n"
     ]
    }
   ],
   "source": [
    "accuracy = get_accuracy(\"input_data/sentiment_from_comprehend.txt\")\n",
    "print(f\"Accuracy = {accuracy}%\")"
   ]
  },
  {
   "cell_type": "markdown",
   "id": "annual-marshall",
   "metadata": {},
   "source": [
    "Нормализовать данные и снова посмотреть на окрас с помощью Amazon Comprehend  "
   ]
  },
  {
   "cell_type": "markdown",
   "id": "expected-making",
   "metadata": {},
   "source": [
    "Теперь попробуем всё тоже самое, только удалим стоп-слова и преобразуем все слова в начальную форму.  \n",
    "Для этого создадим ещё один датафрейм, потому что тот нам еще понадобится"
   ]
  },
  {
   "cell_type": "code",
   "execution_count": 14,
   "id": "broken-durham",
   "metadata": {},
   "outputs": [],
   "source": [
    "# преобразуем в начальную форму и удаляем стоп-слова\n",
    "\n",
    "list_of_twitts = list(clean_twitts['OriginalTweet'])\n",
    "out_list = []\n",
    "\n",
    "morph = pymorphy2.MorphAnalyzer(lang='uk')\n",
    "\n",
    "for twitt in list_of_twitts:\n",
    "    # удаляем стоп-слова\n",
    "    filtered_words = [word for word in twitt.split(\" \") if word not in stopwords.words('english')]\n",
    "    # преобразуем в начальную форму\n",
    "    normal_form_words = []\n",
    "    for word in filtered_words:\n",
    "        normal_form_words.append(morph.parse(word)[0].normal_form)\n",
    "    # объединяем\n",
    "    out_list.append(' '.join(normal_form_words))"
   ]
  },
  {
   "cell_type": "code",
   "execution_count": 15,
   "id": "excessive-purchase",
   "metadata": {},
   "outputs": [
    {
     "data": {
      "text/html": [
       "<div>\n",
       "<style scoped>\n",
       "    .dataframe tbody tr th:only-of-type {\n",
       "        vertical-align: middle;\n",
       "    }\n",
       "\n",
       "    .dataframe tbody tr th {\n",
       "        vertical-align: top;\n",
       "    }\n",
       "\n",
       "    .dataframe thead th {\n",
       "        text-align: right;\n",
       "    }\n",
       "</style>\n",
       "<table border=\"1\" class=\"dataframe\">\n",
       "  <thead>\n",
       "    <tr style=\"text-align: right;\">\n",
       "      <th></th>\n",
       "      <th>OriginalTweet</th>\n",
       "      <th>Sentiment</th>\n",
       "    </tr>\n",
       "  </thead>\n",
       "  <tbody>\n",
       "    <tr>\n",
       "      <th>0</th>\n",
       "      <td></td>\n",
       "      <td>Neutral</td>\n",
       "    </tr>\n",
       "    <tr>\n",
       "      <th>1</th>\n",
       "      <td>advice talk neighbours family exchange phone n...</td>\n",
       "      <td>Positive</td>\n",
       "    </tr>\n",
       "    <tr>\n",
       "      <th>2</th>\n",
       "      <td>coronavirus australia woolworths give elderly ...</td>\n",
       "      <td>Positive</td>\n",
       "    </tr>\n",
       "    <tr>\n",
       "      <th>3</th>\n",
       "      <td>food stock one empty please panic enough food ...</td>\n",
       "      <td>Positive</td>\n",
       "    </tr>\n",
       "    <tr>\n",
       "      <th>4</th>\n",
       "      <td>ready go supermarket outbreak paranoid food st...</td>\n",
       "      <td>Negative</td>\n",
       "    </tr>\n",
       "  </tbody>\n",
       "</table>\n",
       "</div>"
      ],
      "text/plain": [
       "                                       OriginalTweet Sentiment\n",
       "0                                                      Neutral\n",
       "1  advice talk neighbours family exchange phone n...  Positive\n",
       "2  coronavirus australia woolworths give elderly ...  Positive\n",
       "3  food stock one empty please panic enough food ...  Positive\n",
       "4  ready go supermarket outbreak paranoid food st...  Negative"
      ]
     },
     "execution_count": 15,
     "metadata": {},
     "output_type": "execute_result"
    }
   ],
   "source": [
    "clean_and_normal = pd.DataFrame()\n",
    "\n",
    "clean_and_normal['OriginalTweet'] = out_list\n",
    "clean_and_normal['Sentiment'] = twitter_data['Sentiment']\n",
    "\n",
    "clean_and_normal.head()"
   ]
  },
  {
   "cell_type": "code",
   "execution_count": 17,
   "id": "orange-action",
   "metadata": {},
   "outputs": [],
   "source": [
    "# создадим такие же файлы как и раньше\n",
    "for label in list_of_labels:\n",
    "    get_twitts(clean_and_normal, label, label + '_cleanup')"
   ]
  },
  {
   "cell_type": "markdown",
   "id": "false-campus",
   "metadata": {},
   "source": [
    "3.1) Сравнить полученные результаты  \n",
    "Далее всё тоже самое с Amazon Comprehend  \n",
    "Как можно наблюдать точность уменьшилась, что меня несколько удивило"
   ]
  },
  {
   "cell_type": "code",
   "execution_count": 18,
   "id": "cooked-bride",
   "metadata": {},
   "outputs": [
    {
     "name": "stdout",
     "output_type": "stream",
     "text": [
      "Accuracy = 31.186193485658727%\n"
     ]
    }
   ],
   "source": [
    "accuracy = get_accuracy(\"output\", True)\n",
    "print(f\"Accuracy = {accuracy}%\")"
   ]
  },
  {
   "cell_type": "markdown",
   "id": "intensive-seven",
   "metadata": {},
   "source": [
    "Теперь попробуем написать что-то своё"
   ]
  },
  {
   "cell_type": "code",
   "execution_count": 16,
   "id": "acquired-lucas",
   "metadata": {},
   "outputs": [],
   "source": [
    "# нам нужна функция которая посчитает метрику accuracy схожим способом что и раньше\n",
    "def get_accuracy_from_list(real, predictions):\n",
    "    score = 0\n",
    "    for i in range(len(real)):\n",
    "        if real[i] == predictions[i]:\n",
    "            score += 1\n",
    "    return score / len(real) * 100"
   ]
  },
  {
   "cell_type": "markdown",
   "id": "interstate-steering",
   "metadata": {},
   "source": [
    "Далее поделим наши данные на тестовую и обучающие выборки, сначала для данных, очищенных только от хэштегов, ссылок и прочего"
   ]
  },
  {
   "cell_type": "code",
   "execution_count": 34,
   "id": "antique-medium",
   "metadata": {},
   "outputs": [],
   "source": [
    "X_train, X_test, y_train, y_test = train_test_split(clean_twitts['OriginalTweet'], clean_twitts['Sentiment'], test_size=0.2, random_state=42)"
   ]
  },
  {
   "cell_type": "markdown",
   "id": "hollywood-frame",
   "metadata": {},
   "source": [
    "4) Векторизовать датасет  \n",
    "Преобразуем данные в вектор"
   ]
  },
  {
   "cell_type": "code",
   "execution_count": 18,
   "id": "adequate-capitol",
   "metadata": {},
   "outputs": [],
   "source": [
    "vectorizer = CountVectorizer(analyzer = \"word\",\n",
    "                             tokenizer = None,\n",
    "                             preprocessor = None,\n",
    "                             stop_words = None,\n",
    "                             max_features = 5000)"
   ]
  },
  {
   "cell_type": "code",
   "execution_count": 19,
   "id": "immune-programming",
   "metadata": {},
   "outputs": [],
   "source": [
    "train_data_features = vectorizer.fit_transform(list(X_train)).toarray()"
   ]
  },
  {
   "cell_type": "markdown",
   "id": "vertical-sacrifice",
   "metadata": {},
   "source": [
    "5) Проверить точность предсказаний с помощью RandomForest и LogisticRegression  "
   ]
  },
  {
   "cell_type": "code",
   "execution_count": 51,
   "id": "brilliant-celebrity",
   "metadata": {},
   "outputs": [],
   "source": [
    "scores = cross_val_score(LogisticRegression(), train_data_features, y_train, cv=5)"
   ]
  },
  {
   "cell_type": "markdown",
   "id": "incredible-sucking",
   "metadata": {},
   "source": [
    "Как можно наблюдать даже простая логистическая регрессия справилась с нашей задачей куда лучаше"
   ]
  },
  {
   "cell_type": "code",
   "execution_count": 52,
   "id": "lonely-dance",
   "metadata": {},
   "outputs": [
    {
     "name": "stdout",
     "output_type": "stream",
     "text": [
      "Accuracy: 0.79\n"
     ]
    }
   ],
   "source": [
    "print(\"Accuracy: {:.2f}\".format(np.mean(scores)))"
   ]
  },
  {
   "cell_type": "markdown",
   "id": "ambient-ticket",
   "metadata": {},
   "source": [
    "Всё тоже самое, только для нормализованных данных"
   ]
  },
  {
   "cell_type": "code",
   "execution_count": 37,
   "id": "altered-blend",
   "metadata": {},
   "outputs": [],
   "source": [
    "X_train, X_test, y_train, y_test = train_test_split(clean_and_normal['OriginalTweet'], clean_and_normal['Sentiment'], test_size=0.2, random_state=42)\n",
    "train_data_features = vectorizer.fit_transform(list(X_train)).toarray()\n",
    "scores = cross_val_score(LogisticRegression(), train_data_features, y_train, cv=5)"
   ]
  },
  {
   "cell_type": "code",
   "execution_count": 54,
   "id": "subject-grenada",
   "metadata": {},
   "outputs": [
    {
     "name": "stdout",
     "output_type": "stream",
     "text": [
      "Accuracy: 0.79\n"
     ]
    }
   ],
   "source": [
    "print(\"Accuracy: {:.2f}\".format(np.mean(scores)))"
   ]
  },
  {
   "cell_type": "markdown",
   "id": "qualified-explanation",
   "metadata": {},
   "source": [
    "С RandomForest"
   ]
  },
  {
   "cell_type": "code",
   "execution_count": 55,
   "id": "statistical-dayton",
   "metadata": {},
   "outputs": [
    {
     "name": "stdout",
     "output_type": "stream",
     "text": [
      "Accuracy: 0.74\n"
     ]
    }
   ],
   "source": [
    "train_data_features = vectorizer.fit_transform(list(X_train)).toarray()\n",
    "scores = cross_val_score(RandomForestClassifier(n_estimators = 200), train_data_features, y_train, cv=5)\n",
    "print(\"Accuracy: {:.2f}\".format(np.mean(scores)))"
   ]
  },
  {
   "cell_type": "markdown",
   "id": "painful-knowing",
   "metadata": {},
   "source": [
    "6) Посмотреть самые частые встречающиеся слова в твиттах  \n"
   ]
  },
  {
   "cell_type": "code",
   "execution_count": 20,
   "id": "widespread-server",
   "metadata": {},
   "outputs": [],
   "source": [
    "most_frequent = dict()\n",
    "\n",
    "for tweet in out_list:\n",
    "    words = tweet.split(' ')\n",
    "    for word in words:\n",
    "        if most_frequent.get(word) is None:\n",
    "            most_frequent[word] = 1\n",
    "        else:\n",
    "            most_frequent[word] += 1"
   ]
  },
  {
   "cell_type": "code",
   "execution_count": 36,
   "id": "guided-disease",
   "metadata": {},
   "outputs": [
    {
     "data": {
      "text/plain": [
       "32034"
      ]
     },
     "execution_count": 36,
     "metadata": {},
     "output_type": "execute_result"
    }
   ],
   "source": [
    "len(most_frequent)"
   ]
  },
  {
   "cell_type": "markdown",
   "id": "federal-summit",
   "metadata": {},
   "source": [
    "Посмотрим на самые частые слова в наших твиттах  \n",
    "Как и было ожидаемо самым частым словом в твиттах про коронавирус, стало слово коронавирус..."
   ]
  },
  {
   "cell_type": "code",
   "execution_count": 78,
   "id": "hollow-monaco",
   "metadata": {},
   "outputs": [
    {
     "data": {
      "text/plain": [
       "<AxesSubplot:title={'center':'The most frequent words'}>"
      ]
     },
     "execution_count": 78,
     "metadata": {},
     "output_type": "execute_result"
    },
    {
     "data": {
      "image/png": "[encoded data removed]",
      "text/plain": [
       "<Figure size 432x288 with 1 Axes>"
      ]
     },
     "metadata": {
      "needs_background": "light"
     },
     "output_type": "display_data"
    }
   ],
   "source": [
    "most_frequent = dict(sorted(most_frequent.items(), key=lambda x: x[1], reverse=True))\n",
    "pd.DataFrame.from_dict(most_frequent, orient='index').head(10).plot.bar(title='The most frequent words')"
   ]
  },
  {
   "cell_type": "code",
   "execution_count": 22,
   "id": "ideal-groove",
   "metadata": {},
   "outputs": [],
   "source": [
    "all_words = []\n",
    "for tweet in out_list:\n",
    "    words = tweet.split(' ')\n",
    "    for word in words:\n",
    "        all_words.append(word)"
   ]
  },
  {
   "cell_type": "code",
   "execution_count": 23,
   "id": "organizational-position",
   "metadata": {},
   "outputs": [],
   "source": [
    "all_words = nltk.FreqDist(all_words)"
   ]
  },
  {
   "cell_type": "code",
   "execution_count": 24,
   "id": "legislative-amino",
   "metadata": {},
   "outputs": [
    {
     "data": {
      "text/plain": [
       "FreqDist({'covid': 10545, 'prices': 7841, 'store': 6878, 'food': 6859, 'supermarket': 6692, 'grocery': 6094, 'people': 5547, 'amp': 5187, 'consumer': 4402, 'shopping': 3367, ...})"
      ]
     },
     "execution_count": 24,
     "metadata": {},
     "output_type": "execute_result"
    }
   ],
   "source": [
    "all_words"
   ]
  },
  {
   "cell_type": "markdown",
   "id": "deluxe-explosion",
   "metadata": {},
   "source": [
    "7) Токенизировать твитты  "
   ]
  },
  {
   "cell_type": "code",
   "execution_count": 68,
   "id": "mental-survival",
   "metadata": {},
   "outputs": [],
   "source": [
    "train = []\n",
    "y_list = list(y_train)\n",
    "\n",
    "for i, X in enumerate(list(X_train)):\n",
    "    train.append((X, y_list[i]))\n",
    "    \n",
    "train = train[:5000]"
   ]
  },
  {
   "cell_type": "code",
   "execution_count": 69,
   "id": "bottom-evans",
   "metadata": {},
   "outputs": [],
   "source": [
    "# nltk.download('punkt')\n",
    "from nltk.tokenize import word_tokenize\n",
    "import time\n",
    "\n",
    "start = time.time()\n",
    "\n",
    "all_words = set(word.lower() for passage in train for word in word_tokenize(passage[0]))\n",
    "t = [({word: (word in word_tokenize(x[0])) for word in all_words}, x[1]) for x in train]\n",
    "\n",
    "end = time.time()"
   ]
  },
  {
   "cell_type": "code",
   "execution_count": 70,
   "id": "occupied-detail",
   "metadata": {},
   "outputs": [
    {
     "data": {
      "text/plain": [
       "6670.435631752014"
      ]
     },
     "execution_count": 70,
     "metadata": {},
     "output_type": "execute_result"
    }
   ],
   "source": [
    "end - start"
   ]
  },
  {
   "cell_type": "markdown",
   "id": "adjusted-twelve",
   "metadata": {},
   "source": [
    "8) Посмотреть самые информативные слова  "
   ]
  },
  {
   "cell_type": "code",
   "execution_count": 71,
   "id": "played-weapon",
   "metadata": {},
   "outputs": [
    {
     "name": "stdout",
     "output_type": "stream",
     "text": [
      "Most Informative Features\n",
      "                  demand = True           Negati : Neutra =     40.8 : 1.0\n",
      "                   thank = True           Positi : Neutra =     27.1 : 1.0\n",
      "                   panic = True           Negati : Neutra =     22.8 : 1.0\n",
      "                    good = True           Positi : Neutra =     22.0 : 1.0\n",
      "                 support = True           Positi : Neutra =     21.4 : 1.0\n",
      "                    fear = True           Negati : Positi =     20.5 : 1.0\n",
      "                    stop = True           Negati : Neutra =     19.4 : 1.0\n",
      "                    care = True           Positi : Neutra =     18.5 : 1.0\n",
      "                    scam = True           Negati : Positi =     14.9 : 1.0\n",
      "                    safe = True           Positi : Neutra =     14.8 : 1.0\n"
     ]
    }
   ],
   "source": [
    "classifier = nltk.NaiveBayesClassifier.train(t)\n",
    "classifier.show_most_informative_features()"
   ]
  },
  {
   "cell_type": "markdown",
   "id": "bound-quantum",
   "metadata": {},
   "source": [
    "9) Сделать предсказания с помощью NaiveBayesClassifier и посмотреть точность  "
   ]
  },
  {
   "cell_type": "code",
   "execution_count": 75,
   "id": "advance-excellence",
   "metadata": {},
   "outputs": [],
   "source": [
    "y_test_list = list(y_test)[:300]\n",
    "c = 0\n",
    "for i, test in enumerate(list(X_test)[:300]):\n",
    "    test_sent_features = {word: (word in word_tokenize(test.lower())) for word in all_words}\n",
    "    class_is = classifier.classify(test_sent_features)\n",
    "    if class_is == y_test_list[i]:\n",
    "        c += 1"
   ]
  },
  {
   "cell_type": "code",
   "execution_count": 76,
   "id": "organized-transparency",
   "metadata": {},
   "outputs": [
    {
     "name": "stdout",
     "output_type": "stream",
     "text": [
      "Accuracy = 64.33333333333333%\n"
     ]
    }
   ],
   "source": [
    "accuracy = c / len(y_test_list) * 100        \n",
    "print(f\"Accuracy = {accuracy}%\")"
   ]
  },
  {
   "cell_type": "markdown",
   "id": "amber-blink",
   "metadata": {},
   "source": [
    "Как можно наблюдать самая высокая точность определения эмоционального окраса получилась у метода векторизации текста с последующим применеием логистической регрессии или же случайного леса.  \n",
    "Но последний метод, мог бы показать гораздо лучший результат, если бы выборка была больше. В данном случае я взяла 5000 твиттов, так как процес токенезации даже такого малого количества твиттов занял почти 2 часа.  \n",
    "Больше всего меня разочаровал Amazon, я надеялась получить там куда большую точность в предсказаниях. Я думаю, что это произошло потому что твитты о коронавирусе несколько специфичны и для определения окраса нужна оюучающая выборка именно таких твиттов."
   ]
  },
  {
   "cell_type": "code",
   "execution_count": null,
   "id": "given-request",
   "metadata": {},
   "outputs": [],
   "source": []
  }
 ],
 "metadata": {
  "kernelspec": {
   "display_name": "Python 3",
   "language": "python",
   "name": "python3"
  },
  "language_info": {
   "codemirror_mode": {
    "name": "ipython",
    "version": 3
   },
   "file_extension": ".py",
   "mimetype": "text/x-python",
   "name": "python",
   "nbconvert_exporter": "python",
   "pygments_lexer": "ipython3",
   "version": "3.8.5"
  }
 },
 "nbformat": 4,
 "nbformat_minor": 5
}
