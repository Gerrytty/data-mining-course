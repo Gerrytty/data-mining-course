{
 "cells": [
  {
   "cell_type": "markdown",
   "id": "monthly-pressure",
   "metadata": {},
   "source": [
    "### 2) Датасет: https://www.kaggle.com/radmirzosimov/telecom-users-dataset"
   ]
  },
  {
   "cell_type": "markdown",
   "id": "bottom-attribute",
   "metadata": {},
   "source": [
    "### 3) Описание переменных:  \n",
    "customerID - customer id  \n",
    "gender - client gender (male / female)  \n",
    "SeniorCitizen - is the client retired (1, 0)  \n",
    "Partner - is the client married (Yes, No)  \n",
    "tenure - how many months a person has been a client of the company  \n",
    "PhoneService - is the telephone service connected (Yes, No)  \n",
    "MultipleLines - are multiple phone lines connected (Yes, No, No phone service)  \n",
    "InternetService - client's Internet service provider (DSL, Fiber optic, No)  \n",
    "OnlineSecurity - is the online security service connected (Yes, No, No internet service)  \n",
    "OnlineBackup - is the online backup service activated (Yes, No, No internet service)  \n",
    "DeviceProtection - does the client have equipment insurance (Yes, No, No internet service)  \n",
    "TechSupport - is the technical support service connected (Yes, No, No internet service)  \n",
    "StreamingTV - is the streaming TV service connected (Yes, No, No internet service)  \n",
    "StreamingMovies - is the streaming cinema service activated (Yes, No, No internet service)  \n",
    "Contract - type of customer contract (Month-to-month, One year, Two year)  \n",
    "PaperlessBilling - whether the client uses paperless billing (Yes, No)  \n",
    "PaymentMethod - payment method (Electronic check, Mailed check, Bank transfer (automatic), Credit card (automatic))  \n",
    "MonthlyCharges - current monthly payment  \n",
    "TotalCharges - the total amount that the client paid for the services for the entire time  \n",
    "Churn - whether there was a churn (Yes or No)  "
   ]
  },
  {
   "cell_type": "markdown",
   "id": "piano-immune",
   "metadata": {},
   "source": [
    "### 4) Постановка задачи:  \n",
    "Any business wants to maximize the number of customers. To achieve this goal, it is important not only to try to attract new ones, but also to retain existing ones. Retaining a client will cost the company less than attracting a new one. In addition, a new client may be weakly interested in business services and it will be difficult to work with him, while old clients already have the necessary data on interaction with the service.\n",
    "\n",
    "Accordingly, predicting the churn, we can react in time and try to keep the client who wants to leave. Based on the data about the services that the client uses, we can make him a special offer, trying to change his decision to leave the operator. This will make the task of retention easier to implement than the task of attracting new users, about which we do not know anything yet."
   ]
  },
  {
   "cell_type": "markdown",
   "id": "broken-sacrifice",
   "metadata": {},
   "source": [
    "### Задачи:  \n",
    "0) Проверить есть ли пропущенные значения в данных и при необходимости заполнить их"
   ]
  },
  {
   "cell_type": "code",
   "execution_count": null,
   "id": "varying-chemical",
   "metadata": {},
   "outputs": [],
   "source": []
  }
 ],
 "metadata": {
  "kernelspec": {
   "display_name": "Python 3",
   "language": "python",
   "name": "python3"
  },
  "language_info": {
   "codemirror_mode": {
    "name": "ipython",
    "version": 3
   },
   "file_extension": ".py",
   "mimetype": "text/x-python",
   "name": "python",
   "nbconvert_exporter": "python",
   "pygments_lexer": "ipython3",
   "version": "3.8.5"
  }
 },
 "nbformat": 4,
 "nbformat_minor": 5
}
