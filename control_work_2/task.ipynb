{
 "cells": [
  {
   "cell_type": "markdown",
   "id": "monthly-pressure",
   "metadata": {},
   "source": [
    "### 2) Датасет: https://www.kaggle.com/datatattle/covid-19-nlp-text-classification "
   ]
  },
  {
   "cell_type": "markdown",
   "id": "bottom-attribute",
   "metadata": {},
   "source": [
    "### 3) Описание переменных:  \n",
    "***Columns:***  \n",
    "1) Location - где написан твитт  \n",
    "2) Tweet At - время написания твитта  \n",
    "3) Original Tweet - оригинальный текст    \n",
    "4) Label - эмоциональный окрас    "
   ]
  },
  {
   "cell_type": "markdown",
   "id": "piano-immune",
   "metadata": {},
   "source": [
    "### 4) Постановка задачи:  \n",
    "\n",
    "Сравнить разные методы определения эмоционального окраса твитта"
   ]
  },
  {
   "cell_type": "markdown",
   "id": "broken-sacrifice",
   "metadata": {},
   "source": [
    "### Задачи:  \n",
    "1) Очистить данные от \"мусора\" - хэштегов, ссылок, запятых, точек и прочего.  \n",
    "2) Найти эмоциональный окрас с помощью сервиса Amazon Comprehend\n",
    "3) Нормализовать данные и снова посмотреть на окрас с помощью Amazon Comprehend  \n",
    "3.1) Сравнить полученные результаты  \n",
    "4) Векторизовать датасет  \n",
    "5) Проверить точность предсказаний с помощью RandomForest и LogisticRegression  \n",
    "6) Посмотреть самые частые встречающиеся слова в твиттах  \n",
    "7) Токенизировать твитты  \n",
    "8) Посмотреть самые информативные слова  \n",
    "9) Сделать предсказания с помощью NaiveBayesClassifier и посмотреть точность  "
   ]
  }
 ],
 "metadata": {
  "kernelspec": {
   "display_name": "Python 3",
   "language": "python",
   "name": "python3"
  },
  "language_info": {
   "codemirror_mode": {
    "name": "ipython",
    "version": 3
   },
   "file_extension": ".py",
   "mimetype": "text/x-python",
   "name": "python",
   "nbconvert_exporter": "python",
   "pygments_lexer": "ipython3",
   "version": "3.8.5"
  }
 },
 "nbformat": 4,
 "nbformat_minor": 5
}
