{
  "nbformat": 4,
  "nbformat_minor": 5,
  "metadata": {
    "kernelspec": {
      "display_name": "Python 3",
      "language": "python",
      "name": "python3"
    },
    "language_info": {
      "codemirror_mode": {
        "name": "ipython",
        "version": 3
      },
      "file_extension": ".py",
      "mimetype": "text/x-python",
      "name": "python",
      "nbconvert_exporter": "python",
      "pygments_lexer": "ipython3",
      "version": "3.8.5"
    },
    "colab": {
      "name": "dt_task.ipynb",
      "provenance": [],
      "collapsed_sections": []
    }
  },
  "cells": [
    {
      "cell_type": "code",
      "metadata": {
        "id": "introductory-proxy"
      },
      "source": [
        "import numpy as np\n",
        "import pandas as pd\n",
        "from sklearn.tree import DecisionTreeClassifier\n",
        "from sklearn.model_selection import GridSearchCV"
      ],
      "id": "introductory-proxy",
      "execution_count": null,
      "outputs": []
    },
    {
      "cell_type": "code",
      "metadata": {
        "id": "w67aZadp8jF3",
        "colab": {
          "base_uri": "https://localhost:8080/",
          "height": 598
        },
        "outputId": "d92f5a14-8aff-462f-c9a6-572f29a88676"
      },
      "source": [
        "!wget --no-check-certificate 'https://docs.google.com/uc?export=download&id=1rwQRsjsUgJjFYJH5OhkzOC7PeezZhdEl' -O heart.csv\n",
        "\n",
        "!pip install scikit-learn==0.22.1"
      ],
      "id": "w67aZadp8jF3",
      "execution_count": null,
      "outputs": [
        {
          "output_type": "stream",
          "text": [
            "--2021-05-20 13:25:02--  https://docs.google.com/uc?export=download&id=1rwQRsjsUgJjFYJH5OhkzOC7PeezZhdEl\n",
            "Resolving docs.google.com (docs.google.com)... 142.250.73.206, 2607:f8b0:4004:829::200e\n",
            "Connecting to docs.google.com (docs.google.com)|142.250.73.206|:443... connected.\n",
            "HTTP request sent, awaiting response... 302 Moved Temporarily\n",
            "Location: https://doc-0s-5k-docs.googleusercontent.com/docs/securesc/ha0ro937gcuc7l7deffksulhg5h7mbp1/7g9rd1f108m9p4gcue6vju82788ikm95/1621517100000/07828702499945486090/*/1rwQRsjsUgJjFYJH5OhkzOC7PeezZhdEl?e=download [following]\n",
            "Warning: wildcards not supported in HTTP.\n",
            "--2021-05-20 13:25:03--  https://doc-0s-5k-docs.googleusercontent.com/docs/securesc/ha0ro937gcuc7l7deffksulhg5h7mbp1/7g9rd1f108m9p4gcue6vju82788ikm95/1621517100000/07828702499945486090/*/1rwQRsjsUgJjFYJH5OhkzOC7PeezZhdEl?e=download\n",
            "Resolving doc-0s-5k-docs.googleusercontent.com (doc-0s-5k-docs.googleusercontent.com)... 142.251.33.193, 2607:f8b0:4004:837::2001\n",
            "Connecting to doc-0s-5k-docs.googleusercontent.com (doc-0s-5k-docs.googleusercontent.com)|142.251.33.193|:443... connected.\n",
            "HTTP request sent, awaiting response... 200 OK\n",
            "Length: 11328 (11K) [text/csv]\n",
            "Saving to: ‘heart.csv’\n",
            "\n",
            "heart.csv           100%[===================>]  11.06K  --.-KB/s    in 0s      \n",
            "\n",
            "2021-05-20 13:25:03 (73.3 MB/s) - ‘heart.csv’ saved [11328/11328]\n",
            "\n",
            "Collecting scikit-learn==0.22.1\n",
            "\u001b[?25l  Downloading https://files.pythonhosted.org/packages/73/db/7d8204ddba84ab5d1e4fd1af8f82bbe39c589488bee71e45c662f4144010/scikit_learn-0.22.1-cp37-cp37m-manylinux1_x86_64.whl (7.0MB)\n",
            "\u001b[K     |████████████████████████████████| 7.0MB 25.6MB/s \n",
            "\u001b[?25hRequirement already satisfied: joblib>=0.11 in /usr/local/lib/python3.7/dist-packages (from scikit-learn==0.22.1) (1.0.1)\n",
            "Requirement already satisfied: scipy>=0.17.0 in /usr/local/lib/python3.7/dist-packages (from scikit-learn==0.22.1) (1.4.1)\n",
            "Requirement already satisfied: numpy>=1.11.0 in /usr/local/lib/python3.7/dist-packages (from scikit-learn==0.22.1) (1.19.5)\n",
            "Installing collected packages: scikit-learn\n",
            "  Found existing installation: scikit-learn 0.22.2.post1\n",
            "    Uninstalling scikit-learn-0.22.2.post1:\n",
            "      Successfully uninstalled scikit-learn-0.22.2.post1\n",
            "Successfully installed scikit-learn-0.22.1\n"
          ],
          "name": "stdout"
        },
        {
          "output_type": "display_data",
          "data": {
            "application/vnd.colab-display-data+json": {
              "pip_warning": {
                "packages": [
                  "sklearn"
                ]
              }
            }
          },
          "metadata": {
            "tags": []
          }
        }
      ]
    },
    {
      "cell_type": "code",
      "metadata": {
        "id": "political-attribute",
        "colab": {
          "base_uri": "https://localhost:8080/",
          "height": 204
        },
        "outputId": "dafd86e2-a9c4-4bf7-90d0-5b006d82fc80"
      },
      "source": [
        "data = pd.read_csv('heart.csv')\n",
        "data.head()"
      ],
      "id": "political-attribute",
      "execution_count": null,
      "outputs": [
        {
          "output_type": "execute_result",
          "data": {
            "text/html": [
              "<div>\n",
              "<style scoped>\n",
              "    .dataframe tbody tr th:only-of-type {\n",
              "        vertical-align: middle;\n",
              "    }\n",
              "\n",
              "    .dataframe tbody tr th {\n",
              "        vertical-align: top;\n",
              "    }\n",
              "\n",
              "    .dataframe thead th {\n",
              "        text-align: right;\n",
              "    }\n",
              "</style>\n",
              "<table border=\"1\" class=\"dataframe\">\n",
              "  <thead>\n",
              "    <tr style=\"text-align: right;\">\n",
              "      <th></th>\n",
              "      <th>age</th>\n",
              "      <th>sex</th>\n",
              "      <th>cp</th>\n",
              "      <th>trestbps</th>\n",
              "      <th>chol</th>\n",
              "      <th>fbs</th>\n",
              "      <th>restecg</th>\n",
              "      <th>thalach</th>\n",
              "      <th>exang</th>\n",
              "      <th>oldpeak</th>\n",
              "      <th>slope</th>\n",
              "      <th>ca</th>\n",
              "      <th>thal</th>\n",
              "      <th>target</th>\n",
              "    </tr>\n",
              "  </thead>\n",
              "  <tbody>\n",
              "    <tr>\n",
              "      <th>0</th>\n",
              "      <td>63</td>\n",
              "      <td>1</td>\n",
              "      <td>3</td>\n",
              "      <td>145</td>\n",
              "      <td>233</td>\n",
              "      <td>1</td>\n",
              "      <td>0</td>\n",
              "      <td>150</td>\n",
              "      <td>0</td>\n",
              "      <td>2.3</td>\n",
              "      <td>0</td>\n",
              "      <td>0</td>\n",
              "      <td>1</td>\n",
              "      <td>1</td>\n",
              "    </tr>\n",
              "    <tr>\n",
              "      <th>1</th>\n",
              "      <td>37</td>\n",
              "      <td>1</td>\n",
              "      <td>2</td>\n",
              "      <td>130</td>\n",
              "      <td>250</td>\n",
              "      <td>0</td>\n",
              "      <td>1</td>\n",
              "      <td>187</td>\n",
              "      <td>0</td>\n",
              "      <td>3.5</td>\n",
              "      <td>0</td>\n",
              "      <td>0</td>\n",
              "      <td>2</td>\n",
              "      <td>1</td>\n",
              "    </tr>\n",
              "    <tr>\n",
              "      <th>2</th>\n",
              "      <td>41</td>\n",
              "      <td>0</td>\n",
              "      <td>1</td>\n",
              "      <td>130</td>\n",
              "      <td>204</td>\n",
              "      <td>0</td>\n",
              "      <td>0</td>\n",
              "      <td>172</td>\n",
              "      <td>0</td>\n",
              "      <td>1.4</td>\n",
              "      <td>2</td>\n",
              "      <td>0</td>\n",
              "      <td>2</td>\n",
              "      <td>1</td>\n",
              "    </tr>\n",
              "    <tr>\n",
              "      <th>3</th>\n",
              "      <td>56</td>\n",
              "      <td>1</td>\n",
              "      <td>1</td>\n",
              "      <td>120</td>\n",
              "      <td>236</td>\n",
              "      <td>0</td>\n",
              "      <td>1</td>\n",
              "      <td>178</td>\n",
              "      <td>0</td>\n",
              "      <td>0.8</td>\n",
              "      <td>2</td>\n",
              "      <td>0</td>\n",
              "      <td>2</td>\n",
              "      <td>1</td>\n",
              "    </tr>\n",
              "    <tr>\n",
              "      <th>4</th>\n",
              "      <td>57</td>\n",
              "      <td>0</td>\n",
              "      <td>0</td>\n",
              "      <td>120</td>\n",
              "      <td>354</td>\n",
              "      <td>0</td>\n",
              "      <td>1</td>\n",
              "      <td>163</td>\n",
              "      <td>1</td>\n",
              "      <td>0.6</td>\n",
              "      <td>2</td>\n",
              "      <td>0</td>\n",
              "      <td>2</td>\n",
              "      <td>1</td>\n",
              "    </tr>\n",
              "  </tbody>\n",
              "</table>\n",
              "</div>"
            ],
            "text/plain": [
              "   age  sex  cp  trestbps  chol  fbs  ...  exang  oldpeak  slope  ca  thal  target\n",
              "0   63    1   3       145   233    1  ...      0      2.3      0   0     1       1\n",
              "1   37    1   2       130   250    0  ...      0      3.5      0   0     2       1\n",
              "2   41    0   1       130   204    0  ...      0      1.4      2   0     2       1\n",
              "3   56    1   1       120   236    0  ...      0      0.8      2   0     2       1\n",
              "4   57    0   0       120   354    0  ...      1      0.6      2   0     2       1\n",
              "\n",
              "[5 rows x 14 columns]"
            ]
          },
          "metadata": {
            "tags": []
          },
          "execution_count": 3
        }
      ]
    },
    {
      "cell_type": "code",
      "metadata": {
        "id": "common-taxation",
        "colab": {
          "base_uri": "https://localhost:8080/"
        },
        "outputId": "774878ae-c5b5-4e6b-d3cf-abe969ed8987"
      },
      "source": [
        "from sklearn.model_selection import train_test_split\n",
        "X_train, X_test, y_train, y_test = train_test_split(data.drop('target', axis=1), data['target'], test_size=0.25, random_state=13)\n",
        "X_train.shape, X_test.shape"
      ],
      "id": "common-taxation",
      "execution_count": null,
      "outputs": [
        {
          "output_type": "execute_result",
          "data": {
            "text/plain": [
              "((227, 13), (76, 13))"
            ]
          },
          "metadata": {
            "tags": []
          },
          "execution_count": 4
        }
      ]
    },
    {
      "cell_type": "code",
      "metadata": {
        "id": "fourth-quantity"
      },
      "source": [
        "tree = DecisionTreeClassifier(random_state=13, max_depth=None).fit(X_train, y_train)"
      ],
      "id": "fourth-quantity",
      "execution_count": null,
      "outputs": []
    },
    {
      "cell_type": "code",
      "metadata": {
        "id": "governmental-fiction"
      },
      "source": [
        "predicted_test = tree.predict(X_test)\n",
        "predicted_train = tree.predict(X_train)"
      ],
      "id": "governmental-fiction",
      "execution_count": null,
      "outputs": []
    },
    {
      "cell_type": "code",
      "metadata": {
        "id": "minor-variation"
      },
      "source": [
        "def get_percent(data1, data2):\n",
        "    c = 0\n",
        "    for i in range(len(data1)):\n",
        "        if data1[i] == data2[i]:\n",
        "            c += 1\n",
        "            \n",
        "    return c / len(data1) * 100"
      ],
      "id": "minor-variation",
      "execution_count": null,
      "outputs": []
    },
    {
      "cell_type": "markdown",
      "metadata": {
        "id": "saving-funeral"
      },
      "source": [
        "Как видно из следующих цифр, можно наблюдать некий процент переобучения так как, на обучающей выборке процент правильных ответов составляет 100, на тестовой же около 65 процентов.  \n",
        "Это говорит нам о том, что наше дерево идельно подстроилось под обучающую выборку, но плохо справляется с тестовой."
      ],
      "id": "saving-funeral"
    },
    {
      "cell_type": "code",
      "metadata": {
        "id": "wired-ideal",
        "colab": {
          "base_uri": "https://localhost:8080/"
        },
        "outputId": "9f8cc998-6b16-4084-85ff-5ae52f2228ac"
      },
      "source": [
        "print(f\"Процент правильных ответов на обучающей выборке = {get_percent(list(predicted_train), list(y_train))}%\")"
      ],
      "id": "wired-ideal",
      "execution_count": null,
      "outputs": [
        {
          "output_type": "stream",
          "text": [
            "Процент правильных ответов на обучающей выборке = 100.0%\n"
          ],
          "name": "stdout"
        }
      ]
    },
    {
      "cell_type": "code",
      "metadata": {
        "id": "increased-letter",
        "colab": {
          "base_uri": "https://localhost:8080/"
        },
        "outputId": "b334c890-8577-4a0b-f8c3-4d6939c32402"
      },
      "source": [
        "print(f\"Процент правильных ответов на тестовой выборке = {get_percent(list(predicted_test), list(y_test))}%\")"
      ],
      "id": "increased-letter",
      "execution_count": null,
      "outputs": [
        {
          "output_type": "stream",
          "text": [
            "Процент правильных ответов на тестовой выборке = 67.10526315789474%\n"
          ],
          "name": "stdout"
        }
      ]
    },
    {
      "cell_type": "code",
      "metadata": {
        "id": "cheap-visiting"
      },
      "source": [
        "greeded_tree = DecisionTreeClassifier(random_state=13)"
      ],
      "id": "cheap-visiting",
      "execution_count": null,
      "outputs": []
    },
    {
      "cell_type": "code",
      "metadata": {
        "id": "organized-cotton"
      },
      "source": [
        "param_grid = {\n",
        "    \"max_depth\": [3, 4, 5, 6, 7, 8, 9, 10, None],\n",
        "    \"max_features\": ['auto', 'log2', None],\n",
        "    \"min_samples_leaf\": range(1, 10),\n",
        "    \"min_samples_split\": range(2, 10),\n",
        "    \"criterion\": ['gini', 'entropy']\n",
        "}"
      ],
      "id": "organized-cotton",
      "execution_count": null,
      "outputs": []
    },
    {
      "cell_type": "code",
      "metadata": {
        "id": "robust-tribune"
      },
      "source": [
        "clf = GridSearchCV(greeded_tree, param_grid, cv=5, scoring='accuracy')"
      ],
      "id": "robust-tribune",
      "execution_count": null,
      "outputs": []
    },
    {
      "cell_type": "code",
      "metadata": {
        "id": "abstract-straight",
        "colab": {
          "base_uri": "https://localhost:8080/"
        },
        "outputId": "7d6ffc2e-847e-40bd-93cd-110f0e6cfd9f"
      },
      "source": [
        "clf.fit(X_test, y_test)"
      ],
      "id": "abstract-straight",
      "execution_count": null,
      "outputs": [
        {
          "output_type": "execute_result",
          "data": {
            "text/plain": [
              "GridSearchCV(cv=5, error_score=nan,\n",
              "             estimator=DecisionTreeClassifier(ccp_alpha=0.0, class_weight=None,\n",
              "                                              criterion='gini', max_depth=None,\n",
              "                                              max_features=None,\n",
              "                                              max_leaf_nodes=None,\n",
              "                                              min_impurity_decrease=0.0,\n",
              "                                              min_impurity_split=None,\n",
              "                                              min_samples_leaf=1,\n",
              "                                              min_samples_split=2,\n",
              "                                              min_weight_fraction_leaf=0.0,\n",
              "                                              presort='deprecated',\n",
              "                                              random_state=13,\n",
              "                                              splitter='best'),\n",
              "             iid='deprecated', n_jobs=None,\n",
              "             param_grid={'criterion': ['gini', 'entropy'],\n",
              "                         'max_depth': [3, 4, 5, 6, 7, 8, 9, 10, None],\n",
              "                         'max_features': ['auto', 'log2', None],\n",
              "                         'min_samples_leaf': range(1, 10),\n",
              "                         'min_samples_split': range(2, 10)},\n",
              "             pre_dispatch='2*n_jobs', refit=True, return_train_score=False,\n",
              "             scoring='accuracy', verbose=0)"
            ]
          },
          "metadata": {
            "tags": []
          },
          "execution_count": 13
        }
      ]
    },
    {
      "cell_type": "markdown",
      "metadata": {
        "id": "photographic-sound"
      },
      "source": [
        "Теперь посмотрим оптимальные параметры которыем подоюрал Grid Search  \n",
        "Как видно самым оптимальным значением глубины дерева оказалось значение 5"
      ],
      "id": "photographic-sound"
    },
    {
      "cell_type": "code",
      "metadata": {
        "id": "initial-deadline",
        "colab": {
          "base_uri": "https://localhost:8080/"
        },
        "outputId": "4abba1ba-3022-44d9-e047-7da389770f38"
      },
      "source": [
        "clf.best_params_"
      ],
      "id": "initial-deadline",
      "execution_count": null,
      "outputs": [
        {
          "output_type": "execute_result",
          "data": {
            "text/plain": [
              "{'criterion': 'gini',\n",
              " 'max_depth': 5,\n",
              " 'max_features': None,\n",
              " 'min_samples_leaf': 1,\n",
              " 'min_samples_split': 4}"
            ]
          },
          "metadata": {
            "tags": []
          },
          "execution_count": 14
        }
      ]
    },
    {
      "cell_type": "code",
      "metadata": {
        "id": "premium-stocks",
        "colab": {
          "base_uri": "https://localhost:8080/"
        },
        "outputId": "d69bd218-d2fb-4f96-8294-9ed1cfafe811"
      },
      "source": [
        "# Теперь обучим дерево с полученными параметрами, как видим оно не так сильно подстроилось под обучающие данные, но на тестовых данных процент всё равно низкий\n",
        "pred_tree = DecisionTreeClassifier(random_state=13, criterion='gini', max_depth=5, max_features=None, min_samples_leaf=1, min_samples_split=4).fit(X_train, y_train)\n",
        "predicted_test = pred_tree.predict(X_test)\n",
        "predicted_train = pred_tree.predict(X_train)\n",
        "print(f\"Процент правильных ответов на обучающей выборке = {get_percent(list(predicted_train), list(y_train))}%\")\n",
        "print(f\"Процент правильных ответов на тестовой выборке = {get_percent(list(predicted_test), list(y_test))}%\")"
      ],
      "id": "premium-stocks",
      "execution_count": null,
      "outputs": [
        {
          "output_type": "stream",
          "text": [
            "Процент правильных ответов на обучающей выборке = 94.27312775330397%\n",
            "Процент правильных ответов на тестовой выборке = 63.1578947368421%\n"
          ],
          "name": "stdout"
        }
      ]
    }
  ]
}