{
 "cells": [
  {
   "cell_type": "code",
   "execution_count": 1,
   "id": "terminal-thompson",
   "metadata": {},
   "outputs": [],
   "source": [
    "import requests\n",
    "from bs4 import BeautifulSoup\n",
    "import matplotlib.pyplot as plt\n",
    "import json\n",
    "import re\n",
    "import pymorphy2\n",
    "import numpy as np\n",
    "from scipy import spatial\n",
    "import pandas as pd"
   ]
  },
  {
   "cell_type": "code",
   "execution_count": 2,
   "id": "duplicate-interference",
   "metadata": {},
   "outputs": [],
   "source": [
    "themes = [\"sport\", \"science\", \"shopping\", \"travel\"]"
   ]
  },
  {
   "cell_type": "code",
   "execution_count": 3,
   "id": "resident-trinity",
   "metadata": {},
   "outputs": [],
   "source": [
    "def get_world_list_by_theme(theme):\n",
    "    url_of_key_word = f\"https://relatedwords.org/relatedto/{theme}\"\n",
    "    \n",
    "    result = requests.get(url_of_key_word)\n",
    "    soup = BeautifulSoup(result.text)\n",
    "    # get html\n",
    "    # words stored in <script> json\n",
    "    html_of_words = soup.find_all('script', {'id': 'preloadedDataEl'})[0]\n",
    "    # Get list of words from JSON\n",
    "    word_list = json.loads(re.search(r'>(.+)<', str(html_of_words)).group(1))['terms']\n",
    "    return set([word['word'] for word in word_list])"
   ]
  },
  {
   "cell_type": "markdown",
   "id": "interior-alexander",
   "metadata": {},
   "source": [
    "Get dictorinary to words by theme"
   ]
  },
  {
   "cell_type": "code",
   "execution_count": 4,
   "id": "arctic-collaboration",
   "metadata": {},
   "outputs": [],
   "source": [
    "themes_dict = dict()\n",
    "\n",
    "for theme in themes:\n",
    "    themes_dict[theme] = get_world_list_by_theme(theme)"
   ]
  },
  {
   "cell_type": "markdown",
   "id": "turned-palmer",
   "metadata": {},
   "source": [
    "Get set of words in article"
   ]
  },
  {
   "cell_type": "code",
   "execution_count": 5,
   "id": "illegal-scope",
   "metadata": {},
   "outputs": [],
   "source": [
    "with open(\"shoot_the_moon.txt\") as f:\n",
    "    content = f.readlines()\n",
    "\n",
    "content = [x.strip() for x in content]\n",
    "\n",
    "words_set = list(set(' '.join(content).lower().split(\" \")))\n",
    "all_text = ' '.join(content).lower().split(\" \")"
   ]
  },
  {
   "cell_type": "code",
   "execution_count": 6,
   "id": "knowing-eleven",
   "metadata": {},
   "outputs": [],
   "source": [
    "morph = pymorphy2.MorphAnalyzer(lang='uk')"
   ]
  },
  {
   "cell_type": "code",
   "execution_count": 7,
   "id": "protective-lesbian",
   "metadata": {},
   "outputs": [],
   "source": [
    "def get_normal_form(list_of_words):\n",
    "    normal_form = []\n",
    "    for word in list_of_words:\n",
    "        p = morph.parse(word)[0]\n",
    "        normal_form.append(p.normal_form)\n",
    "    return normal_form"
   ]
  },
  {
   "cell_type": "code",
   "execution_count": 8,
   "id": "hourly-stylus",
   "metadata": {},
   "outputs": [],
   "source": [
    "normal_form = get_normal_form(all_text)"
   ]
  },
  {
   "cell_type": "code",
   "execution_count": 9,
   "id": "precise-position",
   "metadata": {},
   "outputs": [],
   "source": [
    "def get_vector(common_set, text_set):\n",
    "    out_vector = np.zeros(len(common_set))\n",
    "\n",
    "    for i, word in enumerate(common_set):\n",
    "        for s in text_set:\n",
    "            if word == s:\n",
    "                out_vector[i] += 1\n",
    "    \n",
    "    return out_vector"
   ]
  },
  {
   "cell_type": "code",
   "execution_count": 10,
   "id": "valid-antarctica",
   "metadata": {},
   "outputs": [
    {
     "data": {
      "text/plain": [
       "{'sport': 0.016740278608315506,\n",
       " 'science': 0.0021124991390083503,\n",
       " 'shopping': 0.0026267016944483412,\n",
       " 'travel': 0.029413260544602693}"
      ]
     },
     "execution_count": 10,
     "metadata": {},
     "output_type": "execute_result"
    }
   ],
   "source": [
    "cosine_sims = dict()\n",
    "\n",
    "for theme in themes:\n",
    "    common_set = list(set(normal_form + list(themes_dict.get(theme))))\n",
    "    \n",
    "    theme_vector = get_vector(common_set, list(themes_dict.get(theme)))\n",
    "    \n",
    "    text_vector = get_vector(common_set, normal_form)\n",
    "    \n",
    "    cosine_sims[theme] = 1 - spatial.distance.cosine(theme_vector, text_vector)\n",
    "    \n",
    "cosine_sims"
   ]
  },
  {
   "cell_type": "code",
   "execution_count": 11,
   "id": "blind-yukon",
   "metadata": {},
   "outputs": [],
   "source": [
    "def jaccard(set1, set2):\n",
    "    return len(set1 & set2) / len(set1 | set2)"
   ]
  },
  {
   "cell_type": "code",
   "execution_count": 12,
   "id": "incomplete-matrix",
   "metadata": {},
   "outputs": [
    {
     "data": {
      "text/plain": [
       "{'sport': 0.02198743575099943,\n",
       " 'science': 0.006403118040089087,\n",
       " 'shopping': 0.008674842955429255,\n",
       " 'travel': 0.016666666666666666}"
      ]
     },
     "execution_count": 12,
     "metadata": {},
     "output_type": "execute_result"
    }
   ],
   "source": [
    "jaccard_sims = dict()\n",
    "\n",
    "for theme in themes:        \n",
    "    jaccard_sims[theme] = jaccard(set(normal_form), themes_dict.get(theme))\n",
    "    \n",
    "jaccard_sims"
   ]
  },
  {
   "cell_type": "markdown",
   "id": "published-funds",
   "metadata": {},
   "source": [
    "Как мы видим из ниже представленных графиков для обоих коэффициентов сходства ближе всего оказываетс тематика спорта, как и было в исходном тексте"
   ]
  },
  {
   "cell_type": "code",
   "execution_count": 13,
   "id": "cognitive-spotlight",
   "metadata": {},
   "outputs": [
    {
     "data": {
      "text/plain": [
       "<AxesSubplot:title={'center':'cosine similarity'}>"
      ]
     },
     "execution_count": 13,
     "metadata": {},
     "output_type": "execute_result"
    },
    {
     "data": {
      "image/png": "[encoded data removed]",
      "text/plain": [
       "<Figure size 432x288 with 1 Axes>"
      ]
     },
     "metadata": {
      "needs_background": "light"
     },
     "output_type": "display_data"
    }
   ],
   "source": [
    "pd.DataFrame.from_dict(cosine_sims, orient='index').plot.bar(title='cosine similarity')"
   ]
  },
  {
   "cell_type": "code",
   "execution_count": 14,
   "id": "daily-google",
   "metadata": {},
   "outputs": [
    {
     "data": {
      "text/plain": [
       "<AxesSubplot:title={'center':'jaccard similarity'}>"
      ]
     },
     "execution_count": 14,
     "metadata": {},
     "output_type": "execute_result"
    },
    {
     "data": {
      "image/png": "[encoded data removed]",
      "text/plain": [
       "<Figure size 432x288 with 1 Axes>"
      ]
     },
     "metadata": {
      "needs_background": "light"
     },
     "output_type": "display_data"
    }
   ],
   "source": [
    "pd.DataFrame.from_dict(jaccard_sims, orient='index').plot.bar(title='jaccard similarity')"
   ]
  }
 ],
 "metadata": {
  "kernelspec": {
   "display_name": "Python 3",
   "language": "python",
   "name": "python3"
  },
  "language_info": {
   "codemirror_mode": {
    "name": "ipython",
    "version": 3
   },
   "file_extension": ".py",
   "mimetype": "text/x-python",
   "name": "python",
   "nbconvert_exporter": "python",
   "pygments_lexer": "ipython3",
   "version": "3.8.5"
  }
 },
 "nbformat": 4,
 "nbformat_minor": 5
}
