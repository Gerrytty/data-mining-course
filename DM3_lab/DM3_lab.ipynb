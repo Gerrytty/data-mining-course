{
 "cells": [
  {
   "cell_type": "markdown",
   "metadata": {
    "id": "S3g4tDtrMoxX"
   },
   "source": [
    "1. На странице в https://en.wikipedia.org/wiki/List_of_Rick_and_Morty_episodes нужно найти таблицу под названием \"Season 1 (2013–14)\". \n",
    "2. С помощью поиска по тегам, нужно сохранить из таблицы следующие колонки: 'Title', 'Directed By', 'U.S. viewers (millions)'. Каждая колонка таблицы должна быть сохранена в отдельную переменную (см. ниже названия), внутри которой лежит список, где первое значение - название колонки. \n",
    "\n",
    "Обратите внимание, положение элемента в ряде с table headers (th) и в обыкновенных рядах (теги td) может не совпадать.\n",
    "\n",
    "Например, колонки 'Title' список будет выглядеть так:  \n",
    "['Title', \"Pilot\", ...остальные значения..., \t\"Ricksy Business\"]\n",
    "\n",
    "Значения для 'U.S. viewers (millions)' на этом этапе могут содержать ссылки (например, '1.10[7]')\n",
    "\n",
    "3. Выведите эти три списка командой  \n",
    "print(titles)  \n",
    "print(directors)  \n",
    "print(viewers)"
   ]
  },
  {
   "cell_type": "code",
   "execution_count": 1,
   "metadata": {
    "id": "KRw05f_FKOXQ"
   },
   "outputs": [],
   "source": [
    "import requests\n",
    "from bs4 import BeautifulSoup"
   ]
  },
  {
   "cell_type": "code",
   "execution_count": 2,
   "metadata": {},
   "outputs": [],
   "source": [
    "res = requests.get('https://en.wikipedia.org/wiki/List_of_Rick_and_Morty_episodes').text"
   ]
  },
  {
   "cell_type": "code",
   "execution_count": 3,
   "metadata": {},
   "outputs": [],
   "source": [
    "soup = BeautifulSoup(res,'lxml')\n",
    "\n",
    "# print(soup.prettify())"
   ]
  },
  {
   "cell_type": "code",
   "execution_count": 4,
   "metadata": {},
   "outputs": [],
   "source": [
    "season_1_table = soup.find_all('table', {'class', 'wikitable', 'plainrowheaders', 'wikiepisodetable'})[1]\n",
    "# season_1_table.prettify()"
   ]
  },
  {
   "cell_type": "code",
   "execution_count": 11,
   "metadata": {},
   "outputs": [],
   "source": [
    "def split_cols(tr, i, elem):\n",
    "    return tr.find_all(elem)[i].get_text().strip()"
   ]
  },
  {
   "cell_type": "code",
   "execution_count": 12,
   "metadata": {},
   "outputs": [
    {
     "data": {
      "text/plain": [
       "['Title',\n",
       " '\"Pilot\"',\n",
       " '\"Lawnmower Dog\"',\n",
       " '\"Anatomy Park\"',\n",
       " '\"M. Night Shaym-Aliens!\"',\n",
       " '\"Meeseeks and Destroy\"',\n",
       " '\"Rick Potion #9\"',\n",
       " '\"Raising Gazorpazorp\"',\n",
       " '\"Rixty Minutes\"',\n",
       " '\"Something Ricked This Way Comes\"',\n",
       " '\"Close Rick-counters of the Rick Kind\"',\n",
       " '\"Ricksy Business\"']"
      ]
     },
     "execution_count": 12,
     "metadata": {},
     "output_type": "execute_result"
    }
   ],
   "source": [
    "list_of_colls = []\n",
    "\n",
    "trs = season_1_table.find_all('tr')\n",
    "\n",
    "titles = [split_cols(trs[0], 2, 'th')]\n",
    "\n",
    "for tr in trs[1:]:\n",
    "    titles.append(split_cols(tr, 1, 'td'))\n",
    "    \n",
    "titles"
   ]
  },
  {
   "cell_type": "code",
   "execution_count": 13,
   "metadata": {},
   "outputs": [
    {
     "data": {
      "text/plain": [
       "['Directed by',\n",
       " 'Justin Roiland',\n",
       " 'John Rice',\n",
       " 'John Rice',\n",
       " 'Jeff Myers',\n",
       " 'Bryan Newton',\n",
       " 'Stephen Sandoval',\n",
       " 'Jeff Myers',\n",
       " 'Bryan Newton',\n",
       " 'John Rice',\n",
       " 'Stephen Sandoval',\n",
       " 'Stephen Sandoval']"
      ]
     },
     "execution_count": 13,
     "metadata": {},
     "output_type": "execute_result"
    }
   ],
   "source": [
    "directors = [split_cols(trs[0], 3, 'th')]\n",
    "\n",
    "for tr in trs[1:]:\n",
    "    directors.append(split_cols(tr, 2, 'td'))\n",
    "\n",
    "directors"
   ]
  },
  {
   "cell_type": "code",
   "execution_count": 30,
   "metadata": {},
   "outputs": [
    {
     "data": {
      "text/plain": [
       "['Title',\n",
       " '1.10[3]',\n",
       " '1.51[4]',\n",
       " '1.30[5]',\n",
       " '1.32[6]',\n",
       " '1.61[7]',\n",
       " '1.75[8]',\n",
       " '1.76[9]',\n",
       " '1.48[10]',\n",
       " '1.54[11]',\n",
       " '1.75[12]',\n",
       " '2.13[13]']"
      ]
     },
     "execution_count": 30,
     "metadata": {},
     "output_type": "execute_result"
    }
   ],
   "source": [
    "viewers = [split_cols(trs[0], 2, 'th')]\n",
    "\n",
    "for tr in trs[1:]:\n",
    "    viewers.append(split_cols(tr, 5, 'td'))\n",
    "\n",
    "viewers"
   ]
  },
  {
   "cell_type": "code",
   "execution_count": 31,
   "metadata": {},
   "outputs": [
    {
     "name": "stdout",
     "output_type": "stream",
     "text": [
      "['Title', '\"Pilot\"', '\"Lawnmower Dog\"', '\"Anatomy Park\"', '\"M. Night Shaym-Aliens!\"', '\"Meeseeks and Destroy\"', '\"Rick Potion #9\"', '\"Raising Gazorpazorp\"', '\"Rixty Minutes\"', '\"Something Ricked This Way Comes\"', '\"Close Rick-counters of the Rick Kind\"', '\"Ricksy Business\"']\n",
      "['Directed by', 'Justin Roiland', 'John Rice', 'John Rice', 'Jeff Myers', 'Bryan Newton', 'Stephen Sandoval', 'Jeff Myers', 'Bryan Newton', 'John Rice', 'Stephen Sandoval', 'Stephen Sandoval']\n",
      "['Title', '1.10[3]', '1.51[4]', '1.30[5]', '1.32[6]', '1.61[7]', '1.75[8]', '1.76[9]', '1.48[10]', '1.54[11]', '1.75[12]', '2.13[13]']\n"
     ]
    }
   ],
   "source": [
    "print(titles)\n",
    "print(directors)\n",
    "print(viewers)"
   ]
  },
  {
   "cell_type": "markdown",
   "metadata": {
    "id": "sZFN--3fNTt2"
   },
   "source": [
    "\n",
    "1. Из списка viewers удалите то, что в wiki было ссылками (номера в квадратных строках) и переведите значения во float.\n",
    "Правильный список viewers будет выглядеть так:  \n",
    "['U.S. viewers(millions)', 1.1 ...]\n",
    "\n",
    "2. Создайте словарь season1, в котором ключ - название эпизода, а значение - список из имени режиссера, количества зрителей (в формате float), и номера эпизода (не учитывая названия колонок в нулевом элементе). Например, пара ключ-значение для первого эпизода будет выглядеть так  \n",
    "`'\"Pilot\"': ['Justin Roiland', 1.1, 1]`\n",
    "2. Напишите функцию, которая берет аргументом название эпизода и печатает следующую строку: {номер эпизода} Episode {название эпизода} (directed by {имя режиссера} was watched by {количество зрителей} million viewers in the US.\n",
    "\n",
    "3. Запустите вашу функцию в цикле для всех эпизодов (не учитывая названия колонки в нулевом элементе).\n",
    "\n",
    "5. Сколько всего зрителей посмотрело эпизоды, которые режиссировал Stephen Sandoval?"
   ]
  },
  {
   "cell_type": "markdown",
   "metadata": {},
   "source": [
    "1"
   ]
  },
  {
   "cell_type": "code",
   "execution_count": 32,
   "metadata": {},
   "outputs": [
    {
     "data": {
      "text/plain": [
       "['Title', 1.1, 1.51, 1.3, 1.32, 1.61, 1.75, 1.76, 1.48, 1.54, 1.75, 2.13]"
      ]
     },
     "execution_count": 32,
     "metadata": {},
     "output_type": "execute_result"
    }
   ],
   "source": [
    "for i in range(1, len(viewers)):\n",
    "    viewers[i] = float(viewers[i].split('[')[0])\n",
    "viewers"
   ]
  },
  {
   "cell_type": "markdown",
   "metadata": {},
   "source": [
    "2"
   ]
  },
  {
   "cell_type": "code",
   "execution_count": 33,
   "metadata": {},
   "outputs": [
    {
     "data": {
      "text/plain": [
       "{'\"Pilot\"': ['Justin Roiland', 1.1, 1],\n",
       " '\"Lawnmower Dog\"': ['John Rice', 1.51, 2],\n",
       " '\"Anatomy Park\"': ['John Rice', 1.3, 3],\n",
       " '\"M. Night Shaym-Aliens!\"': ['Jeff Myers', 1.32, 4],\n",
       " '\"Meeseeks and Destroy\"': ['Bryan Newton', 1.61, 5],\n",
       " '\"Rick Potion #9\"': ['Stephen Sandoval', 1.75, 6],\n",
       " '\"Raising Gazorpazorp\"': ['Jeff Myers', 1.76, 7],\n",
       " '\"Rixty Minutes\"': ['Bryan Newton', 1.48, 8],\n",
       " '\"Something Ricked This Way Comes\"': ['John Rice', 1.54, 9],\n",
       " '\"Close Rick-counters of the Rick Kind\"': ['Stephen Sandoval', 1.75, 10],\n",
       " '\"Ricksy Business\"': ['Stephen Sandoval', 2.13, 11]}"
      ]
     },
     "execution_count": 33,
     "metadata": {},
     "output_type": "execute_result"
    }
   ],
   "source": [
    "season1 = {}\n",
    "\n",
    "for i in range(1,len(titles)):\n",
    "   season1[titles[i]] = [directors[i], viewers[i], i]\n",
    "\n",
    "season1"
   ]
  },
  {
   "cell_type": "markdown",
   "metadata": {},
   "source": [
    "3"
   ]
  },
  {
   "cell_type": "code",
   "execution_count": 38,
   "metadata": {},
   "outputs": [],
   "source": [
    "def episode_info(episode_name):\n",
    "    episode = season1[episode_name]\n",
    "    print(f\"{episode[2]} Episode {episode_name} directed by {episode[0]} was watched by {episode[1]} million viewers in the US\")"
   ]
  },
  {
   "cell_type": "code",
   "execution_count": 39,
   "metadata": {},
   "outputs": [
    {
     "name": "stdout",
     "output_type": "stream",
     "text": [
      "11 Episode \"Ricksy Business\" directed by Stephen Sandoval was watched by 2.13 million viewers in the US\n"
     ]
    }
   ],
   "source": [
    "episode_info('\"Ricksy Business\"')"
   ]
  },
  {
   "cell_type": "markdown",
   "metadata": {},
   "source": [
    "4"
   ]
  },
  {
   "cell_type": "code",
   "execution_count": 40,
   "metadata": {},
   "outputs": [
    {
     "name": "stdout",
     "output_type": "stream",
     "text": [
      "1 Episode \"Pilot\" directed by Justin Roiland was watched by 1.1 million viewers in the US\n",
      "2 Episode \"Lawnmower Dog\" directed by John Rice was watched by 1.51 million viewers in the US\n",
      "3 Episode \"Anatomy Park\" directed by John Rice was watched by 1.3 million viewers in the US\n",
      "4 Episode \"M. Night Shaym-Aliens!\" directed by Jeff Myers was watched by 1.32 million viewers in the US\n",
      "5 Episode \"Meeseeks and Destroy\" directed by Bryan Newton was watched by 1.61 million viewers in the US\n",
      "6 Episode \"Rick Potion #9\" directed by Stephen Sandoval was watched by 1.75 million viewers in the US\n",
      "7 Episode \"Raising Gazorpazorp\" directed by Jeff Myers was watched by 1.76 million viewers in the US\n",
      "8 Episode \"Rixty Minutes\" directed by Bryan Newton was watched by 1.48 million viewers in the US\n",
      "9 Episode \"Something Ricked This Way Comes\" directed by John Rice was watched by 1.54 million viewers in the US\n",
      "10 Episode \"Close Rick-counters of the Rick Kind\" directed by Stephen Sandoval was watched by 1.75 million viewers in the US\n",
      "11 Episode \"Ricksy Business\" directed by Stephen Sandoval was watched by 2.13 million viewers in the US\n"
     ]
    }
   ],
   "source": [
    "for episode in season1:\n",
    "    episode_info(episode)"
   ]
  },
  {
   "cell_type": "markdown",
   "metadata": {},
   "source": [
    "5"
   ]
  },
  {
   "cell_type": "code",
   "execution_count": 41,
   "metadata": {},
   "outputs": [
    {
     "data": {
      "text/plain": [
       "5.63"
      ]
     },
     "execution_count": 41,
     "metadata": {},
     "output_type": "execute_result"
    }
   ],
   "source": [
    "viewers_sum = 0\n",
    "for i in range(1, len(directors)):\n",
    "   if (directors[i] == \"Stephen Sandoval\"):\n",
    "       viewers_sum += viewers[i]\n",
    "        \n",
    "viewers_sum"
   ]
  }
 ],
 "metadata": {
  "colab": {
   "collapsed_sections": [],
   "name": "DM3_lab.ipynb",
   "provenance": []
  },
  "kernelspec": {
   "display_name": "Python 3",
   "language": "python",
   "name": "python3"
  },
  "language_info": {
   "codemirror_mode": {
    "name": "ipython",
    "version": 3
   },
   "file_extension": ".py",
   "mimetype": "text/x-python",
   "name": "python",
   "nbconvert_exporter": "python",
   "pygments_lexer": "ipython3",
   "version": "3.8.5"
  }
 },
 "nbformat": 4,
 "nbformat_minor": 1
}
